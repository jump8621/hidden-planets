{
 "cells": [
  {
   "cell_type": "code",
   "execution_count": 1,
   "metadata": {},
   "outputs": [
    {
     "name": "stdout",
     "output_type": "stream",
     "text": [
      "Requirement already up-to-date: sklearn in c:\\users\\jump1\\anaconda3\\envs\\pythondata\\lib\\site-packages (0.0)\n",
      "Requirement already satisfied, skipping upgrade: scikit-learn in c:\\users\\jump1\\anaconda3\\envs\\pythondata\\lib\\site-packages (from sklearn) (0.24.1)\n",
      "Requirement already satisfied, skipping upgrade: joblib>=0.11 in c:\\users\\jump1\\anaconda3\\envs\\pythondata\\lib\\site-packages (from scikit-learn->sklearn) (0.16.0)\n",
      "Requirement already satisfied, skipping upgrade: numpy>=1.13.3 in c:\\users\\jump1\\anaconda3\\envs\\pythondata\\lib\\site-packages (from scikit-learn->sklearn) (1.17.0)\n",
      "Requirement already satisfied, skipping upgrade: threadpoolctl>=2.0.0 in c:\\users\\jump1\\anaconda3\\envs\\pythondata\\lib\\site-packages (from scikit-learn->sklearn) (2.1.0)\n",
      "Requirement already satisfied, skipping upgrade: scipy>=0.19.1 in c:\\users\\jump1\\anaconda3\\envs\\pythondata\\lib\\site-packages (from scikit-learn->sklearn) (1.5.0)\n"
     ]
    }
   ],
   "source": [
    "# Update sklearn to prevent version mismatches\n",
    "!pip install sklearn --upgrade\n",
    "#upgraded on 1/23/ "
   ]
  },
  {
   "cell_type": "code",
   "execution_count": 2,
   "metadata": {},
   "outputs": [
    {
     "name": "stdout",
     "output_type": "stream",
     "text": [
      "Requirement already satisfied: joblib in c:\\users\\jump1\\anaconda3\\envs\\pythondata\\lib\\site-packages (0.16.0)\n"
     ]
    }
   ],
   "source": [
    "# install joblib. This will be used to save your model. \n",
    "# Restart your kernel after installing \n",
    "!pip install joblib\n",
    "# said requirement already satisfied 1/23"
   ]
  },
  {
   "cell_type": "code",
   "execution_count": 3,
   "metadata": {},
   "outputs": [],
   "source": [
    "# from numpy.random import seed\n",
    "# seed(1)"
   ]
  },
  {
   "cell_type": "code",
   "execution_count": 30,
   "metadata": {},
   "outputs": [],
   "source": [
    "import pandas as pd\n",
    "import numpy as np\n",
    "\n",
    "import warnings\n",
    "warnings.filterwarnings(\"ignore\", category=DeprecationWarning)\n",
    "warnings.filterwarnings(\"ignore\", category=FutureWarning)\n",
    "\n",
    "\n",
    "# Sklearn Evaluation Metrics\n",
    "from sklearn import metrics\n",
    "from sklearn.metrics import mean_squared_error, precision_score, confusion_matrix, accuracy_score\n",
    "\n",
    "# Import packages\n",
    "%matplotlib inline\n",
    "import pandas as pd\n",
    "import numpy as np\n",
    "import matplotlib.pyplot as plt\n",
    "import seaborn as sns\n",
    "\n",
    "# Sklearn Packages\n",
    "from sklearn.linear_model import LogisticRegression\n",
    "from sklearn.tree import DecisionTreeClassifier\n",
    "from sklearn.neighbors import KNeighborsClassifier\n",
    "from sklearn.model_selection import train_test_split, GridSearchCV\n",
    "from sklearn.ensemble import RandomForestClassifier\n",
    "\n",
    "# Sklearn Evaluation Metrics\n",
    "from sklearn import metrics\n",
    "from sklearn.metrics import mean_squared_error, precision_score, confusion_matrix, accuracy_score\n",
    "\n",
    "# Visualizes all the columns\n",
    "pd.set_option('display.max_columns', None)\n",
    "\n",
    "import warnings\n",
    "warnings.filterwarnings(\"ignore\", category=DeprecationWarning)\n",
    "warnings.filterwarnings(\"ignore\", category=FutureWarning)"
   ]
  },
  {
   "cell_type": "markdown",
   "metadata": {},
   "source": [
    "# Read the CSV and Perform Basic Data Cleaning"
   ]
  },
  {
   "cell_type": "code",
   "execution_count": 31,
   "metadata": {},
   "outputs": [
    {
     "data": {
      "text/html": [
       "<div>\n",
       "<style scoped>\n",
       "    .dataframe tbody tr th:only-of-type {\n",
       "        vertical-align: middle;\n",
       "    }\n",
       "\n",
       "    .dataframe tbody tr th {\n",
       "        vertical-align: top;\n",
       "    }\n",
       "\n",
       "    .dataframe thead th {\n",
       "        text-align: right;\n",
       "    }\n",
       "</style>\n",
       "<table border=\"1\" class=\"dataframe\">\n",
       "  <thead>\n",
       "    <tr style=\"text-align: right;\">\n",
       "      <th></th>\n",
       "      <th>koi_disposition</th>\n",
       "      <th>koi_fpflag_nt</th>\n",
       "      <th>koi_fpflag_ss</th>\n",
       "      <th>koi_fpflag_co</th>\n",
       "      <th>koi_fpflag_ec</th>\n",
       "      <th>koi_period</th>\n",
       "      <th>koi_period_err1</th>\n",
       "      <th>koi_period_err2</th>\n",
       "      <th>koi_time0bk</th>\n",
       "      <th>koi_time0bk_err1</th>\n",
       "      <th>koi_time0bk_err2</th>\n",
       "      <th>koi_impact</th>\n",
       "      <th>koi_impact_err1</th>\n",
       "      <th>koi_impact_err2</th>\n",
       "      <th>koi_duration</th>\n",
       "      <th>koi_duration_err1</th>\n",
       "      <th>koi_duration_err2</th>\n",
       "      <th>koi_depth</th>\n",
       "      <th>koi_depth_err1</th>\n",
       "      <th>koi_depth_err2</th>\n",
       "      <th>koi_prad</th>\n",
       "      <th>koi_prad_err1</th>\n",
       "      <th>koi_prad_err2</th>\n",
       "      <th>koi_teq</th>\n",
       "      <th>koi_insol</th>\n",
       "      <th>koi_insol_err1</th>\n",
       "      <th>koi_insol_err2</th>\n",
       "      <th>koi_model_snr</th>\n",
       "      <th>koi_tce_plnt_num</th>\n",
       "      <th>koi_steff</th>\n",
       "      <th>koi_steff_err1</th>\n",
       "      <th>koi_steff_err2</th>\n",
       "      <th>koi_slogg</th>\n",
       "      <th>koi_slogg_err1</th>\n",
       "      <th>koi_slogg_err2</th>\n",
       "      <th>koi_srad</th>\n",
       "      <th>koi_srad_err1</th>\n",
       "      <th>koi_srad_err2</th>\n",
       "      <th>ra</th>\n",
       "      <th>dec</th>\n",
       "      <th>koi_kepmag</th>\n",
       "    </tr>\n",
       "  </thead>\n",
       "  <tbody>\n",
       "    <tr>\n",
       "      <th>0</th>\n",
       "      <td>CONFIRMED</td>\n",
       "      <td>0</td>\n",
       "      <td>0</td>\n",
       "      <td>0</td>\n",
       "      <td>0</td>\n",
       "      <td>54.418383</td>\n",
       "      <td>2.479000e-04</td>\n",
       "      <td>-2.479000e-04</td>\n",
       "      <td>162.513840</td>\n",
       "      <td>0.003520</td>\n",
       "      <td>-0.003520</td>\n",
       "      <td>0.586</td>\n",
       "      <td>0.059</td>\n",
       "      <td>-0.443</td>\n",
       "      <td>4.50700</td>\n",
       "      <td>0.11600</td>\n",
       "      <td>-0.11600</td>\n",
       "      <td>874.8</td>\n",
       "      <td>35.5</td>\n",
       "      <td>-35.5</td>\n",
       "      <td>2.83</td>\n",
       "      <td>0.32</td>\n",
       "      <td>-0.19</td>\n",
       "      <td>443</td>\n",
       "      <td>9.11</td>\n",
       "      <td>2.87</td>\n",
       "      <td>-1.62</td>\n",
       "      <td>25.8</td>\n",
       "      <td>2</td>\n",
       "      <td>5455</td>\n",
       "      <td>81</td>\n",
       "      <td>-81</td>\n",
       "      <td>4.467</td>\n",
       "      <td>0.064</td>\n",
       "      <td>-0.096</td>\n",
       "      <td>0.927</td>\n",
       "      <td>0.105</td>\n",
       "      <td>-0.061</td>\n",
       "      <td>291.93423</td>\n",
       "      <td>48.141651</td>\n",
       "      <td>15.347</td>\n",
       "    </tr>\n",
       "    <tr>\n",
       "      <th>1</th>\n",
       "      <td>FALSE POSITIVE</td>\n",
       "      <td>0</td>\n",
       "      <td>1</td>\n",
       "      <td>0</td>\n",
       "      <td>0</td>\n",
       "      <td>19.899140</td>\n",
       "      <td>1.490000e-05</td>\n",
       "      <td>-1.490000e-05</td>\n",
       "      <td>175.850252</td>\n",
       "      <td>0.000581</td>\n",
       "      <td>-0.000581</td>\n",
       "      <td>0.969</td>\n",
       "      <td>5.126</td>\n",
       "      <td>-0.077</td>\n",
       "      <td>1.78220</td>\n",
       "      <td>0.03410</td>\n",
       "      <td>-0.03410</td>\n",
       "      <td>10829.0</td>\n",
       "      <td>171.0</td>\n",
       "      <td>-171.0</td>\n",
       "      <td>14.60</td>\n",
       "      <td>3.92</td>\n",
       "      <td>-1.31</td>\n",
       "      <td>638</td>\n",
       "      <td>39.30</td>\n",
       "      <td>31.04</td>\n",
       "      <td>-10.49</td>\n",
       "      <td>76.3</td>\n",
       "      <td>1</td>\n",
       "      <td>5853</td>\n",
       "      <td>158</td>\n",
       "      <td>-176</td>\n",
       "      <td>4.544</td>\n",
       "      <td>0.044</td>\n",
       "      <td>-0.176</td>\n",
       "      <td>0.868</td>\n",
       "      <td>0.233</td>\n",
       "      <td>-0.078</td>\n",
       "      <td>297.00482</td>\n",
       "      <td>48.134129</td>\n",
       "      <td>15.436</td>\n",
       "    </tr>\n",
       "    <tr>\n",
       "      <th>2</th>\n",
       "      <td>FALSE POSITIVE</td>\n",
       "      <td>0</td>\n",
       "      <td>1</td>\n",
       "      <td>0</td>\n",
       "      <td>0</td>\n",
       "      <td>1.736952</td>\n",
       "      <td>2.630000e-07</td>\n",
       "      <td>-2.630000e-07</td>\n",
       "      <td>170.307565</td>\n",
       "      <td>0.000115</td>\n",
       "      <td>-0.000115</td>\n",
       "      <td>1.276</td>\n",
       "      <td>0.115</td>\n",
       "      <td>-0.092</td>\n",
       "      <td>2.40641</td>\n",
       "      <td>0.00537</td>\n",
       "      <td>-0.00537</td>\n",
       "      <td>8079.2</td>\n",
       "      <td>12.8</td>\n",
       "      <td>-12.8</td>\n",
       "      <td>33.46</td>\n",
       "      <td>8.50</td>\n",
       "      <td>-2.83</td>\n",
       "      <td>1395</td>\n",
       "      <td>891.96</td>\n",
       "      <td>668.95</td>\n",
       "      <td>-230.35</td>\n",
       "      <td>505.6</td>\n",
       "      <td>1</td>\n",
       "      <td>5805</td>\n",
       "      <td>157</td>\n",
       "      <td>-174</td>\n",
       "      <td>4.564</td>\n",
       "      <td>0.053</td>\n",
       "      <td>-0.168</td>\n",
       "      <td>0.791</td>\n",
       "      <td>0.201</td>\n",
       "      <td>-0.067</td>\n",
       "      <td>285.53461</td>\n",
       "      <td>48.285210</td>\n",
       "      <td>15.597</td>\n",
       "    </tr>\n",
       "    <tr>\n",
       "      <th>3</th>\n",
       "      <td>CONFIRMED</td>\n",
       "      <td>0</td>\n",
       "      <td>0</td>\n",
       "      <td>0</td>\n",
       "      <td>0</td>\n",
       "      <td>2.525592</td>\n",
       "      <td>3.760000e-06</td>\n",
       "      <td>-3.760000e-06</td>\n",
       "      <td>171.595550</td>\n",
       "      <td>0.001130</td>\n",
       "      <td>-0.001130</td>\n",
       "      <td>0.701</td>\n",
       "      <td>0.235</td>\n",
       "      <td>-0.478</td>\n",
       "      <td>1.65450</td>\n",
       "      <td>0.04200</td>\n",
       "      <td>-0.04200</td>\n",
       "      <td>603.3</td>\n",
       "      <td>16.9</td>\n",
       "      <td>-16.9</td>\n",
       "      <td>2.75</td>\n",
       "      <td>0.88</td>\n",
       "      <td>-0.35</td>\n",
       "      <td>1406</td>\n",
       "      <td>926.16</td>\n",
       "      <td>874.33</td>\n",
       "      <td>-314.24</td>\n",
       "      <td>40.9</td>\n",
       "      <td>1</td>\n",
       "      <td>6031</td>\n",
       "      <td>169</td>\n",
       "      <td>-211</td>\n",
       "      <td>4.438</td>\n",
       "      <td>0.070</td>\n",
       "      <td>-0.210</td>\n",
       "      <td>1.046</td>\n",
       "      <td>0.334</td>\n",
       "      <td>-0.133</td>\n",
       "      <td>288.75488</td>\n",
       "      <td>48.226200</td>\n",
       "      <td>15.509</td>\n",
       "    </tr>\n",
       "    <tr>\n",
       "      <th>4</th>\n",
       "      <td>CONFIRMED</td>\n",
       "      <td>0</td>\n",
       "      <td>0</td>\n",
       "      <td>0</td>\n",
       "      <td>0</td>\n",
       "      <td>4.134435</td>\n",
       "      <td>1.050000e-05</td>\n",
       "      <td>-1.050000e-05</td>\n",
       "      <td>172.979370</td>\n",
       "      <td>0.001900</td>\n",
       "      <td>-0.001900</td>\n",
       "      <td>0.762</td>\n",
       "      <td>0.139</td>\n",
       "      <td>-0.532</td>\n",
       "      <td>3.14020</td>\n",
       "      <td>0.06730</td>\n",
       "      <td>-0.06730</td>\n",
       "      <td>686.0</td>\n",
       "      <td>18.7</td>\n",
       "      <td>-18.7</td>\n",
       "      <td>2.77</td>\n",
       "      <td>0.90</td>\n",
       "      <td>-0.30</td>\n",
       "      <td>1160</td>\n",
       "      <td>427.65</td>\n",
       "      <td>420.33</td>\n",
       "      <td>-136.70</td>\n",
       "      <td>40.2</td>\n",
       "      <td>2</td>\n",
       "      <td>6046</td>\n",
       "      <td>189</td>\n",
       "      <td>-232</td>\n",
       "      <td>4.486</td>\n",
       "      <td>0.054</td>\n",
       "      <td>-0.229</td>\n",
       "      <td>0.972</td>\n",
       "      <td>0.315</td>\n",
       "      <td>-0.105</td>\n",
       "      <td>296.28613</td>\n",
       "      <td>48.224670</td>\n",
       "      <td>15.714</td>\n",
       "    </tr>\n",
       "  </tbody>\n",
       "</table>\n",
       "</div>"
      ],
      "text/plain": [
       "  koi_disposition  koi_fpflag_nt  koi_fpflag_ss  koi_fpflag_co  koi_fpflag_ec  \\\n",
       "0       CONFIRMED              0              0              0              0   \n",
       "1  FALSE POSITIVE              0              1              0              0   \n",
       "2  FALSE POSITIVE              0              1              0              0   \n",
       "3       CONFIRMED              0              0              0              0   \n",
       "4       CONFIRMED              0              0              0              0   \n",
       "\n",
       "   koi_period  koi_period_err1  koi_period_err2  koi_time0bk  \\\n",
       "0   54.418383     2.479000e-04    -2.479000e-04   162.513840   \n",
       "1   19.899140     1.490000e-05    -1.490000e-05   175.850252   \n",
       "2    1.736952     2.630000e-07    -2.630000e-07   170.307565   \n",
       "3    2.525592     3.760000e-06    -3.760000e-06   171.595550   \n",
       "4    4.134435     1.050000e-05    -1.050000e-05   172.979370   \n",
       "\n",
       "   koi_time0bk_err1  koi_time0bk_err2  koi_impact  koi_impact_err1  \\\n",
       "0          0.003520         -0.003520       0.586            0.059   \n",
       "1          0.000581         -0.000581       0.969            5.126   \n",
       "2          0.000115         -0.000115       1.276            0.115   \n",
       "3          0.001130         -0.001130       0.701            0.235   \n",
       "4          0.001900         -0.001900       0.762            0.139   \n",
       "\n",
       "   koi_impact_err2  koi_duration  koi_duration_err1  koi_duration_err2  \\\n",
       "0           -0.443       4.50700            0.11600           -0.11600   \n",
       "1           -0.077       1.78220            0.03410           -0.03410   \n",
       "2           -0.092       2.40641            0.00537           -0.00537   \n",
       "3           -0.478       1.65450            0.04200           -0.04200   \n",
       "4           -0.532       3.14020            0.06730           -0.06730   \n",
       "\n",
       "   koi_depth  koi_depth_err1  koi_depth_err2  koi_prad  koi_prad_err1  \\\n",
       "0      874.8            35.5           -35.5      2.83           0.32   \n",
       "1    10829.0           171.0          -171.0     14.60           3.92   \n",
       "2     8079.2            12.8           -12.8     33.46           8.50   \n",
       "3      603.3            16.9           -16.9      2.75           0.88   \n",
       "4      686.0            18.7           -18.7      2.77           0.90   \n",
       "\n",
       "   koi_prad_err2  koi_teq  koi_insol  koi_insol_err1  koi_insol_err2  \\\n",
       "0          -0.19      443       9.11            2.87           -1.62   \n",
       "1          -1.31      638      39.30           31.04          -10.49   \n",
       "2          -2.83     1395     891.96          668.95         -230.35   \n",
       "3          -0.35     1406     926.16          874.33         -314.24   \n",
       "4          -0.30     1160     427.65          420.33         -136.70   \n",
       "\n",
       "   koi_model_snr  koi_tce_plnt_num  koi_steff  koi_steff_err1  koi_steff_err2  \\\n",
       "0           25.8                 2       5455              81             -81   \n",
       "1           76.3                 1       5853             158            -176   \n",
       "2          505.6                 1       5805             157            -174   \n",
       "3           40.9                 1       6031             169            -211   \n",
       "4           40.2                 2       6046             189            -232   \n",
       "\n",
       "   koi_slogg  koi_slogg_err1  koi_slogg_err2  koi_srad  koi_srad_err1  \\\n",
       "0      4.467           0.064          -0.096     0.927          0.105   \n",
       "1      4.544           0.044          -0.176     0.868          0.233   \n",
       "2      4.564           0.053          -0.168     0.791          0.201   \n",
       "3      4.438           0.070          -0.210     1.046          0.334   \n",
       "4      4.486           0.054          -0.229     0.972          0.315   \n",
       "\n",
       "   koi_srad_err2         ra        dec  koi_kepmag  \n",
       "0         -0.061  291.93423  48.141651      15.347  \n",
       "1         -0.078  297.00482  48.134129      15.436  \n",
       "2         -0.067  285.53461  48.285210      15.597  \n",
       "3         -0.133  288.75488  48.226200      15.509  \n",
       "4         -0.105  296.28613  48.224670      15.714  "
      ]
     },
     "execution_count": 31,
     "metadata": {},
     "output_type": "execute_result"
    }
   ],
   "source": [
    "df = pd.read_csv(\"exoplanet_data.csv\")\n",
    "# Drop the null columns where all values are null\n",
    "df = df.dropna(axis='columns', how='all')\n",
    "# Drop the null rows\n",
    "cl_df = df.dropna()\n",
    "cl_df.head()"
   ]
  },
  {
   "cell_type": "code",
   "execution_count": 32,
   "metadata": {},
   "outputs": [],
   "source": [
    "# def evaluation(y_true, y_pred):\n",
    "    \n",
    "# # Print Accuracy, Recall, F1 Score, and Precision metrics.\n",
    "#     print('Evaluation Metrics:')\n",
    "#     print('Accuracy: ' + str(metrics.accuracy_score(y_test, y_pred)*100))\n",
    "#     print('Recall: ' + str(metrics.recall_score(y_test, y_pred, average='weighted')))\n",
    "#     print('F1 Score: ' + str(metrics.f1_score(y_test, y_pred, average='weighted')))\n",
    "#     print('Precision: ' + str(metrics.precision_score(y_test, y_pred, average='weighted')))\n",
    "    \n",
    "\n",
    "\n",
    "# # \\frac{1}{\\sum_{l \\in L} \\left|\\hat{y}_l\\right|} \\sum_{l \\in L} \\left|\\hat{y}_l\\right| P(y_l, \\hat{y}_l)\n",
    "\n",
    "# #    average=micro  average=none\n",
    "# # Print Confusion Matrix\n",
    "#     print('\\nConfusion Matrix:')\n",
    "#     print(' TN,  FP, FN, TP')\n",
    "#     print(confusion_matrix(y_true, y_pred).ravel())\n",
    "    \n",
    "# #     print ('Classification Report : ')\n",
    "# #     print (classification_report(X_actual, Y_predic))\n",
    "    \n",
    "# # Function Prints best parameters for GridSearchCV\n",
    "# def print_results(results):\n",
    "#     print('Best Parameters: {}\\n'.format(results.best_params_))"
   ]
  },
  {
   "cell_type": "markdown",
   "metadata": {},
   "source": [
    "# Select your features (columns)"
   ]
  },
  {
   "cell_type": "code",
   "execution_count": 33,
   "metadata": {},
   "outputs": [],
   "source": [
    "# Set features. This will also be used as your x values.\n",
    "#selected_features = df[['Koi_fpflag_nt', 'koi_fpflag_ss', 'koi_fpflag_co', 'koi_fpflag_ec']]'koi_tce_plnt_num'\n",
    "\n",
    "selected_features = cl_df[['ra', 'dec', 'koi_steff_err1', 'koi_steff_err2', 'koi_model_snr', 'koi_period', 'koi_period_err1', 'koi_period_err2', 'koi_time0bk', 'koi_time0bk_err1', 'koi_time0bk_err2', 'koi_depth', 'koi_depth_err1', 'koi_depth_err2', 'koi_prad', 'koi_prad_err1', 'koi_prad_err2', 'koi_teq', 'koi_insol', 'koi_insol_err1', 'koi_insol_err2', 'koi_duration', 'koi_duration_err1', 'koi_duration_err2', 'koi_impact']]\n",
    "#,,"
   ]
  },
  {
   "cell_type": "markdown",
   "metadata": {},
   "source": [
    "# Create a Train Test Split\n",
    "\n",
    "Use `koi_disposition` for the y values"
   ]
  },
  {
   "cell_type": "code",
   "execution_count": 34,
   "metadata": {},
   "outputs": [
    {
     "name": "stdout",
     "output_type": "stream",
     "text": [
      "(6991, 25) (6991, 1)\n"
     ]
    }
   ],
   "source": [
    "X = selected_features\n",
    "y = cl_df['koi_disposition'].values.reshape(-1,1)\n",
    "print(X.shape, y.shape)\n",
    "\n",
    "# data = X.copy()"
   ]
  },
  {
   "cell_type": "code",
   "execution_count": 35,
   "metadata": {},
   "outputs": [],
   "source": [
    "from sklearn.model_selection import train_test_split\n",
    "\n",
    "X_train, X_test, y_train, y_test = train_test_split(X, y, random_state=42)"
   ]
  },
  {
   "cell_type": "code",
   "execution_count": 36,
   "metadata": {},
   "outputs": [
    {
     "data": {
      "text/html": [
       "<div>\n",
       "<style scoped>\n",
       "    .dataframe tbody tr th:only-of-type {\n",
       "        vertical-align: middle;\n",
       "    }\n",
       "\n",
       "    .dataframe tbody tr th {\n",
       "        vertical-align: top;\n",
       "    }\n",
       "\n",
       "    .dataframe thead th {\n",
       "        text-align: right;\n",
       "    }\n",
       "</style>\n",
       "<table border=\"1\" class=\"dataframe\">\n",
       "  <thead>\n",
       "    <tr style=\"text-align: right;\">\n",
       "      <th></th>\n",
       "      <th>ra</th>\n",
       "      <th>dec</th>\n",
       "      <th>koi_steff_err1</th>\n",
       "      <th>koi_steff_err2</th>\n",
       "      <th>koi_model_snr</th>\n",
       "      <th>koi_period</th>\n",
       "      <th>koi_period_err1</th>\n",
       "      <th>koi_period_err2</th>\n",
       "      <th>koi_time0bk</th>\n",
       "      <th>koi_time0bk_err1</th>\n",
       "      <th>koi_time0bk_err2</th>\n",
       "      <th>koi_depth</th>\n",
       "      <th>koi_depth_err1</th>\n",
       "      <th>koi_depth_err2</th>\n",
       "      <th>koi_prad</th>\n",
       "      <th>koi_prad_err1</th>\n",
       "      <th>koi_prad_err2</th>\n",
       "      <th>koi_teq</th>\n",
       "      <th>koi_insol</th>\n",
       "      <th>koi_insol_err1</th>\n",
       "      <th>koi_insol_err2</th>\n",
       "      <th>koi_duration</th>\n",
       "      <th>koi_duration_err1</th>\n",
       "      <th>koi_duration_err2</th>\n",
       "      <th>koi_impact</th>\n",
       "    </tr>\n",
       "  </thead>\n",
       "  <tbody>\n",
       "    <tr>\n",
       "      <th>6122</th>\n",
       "      <td>294.40472</td>\n",
       "      <td>39.351681</td>\n",
       "      <td>154</td>\n",
       "      <td>-171</td>\n",
       "      <td>10.8</td>\n",
       "      <td>6.768901</td>\n",
       "      <td>7.380000e-05</td>\n",
       "      <td>-7.380000e-05</td>\n",
       "      <td>133.077240</td>\n",
       "      <td>0.008440</td>\n",
       "      <td>-0.008440</td>\n",
       "      <td>123.1</td>\n",
       "      <td>13.2</td>\n",
       "      <td>-13.2</td>\n",
       "      <td>1.24</td>\n",
       "      <td>0.34</td>\n",
       "      <td>-0.23</td>\n",
       "      <td>1017</td>\n",
       "      <td>253.30</td>\n",
       "      <td>204.89</td>\n",
       "      <td>-103.87</td>\n",
       "      <td>3.61600</td>\n",
       "      <td>0.3060</td>\n",
       "      <td>-0.3060</td>\n",
       "      <td>0.150</td>\n",
       "    </tr>\n",
       "    <tr>\n",
       "      <th>6370</th>\n",
       "      <td>284.50391</td>\n",
       "      <td>42.463860</td>\n",
       "      <td>158</td>\n",
       "      <td>-175</td>\n",
       "      <td>13.8</td>\n",
       "      <td>0.733726</td>\n",
       "      <td>6.060000e-06</td>\n",
       "      <td>-6.060000e-06</td>\n",
       "      <td>132.020050</td>\n",
       "      <td>0.007950</td>\n",
       "      <td>-0.007950</td>\n",
       "      <td>114.6</td>\n",
       "      <td>9.3</td>\n",
       "      <td>-9.3</td>\n",
       "      <td>0.86</td>\n",
       "      <td>0.23</td>\n",
       "      <td>-0.06</td>\n",
       "      <td>1867</td>\n",
       "      <td>2891.64</td>\n",
       "      <td>2253.61</td>\n",
       "      <td>-677.78</td>\n",
       "      <td>2.30900</td>\n",
       "      <td>0.2820</td>\n",
       "      <td>-0.2820</td>\n",
       "      <td>0.291</td>\n",
       "    </tr>\n",
       "    <tr>\n",
       "      <th>2879</th>\n",
       "      <td>295.50211</td>\n",
       "      <td>38.983540</td>\n",
       "      <td>151</td>\n",
       "      <td>-189</td>\n",
       "      <td>254.3</td>\n",
       "      <td>7.652707</td>\n",
       "      <td>6.540000e-05</td>\n",
       "      <td>-6.540000e-05</td>\n",
       "      <td>134.460380</td>\n",
       "      <td>0.006190</td>\n",
       "      <td>-0.006190</td>\n",
       "      <td>641.1</td>\n",
       "      <td>42.9</td>\n",
       "      <td>-42.9</td>\n",
       "      <td>3.21</td>\n",
       "      <td>0.97</td>\n",
       "      <td>-0.32</td>\n",
       "      <td>989</td>\n",
       "      <td>226.81</td>\n",
       "      <td>195.16</td>\n",
       "      <td>-64.34</td>\n",
       "      <td>79.89690</td>\n",
       "      <td>0.0000</td>\n",
       "      <td>0.0000</td>\n",
       "      <td>0.970</td>\n",
       "    </tr>\n",
       "    <tr>\n",
       "      <th>107</th>\n",
       "      <td>291.15878</td>\n",
       "      <td>40.750271</td>\n",
       "      <td>76</td>\n",
       "      <td>-85</td>\n",
       "      <td>38.4</td>\n",
       "      <td>7.953547</td>\n",
       "      <td>1.910000e-05</td>\n",
       "      <td>-1.910000e-05</td>\n",
       "      <td>174.662240</td>\n",
       "      <td>0.001820</td>\n",
       "      <td>-0.001820</td>\n",
       "      <td>875.4</td>\n",
       "      <td>25.3</td>\n",
       "      <td>-25.3</td>\n",
       "      <td>2.25</td>\n",
       "      <td>0.07</td>\n",
       "      <td>-0.14</td>\n",
       "      <td>696</td>\n",
       "      <td>55.37</td>\n",
       "      <td>7.15</td>\n",
       "      <td>-10.12</td>\n",
       "      <td>2.63120</td>\n",
       "      <td>0.0595</td>\n",
       "      <td>-0.0595</td>\n",
       "      <td>0.300</td>\n",
       "    </tr>\n",
       "    <tr>\n",
       "      <th>29</th>\n",
       "      <td>292.16705</td>\n",
       "      <td>48.727589</td>\n",
       "      <td>77</td>\n",
       "      <td>-77</td>\n",
       "      <td>696.5</td>\n",
       "      <td>4.959319</td>\n",
       "      <td>5.150000e-07</td>\n",
       "      <td>-5.150000e-07</td>\n",
       "      <td>172.258529</td>\n",
       "      <td>0.000083</td>\n",
       "      <td>-0.000083</td>\n",
       "      <td>9802.0</td>\n",
       "      <td>20.0</td>\n",
       "      <td>-20.0</td>\n",
       "      <td>12.21</td>\n",
       "      <td>1.96</td>\n",
       "      <td>-1.46</td>\n",
       "      <td>1103</td>\n",
       "      <td>349.40</td>\n",
       "      <td>146.52</td>\n",
       "      <td>-93.21</td>\n",
       "      <td>2.22739</td>\n",
       "      <td>0.0075</td>\n",
       "      <td>-0.0075</td>\n",
       "      <td>0.831</td>\n",
       "    </tr>\n",
       "  </tbody>\n",
       "</table>\n",
       "</div>"
      ],
      "text/plain": [
       "             ra        dec  koi_steff_err1  koi_steff_err2  koi_model_snr  \\\n",
       "6122  294.40472  39.351681             154            -171           10.8   \n",
       "6370  284.50391  42.463860             158            -175           13.8   \n",
       "2879  295.50211  38.983540             151            -189          254.3   \n",
       "107   291.15878  40.750271              76             -85           38.4   \n",
       "29    292.16705  48.727589              77             -77          696.5   \n",
       "\n",
       "      koi_period  koi_period_err1  koi_period_err2  koi_time0bk  \\\n",
       "6122    6.768901     7.380000e-05    -7.380000e-05   133.077240   \n",
       "6370    0.733726     6.060000e-06    -6.060000e-06   132.020050   \n",
       "2879    7.652707     6.540000e-05    -6.540000e-05   134.460380   \n",
       "107     7.953547     1.910000e-05    -1.910000e-05   174.662240   \n",
       "29      4.959319     5.150000e-07    -5.150000e-07   172.258529   \n",
       "\n",
       "      koi_time0bk_err1  koi_time0bk_err2  koi_depth  koi_depth_err1  \\\n",
       "6122          0.008440         -0.008440      123.1            13.2   \n",
       "6370          0.007950         -0.007950      114.6             9.3   \n",
       "2879          0.006190         -0.006190      641.1            42.9   \n",
       "107           0.001820         -0.001820      875.4            25.3   \n",
       "29            0.000083         -0.000083     9802.0            20.0   \n",
       "\n",
       "      koi_depth_err2  koi_prad  koi_prad_err1  koi_prad_err2  koi_teq  \\\n",
       "6122           -13.2      1.24           0.34          -0.23     1017   \n",
       "6370            -9.3      0.86           0.23          -0.06     1867   \n",
       "2879           -42.9      3.21           0.97          -0.32      989   \n",
       "107            -25.3      2.25           0.07          -0.14      696   \n",
       "29             -20.0     12.21           1.96          -1.46     1103   \n",
       "\n",
       "      koi_insol  koi_insol_err1  koi_insol_err2  koi_duration  \\\n",
       "6122     253.30          204.89         -103.87       3.61600   \n",
       "6370    2891.64         2253.61         -677.78       2.30900   \n",
       "2879     226.81          195.16          -64.34      79.89690   \n",
       "107       55.37            7.15          -10.12       2.63120   \n",
       "29       349.40          146.52          -93.21       2.22739   \n",
       "\n",
       "      koi_duration_err1  koi_duration_err2  koi_impact  \n",
       "6122             0.3060            -0.3060       0.150  \n",
       "6370             0.2820            -0.2820       0.291  \n",
       "2879             0.0000             0.0000       0.970  \n",
       "107              0.0595            -0.0595       0.300  \n",
       "29               0.0075            -0.0075       0.831  "
      ]
     },
     "execution_count": 36,
     "metadata": {},
     "output_type": "execute_result"
    }
   ],
   "source": [
    "X_train.head()"
   ]
  },
  {
   "cell_type": "markdown",
   "metadata": {},
   "source": [
    "# Pre-processing\n",
    "\n",
    "Scale the data using the MinMaxScaler and perform some feature selection"
   ]
  },
  {
   "cell_type": "code",
   "execution_count": 37,
   "metadata": {
    "scrolled": true
   },
   "outputs": [],
   "source": [
    "from sklearn.preprocessing import LabelEncoder, MinMaxScaler\n",
    "# import tensorflow\n",
    "# tensorflow.keras.__version__\n"
   ]
  },
  {
   "cell_type": "code",
   "execution_count": 55,
   "metadata": {},
   "outputs": [],
   "source": [
    "\n",
    "X_scaler = MinMaxScaler().fit(X_train)\n",
    "\n",
    "X_train_scaler = X_scaler.transform(X_train)\n",
    "X_test_scaler = X_scaler.transform(X_test)"
   ]
  },
  {
   "cell_type": "markdown",
   "metadata": {},
   "source": [
    "# Train the Model\n",
    "\n"
   ]
  },
  {
   "cell_type": "code",
   "execution_count": 39,
   "metadata": {},
   "outputs": [
    {
     "name": "stdout",
     "output_type": "stream",
     "text": [
      "(6991, 25) (6991, 1)\n"
     ]
    }
   ],
   "source": [
    "# X = selected_features\n",
    "# y = cl_df['koi_disposition'].values.reshape(-1,1)\n",
    "# print(X.shape, y.shape)"
   ]
  },
  {
   "cell_type": "code",
   "execution_count": 56,
   "metadata": {},
   "outputs": [
    {
     "name": "stderr",
     "output_type": "stream",
     "text": [
      "C:\\Users\\jump1\\anaconda3\\envs\\PythonData\\lib\\site-packages\\sklearn\\utils\\validation.py:63: DataConversionWarning: A column-vector y was passed when a 1d array was expected. Please change the shape of y to (n_samples, ), for example using ravel().\n",
      "  return f(*args, **kwargs)\n"
     ]
    },
    {
     "data": {
      "text/plain": [
       "RandomForestClassifier(n_estimators=5)"
      ]
     },
     "execution_count": 56,
     "metadata": {},
     "output_type": "execute_result"
    }
   ],
   "source": [
    "# from sklearn.model_selection import train_test_split\n",
    "\n",
    "# X_train, X_test, y_train, y_test = train_test_split(X, y, random_state=1)\n",
    "from sklearn.preprocessing import LabelEncoder\n",
    "\n",
    "from sklearn.ensemble import RandomForestClassifier\n",
    "rf = RandomForestClassifier(n_estimators=5)\n",
    "# rf = rf.fit(iris.data, iris.target)\n",
    "# rf.score(iris.data, iris.target)\n",
    "\n",
    "# from sklearn.linear_model import LogisticRegression\n",
    "# lr = LogisticRegression()\n",
    "# lr\n",
    "\n",
    "label_encoder = LabelEncoder()\n",
    "label_encoder.fit(y_train)\n",
    "encoded_y_train = label_encoder.transform(y_train)\n",
    "encoded_y_test = label_encoder.transform(y_test)\n",
    "\n",
    "encoded_y_train\n",
    "\n",
    "rf.fit(X_train_scaler, encoded_y_train) "
   ]
  },
  {
   "cell_type": "code",
   "execution_count": 57,
   "metadata": {},
   "outputs": [
    {
     "name": "stdout",
     "output_type": "stream",
     "text": [
      "Training Data Score: 0.9677665458706847\n",
      "Testing Data Score: 0.7208237986270023\n"
     ]
    }
   ],
   "source": [
    "training_score = rf.score(X_train_scaler, encoded_y_train)\n",
    "testing_score = rf.score(X_test_scaler, encoded_y_test)\n",
    "\n",
    "# print(f\"Training Data Score: {model.score(X_train_minmax, encoded_y_train)}\")\n",
    "# print(f\"Testing Data Score: {model.score(X_test_minmax, encoded_y_test)}\")\n",
    "print(f\"Training Data Score: {training_score}\")\n",
    "print(f\"Testing Data Score: {testing_score}\")"
   ]
  },
  {
   "cell_type": "code",
   "execution_count": 58,
   "metadata": {},
   "outputs": [
    {
     "data": {
      "text/plain": [
       "[Text(209.9823786365423, 212.71304347826086, 'X[14] <= 0.0\\ngini = 0.632\\nsamples = 3317\\nvalue = [1272, 1433, 2538]'),\n",
       " Text(110.85642500922421, 203.2591304347826, 'X[10] <= 0.984\\ngini = 0.665\\nsamples = 2461\\nvalue = [1162, 1415, 1319]'),\n",
       " Text(33.73547548767967, 193.80521739130435, 'X[5] <= 0.002\\ngini = 0.562\\nsamples = 833\\nvalue = [496, 104, 672]'),\n",
       " Text(2.9217659137577003, 184.3513043478261, 'X[10] <= 0.843\\ngini = 0.173\\nsamples = 128\\nvalue = [16, 3, 183]'),\n",
       " Text(1.6041067761806982, 174.89739130434782, 'X[22] <= 0.01\\ngini = 0.48\\nsamples = 2\\nvalue = [2, 3, 0]'),\n",
       " Text(1.1457905544147846, 165.44347826086957, 'gini = 0.0\\nsamples = 1\\nvalue = [2, 0, 0]'),\n",
       " Text(2.062422997946612, 165.44347826086957, 'gini = 0.0\\nsamples = 1\\nvalue = [0, 3, 0]'),\n",
       " Text(4.2394250513347025, 174.89739130434782, 'X[13] <= 1.0\\ngini = 0.132\\nsamples = 126\\nvalue = [14, 0, 183]'),\n",
       " Text(2.97905544147844, 165.44347826086957, 'X[20] <= 1.0\\ngini = 0.109\\nsamples = 122\\nvalue = [11, 0, 180]'),\n",
       " Text(1.8332648870636552, 155.98956521739132, 'X[12] <= 0.0\\ngini = 0.066\\nsamples = 111\\nvalue = [6, 0, 169]'),\n",
       " Text(1.3749486652977414, 146.53565217391304, 'X[19] <= 0.002\\ngini = 0.045\\nsamples = 109\\nvalue = [4, 0, 169]'),\n",
       " Text(0.9166324435318276, 137.08173913043478, 'gini = 0.0\\nsamples = 88\\nvalue = [0, 0, 147]'),\n",
       " Text(1.8332648870636552, 137.08173913043478, 'X[5] <= 0.001\\ngini = 0.26\\nsamples = 21\\nvalue = [4, 0, 22]'),\n",
       " Text(0.9166324435318276, 127.62782608695652, 'X[10] <= 0.984\\ngini = 0.087\\nsamples = 17\\nvalue = [1, 0, 21]'),\n",
       " Text(0.4583162217659138, 118.17391304347825, 'gini = 0.0\\nsamples = 16\\nvalue = [0, 0, 21]'),\n",
       " Text(1.3749486652977414, 118.17391304347825, 'gini = 0.0\\nsamples = 1\\nvalue = [1, 0, 0]'),\n",
       " Text(2.749897330595483, 127.62782608695652, 'X[13] <= 1.0\\ngini = 0.375\\nsamples = 4\\nvalue = [3, 0, 1]'),\n",
       " Text(2.2915811088295692, 118.17391304347825, 'gini = 0.0\\nsamples = 3\\nvalue = [3, 0, 0]'),\n",
       " Text(3.2082135523613964, 118.17391304347825, 'gini = 0.0\\nsamples = 1\\nvalue = [0, 0, 1]'),\n",
       " Text(2.2915811088295692, 146.53565217391304, 'gini = 0.0\\nsamples = 2\\nvalue = [2, 0, 0]'),\n",
       " Text(4.124845995893224, 155.98956521739132, 'X[21] <= 0.026\\ngini = 0.43\\nsamples = 11\\nvalue = [5, 0, 11]'),\n",
       " Text(3.2082135523613964, 146.53565217391304, 'X[14] <= 0.0\\ngini = 0.165\\nsamples = 7\\nvalue = [1, 0, 10]'),\n",
       " Text(2.749897330595483, 137.08173913043478, 'gini = 0.0\\nsamples = 1\\nvalue = [1, 0, 0]'),\n",
       " Text(3.6665297741273104, 137.08173913043478, 'gini = 0.0\\nsamples = 6\\nvalue = [0, 0, 10]'),\n",
       " Text(5.041478439425052, 146.53565217391304, 'X[23] <= 0.97\\ngini = 0.32\\nsamples = 4\\nvalue = [4, 0, 1]'),\n",
       " Text(4.5831622176591384, 137.08173913043478, 'gini = 0.0\\nsamples = 1\\nvalue = [0, 0, 1]'),\n",
       " Text(5.499794661190966, 137.08173913043478, 'gini = 0.0\\nsamples = 3\\nvalue = [4, 0, 0]'),\n",
       " Text(5.499794661190966, 165.44347826086957, 'X[14] <= 0.0\\ngini = 0.5\\nsamples = 4\\nvalue = [3, 0, 3]'),\n",
       " Text(5.041478439425052, 155.98956521739132, 'gini = 0.0\\nsamples = 3\\nvalue = [0, 0, 3]'),\n",
       " Text(5.95811088295688, 155.98956521739132, 'gini = 0.0\\nsamples = 1\\nvalue = [3, 0, 0]'),\n",
       " Text(64.54918506160165, 184.3513043478261, 'X[22] <= 0.037\\ngini = 0.581\\nsamples = 705\\nvalue = [480, 101, 489]'),\n",
       " Text(48.14826745379877, 174.89739130434782, 'X[6] <= 0.013\\ngini = 0.593\\nsamples = 478\\nvalue = [378, 98, 253]'),\n",
       " Text(37.832571868583166, 165.44347826086957, 'X[21] <= 0.102\\ngini = 0.57\\nsamples = 326\\nvalue = [287, 80, 127]'),\n",
       " Text(29.604363449691995, 155.98956521739132, 'X[2] <= 0.328\\ngini = 0.553\\nsamples = 308\\nvalue = [284, 77, 108]'),\n",
       " Text(29.14604722792608, 146.53565217391304, 'X[7] <= 0.999\\ngini = 0.547\\nsamples = 306\\nvalue = [284, 77, 101]'),\n",
       " Text(17.029312114989736, 137.08173913043478, 'X[14] <= 0.0\\ngini = 0.543\\nsamples = 228\\nvalue = [215, 71, 61]'),\n",
       " Text(6.559650924024641, 127.62782608695652, 'X[8] <= 0.009\\ngini = 0.488\\nsamples = 150\\nvalue = [158, 37, 38]'),\n",
       " Text(4.124845995893224, 118.17391304347825, 'X[11] <= 0.0\\ngini = 0.462\\nsamples = 8\\nvalue = [3, 1, 9]'),\n",
       " Text(3.6665297741273104, 108.72, 'X[22] <= 0.033\\ngini = 0.56\\nsamples = 4\\nvalue = [3, 1, 1]'),\n",
       " Text(3.2082135523613964, 99.26608695652173, 'X[1] <= 0.358\\ngini = 0.5\\nsamples = 2\\nvalue = [0, 1, 1]'),\n",
       " Text(2.749897330595483, 89.81217391304348, 'gini = 0.0\\nsamples = 1\\nvalue = [0, 0, 1]'),\n",
       " Text(3.6665297741273104, 89.81217391304348, 'gini = 0.0\\nsamples = 1\\nvalue = [0, 1, 0]'),\n",
       " Text(4.124845995893224, 99.26608695652173, 'gini = 0.0\\nsamples = 2\\nvalue = [3, 0, 0]'),\n",
       " Text(4.5831622176591384, 108.72, 'gini = 0.0\\nsamples = 4\\nvalue = [0, 0, 8]'),\n",
       " Text(8.994455852156058, 118.17391304347825, 'X[21] <= 0.02\\ngini = 0.459\\nsamples = 142\\nvalue = [155, 36, 29]'),\n",
       " Text(5.499794661190966, 108.72, 'X[16] <= 1.0\\ngini = 0.499\\nsamples = 15\\nvalue = [11, 0, 12]'),\n",
       " Text(5.041478439425052, 99.26608695652173, 'gini = 0.0\\nsamples = 6\\nvalue = [0, 0, 9]'),\n",
       " Text(5.95811088295688, 99.26608695652173, 'X[24] <= 0.003\\ngini = 0.337\\nsamples = 9\\nvalue = [11, 0, 3]'),\n",
       " Text(5.499794661190966, 89.81217391304348, 'X[21] <= 0.014\\ngini = 0.5\\nsamples = 4\\nvalue = [3, 0, 3]'),\n",
       " Text(5.041478439425052, 80.35826086956521, 'gini = 0.0\\nsamples = 2\\nvalue = [0, 0, 3]'),\n",
       " Text(5.95811088295688, 80.35826086956521, 'gini = 0.0\\nsamples = 2\\nvalue = [3, 0, 0]'),\n",
       " Text(6.416427104722793, 89.81217391304348, 'gini = 0.0\\nsamples = 5\\nvalue = [8, 0, 0]'),\n",
       " Text(12.489117043121151, 108.72, 'X[4] <= 0.001\\ngini = 0.425\\nsamples = 127\\nvalue = [144, 36, 17]'),\n",
       " Text(7.791375770020535, 99.26608695652173, 'X[18] <= 0.0\\ngini = 0.25\\nsamples = 80\\nvalue = [109, 4, 14]'),\n",
       " Text(7.333059548254621, 89.81217391304348, 'gini = 0.0\\nsamples = 2\\nvalue = [0, 0, 5]'),\n",
       " Text(8.249691991786449, 89.81217391304348, 'X[8] <= 0.056\\ngini = 0.195\\nsamples = 78\\nvalue = [109, 4, 9]'),\n",
       " Text(7.791375770020535, 80.35826086956521, 'X[16] <= 1.0\\ngini = 0.182\\nsamples = 77\\nvalue = [109, 3, 9]'),\n",
       " Text(6.874743326488707, 70.90434782608696, 'X[17] <= 0.088\\ngini = 0.444\\nsamples = 2\\nvalue = [1, 0, 2]'),\n",
       " Text(6.416427104722793, 61.45043478260868, 'gini = 0.0\\nsamples = 1\\nvalue = [1, 0, 0]'),\n",
       " Text(7.333059548254621, 61.45043478260868, 'gini = 0.0\\nsamples = 1\\nvalue = [0, 0, 2]'),\n",
       " Text(8.708008213552363, 70.90434782608696, 'X[4] <= 0.001\\ngini = 0.158\\nsamples = 75\\nvalue = [108, 3, 7]'),\n",
       " Text(8.249691991786449, 61.45043478260868, 'gini = 0.0\\nsamples = 1\\nvalue = [0, 0, 2]'),\n",
       " Text(9.166324435318277, 61.45043478260868, 'X[21] <= 0.046\\ngini = 0.131\\nsamples = 74\\nvalue = [108, 3, 5]'),\n",
       " Text(8.020533880903491, 51.99652173913043, 'X[16] <= 1.0\\ngini = 0.066\\nsamples = 54\\nvalue = [85, 1, 2]'),\n",
       " Text(7.103901437371664, 42.54260869565218, 'X[17] <= 0.054\\ngini = 0.5\\nsamples = 2\\nvalue = [1, 0, 1]'),\n",
       " Text(6.64558521560575, 33.0886956521739, 'gini = 0.0\\nsamples = 1\\nvalue = [0, 0, 1]'),\n",
       " Text(7.562217659137578, 33.0886956521739, 'gini = 0.0\\nsamples = 1\\nvalue = [1, 0, 0]'),\n",
       " Text(8.937166324435319, 42.54260869565218, 'X[0] <= 0.455\\ngini = 0.046\\nsamples = 52\\nvalue = [84, 1, 1]'),\n",
       " Text(8.478850102669405, 33.0886956521739, 'X[7] <= 0.999\\ngini = 0.185\\nsamples = 18\\nvalue = [18, 1, 1]'),\n",
       " Text(8.020533880903491, 23.634782608695645, 'X[19] <= 0.0\\ngini = 0.1\\nsamples = 17\\nvalue = [18, 1, 0]'),\n",
       " Text(7.562217659137578, 14.180869565217392, 'gini = 0.0\\nsamples = 13\\nvalue = [15, 0, 0]'),\n",
       " Text(8.478850102669405, 14.180869565217392, 'X[9] <= 0.024\\ngini = 0.375\\nsamples = 4\\nvalue = [3, 1, 0]'),\n",
       " Text(8.020533880903491, 4.726956521739112, 'gini = 0.0\\nsamples = 1\\nvalue = [0, 1, 0]'),\n",
       " Text(8.937166324435319, 4.726956521739112, 'gini = 0.0\\nsamples = 3\\nvalue = [3, 0, 0]'),\n",
       " Text(8.937166324435319, 23.634782608695645, 'gini = 0.0\\nsamples = 1\\nvalue = [0, 0, 1]'),\n",
       " Text(9.395482546201233, 33.0886956521739, 'gini = 0.0\\nsamples = 34\\nvalue = [66, 0, 0]'),\n",
       " Text(10.312114989733061, 51.99652173913043, 'X[1] <= 0.177\\ngini = 0.309\\nsamples = 20\\nvalue = [23, 2, 3]'),\n",
       " Text(9.853798767967147, 42.54260869565218, 'gini = 0.0\\nsamples = 2\\nvalue = [0, 0, 2]'),\n",
       " Text(10.770431211498975, 42.54260869565218, 'X[15] <= 0.0\\ngini = 0.21\\nsamples = 18\\nvalue = [23, 2, 1]'),\n",
       " Text(10.312114989733061, 33.0886956521739, 'X[0] <= 0.501\\ngini = 0.625\\nsamples = 3\\nvalue = [1, 2, 1]'),\n",
       " Text(9.853798767967147, 23.634782608695645, 'X[20] <= 1.0\\ngini = 0.5\\nsamples = 2\\nvalue = [1, 0, 1]'),\n",
       " Text(9.395482546201233, 14.180869565217392, 'gini = 0.0\\nsamples = 1\\nvalue = [0, 0, 1]'),\n",
       " Text(10.312114989733061, 14.180869565217392, 'gini = 0.0\\nsamples = 1\\nvalue = [1, 0, 0]'),\n",
       " Text(10.770431211498975, 23.634782608695645, 'gini = 0.0\\nsamples = 1\\nvalue = [0, 2, 0]'),\n",
       " Text(11.228747433264887, 33.0886956521739, 'gini = 0.0\\nsamples = 15\\nvalue = [22, 0, 0]'),\n",
       " Text(8.708008213552363, 80.35826086956521, 'gini = 0.0\\nsamples = 1\\nvalue = [0, 1, 0]'),\n",
       " Text(17.186858316221766, 99.26608695652173, 'X[0] <= 0.554\\ngini = 0.539\\nsamples = 47\\nvalue = [35, 32, 3]'),\n",
       " Text(13.978644763860371, 89.81217391304348, 'X[15] <= 0.0\\ngini = 0.498\\nsamples = 30\\nvalue = [18, 28, 1]'),\n",
       " Text(12.145379876796715, 80.35826086956521, 'X[0] <= 0.128\\ngini = 0.254\\nsamples = 15\\nvalue = [2, 18, 1]'),\n",
       " Text(11.687063655030801, 70.90434782608696, 'gini = 0.0\\nsamples = 1\\nvalue = [1, 0, 0]'),\n",
       " Text(12.60369609856263, 70.90434782608696, 'X[16] <= 1.0\\ngini = 0.185\\nsamples = 14\\nvalue = [1, 18, 1]'),\n",
       " Text(11.687063655030801, 61.45043478260868, 'X[8] <= 0.019\\ngini = 0.105\\nsamples = 12\\nvalue = [0, 17, 1]'),\n",
       " Text(11.228747433264887, 51.99652173913043, 'gini = 0.0\\nsamples = 9\\nvalue = [0, 15, 0]'),\n",
       " Text(12.145379876796715, 51.99652173913043, 'X[16] <= 1.0\\ngini = 0.444\\nsamples = 3\\nvalue = [0, 2, 1]'),\n",
       " Text(11.687063655030801, 42.54260869565218, 'gini = 0.0\\nsamples = 2\\nvalue = [0, 2, 0]'),\n",
       " Text(12.60369609856263, 42.54260869565218, 'gini = 0.0\\nsamples = 1\\nvalue = [0, 0, 1]'),\n",
       " Text(13.520328542094457, 61.45043478260868, 'X[7] <= 0.99\\ngini = 0.5\\nsamples = 2\\nvalue = [1, 1, 0]'),\n",
       " Text(13.062012320328543, 51.99652173913043, 'gini = 0.0\\nsamples = 1\\nvalue = [0, 1, 0]'),\n",
       " Text(13.978644763860371, 51.99652173913043, 'gini = 0.0\\nsamples = 1\\nvalue = [1, 0, 0]'),\n",
       " Text(15.811909650924026, 80.35826086956521, 'X[17] <= 0.042\\ngini = 0.473\\nsamples = 15\\nvalue = [16, 10, 0]'),\n",
       " Text(15.353593429158112, 70.90434782608696, 'gini = 0.0\\nsamples = 4\\nvalue = [9, 0, 0]'),\n",
       " Text(16.27022587268994, 70.90434782608696, 'X[12] <= 0.0\\ngini = 0.484\\nsamples = 11\\nvalue = [7, 10, 0]'),\n",
       " Text(15.353593429158112, 61.45043478260868, 'X[22] <= 0.016\\ngini = 0.408\\nsamples = 6\\nvalue = [5, 2, 0]'),\n",
       " Text(14.895277207392198, 51.99652173913043, 'X[11] <= 0.0\\ngini = 0.444\\nsamples = 3\\nvalue = [1, 2, 0]'),\n",
       " Text(14.436960985626285, 42.54260869565218, 'gini = 0.0\\nsamples = 1\\nvalue = [1, 0, 0]'),\n",
       " Text(15.353593429158112, 42.54260869565218, 'gini = 0.0\\nsamples = 2\\nvalue = [0, 2, 0]'),\n",
       " Text(15.811909650924026, 51.99652173913043, 'gini = 0.0\\nsamples = 3\\nvalue = [4, 0, 0]'),\n",
       " Text(17.186858316221766, 61.45043478260868, 'X[9] <= 0.017\\ngini = 0.32\\nsamples = 5\\nvalue = [2, 8, 0]'),\n",
       " Text(16.728542094455854, 51.99652173913043, 'gini = 0.0\\nsamples = 1\\nvalue = [1, 0, 0]'),\n",
       " Text(17.645174537987682, 51.99652173913043, 'X[22] <= 0.014\\ngini = 0.198\\nsamples = 4\\nvalue = [1, 8, 0]'),\n",
       " Text(17.186858316221766, 42.54260869565218, 'gini = 0.0\\nsamples = 1\\nvalue = [1, 0, 0]'),\n",
       " Text(18.103490759753594, 42.54260869565218, 'gini = 0.0\\nsamples = 3\\nvalue = [0, 8, 0]'),\n",
       " Text(20.395071868583162, 89.81217391304348, 'X[12] <= 0.0\\ngini = 0.416\\nsamples = 17\\nvalue = [17, 4, 2]'),\n",
       " Text(19.93675564681725, 80.35826086956521, 'X[15] <= 0.0\\ngini = 0.327\\nsamples = 15\\nvalue = [17, 2, 2]'),\n",
       " Text(19.478439425051338, 70.90434782608696, 'X[16] <= 1.0\\ngini = 0.265\\nsamples = 14\\nvalue = [17, 2, 1]'),\n",
       " Text(19.020123203285422, 61.45043478260868, 'X[22] <= 0.029\\ngini = 0.105\\nsamples = 13\\nvalue = [17, 0, 1]'),\n",
       " Text(18.56180698151951, 51.99652173913043, 'gini = 0.0\\nsamples = 12\\nvalue = [17, 0, 0]'),\n",
       " Text(19.478439425051338, 51.99652173913043, 'gini = 0.0\\nsamples = 1\\nvalue = [0, 0, 1]'),\n",
       " Text(19.93675564681725, 61.45043478260868, 'gini = 0.0\\nsamples = 1\\nvalue = [0, 2, 0]'),\n",
       " Text(20.395071868583162, 70.90434782608696, 'gini = 0.0\\nsamples = 1\\nvalue = [0, 0, 1]'),\n",
       " Text(20.85338809034908, 80.35826086956521, 'gini = 0.0\\nsamples = 2\\nvalue = [0, 2, 0]'),\n",
       " Text(27.498973305954827, 127.62782608695652, 'X[13] <= 1.0\\ngini = 0.62\\nsamples = 78\\nvalue = [57, 34, 23]'),\n",
       " Text(27.040657084188915, 118.17391304347825, 'X[24] <= 0.005\\ngini = 0.64\\nsamples = 69\\nvalue = [47, 34, 23]'),\n",
       " Text(23.83244353182752, 108.72, 'X[1] <= 0.595\\ngini = 0.521\\nsamples = 32\\nvalue = [28, 19, 2]'),\n",
       " Text(23.374127310061603, 99.26608695652173, 'X[23] <= 0.979\\ngini = 0.547\\nsamples = 24\\nvalue = [17, 19, 2]'),\n",
       " Text(22.22833675564682, 89.81217391304348, 'X[7] <= 0.987\\ngini = 0.18\\nsamples = 6\\nvalue = [9, 0, 1]'),\n",
       " Text(21.770020533880906, 80.35826086956521, 'gini = 0.0\\nsamples = 1\\nvalue = [0, 0, 1]'),\n",
       " Text(22.686652977412734, 80.35826086956521, 'gini = 0.0\\nsamples = 5\\nvalue = [9, 0, 0]'),\n",
       " Text(24.519917864476387, 89.81217391304348, 'X[0] <= 0.477\\ngini = 0.457\\nsamples = 18\\nvalue = [8, 19, 1]'),\n",
       " Text(23.603285420944562, 80.35826086956521, 'X[10] <= 0.971\\ngini = 0.245\\nsamples = 5\\nvalue = [6, 1, 0]'),\n",
       " Text(23.144969199178647, 70.90434782608696, 'gini = 0.0\\nsamples = 1\\nvalue = [0, 1, 0]'),\n",
       " Text(24.061601642710475, 70.90434782608696, 'gini = 0.0\\nsamples = 4\\nvalue = [6, 0, 0]'),\n",
       " Text(25.436550308008215, 80.35826086956521, 'X[21] <= 0.027\\ngini = 0.254\\nsamples = 13\\nvalue = [2, 18, 1]'),\n",
       " Text(24.978234086242303, 70.90434782608696, 'gini = 0.0\\nsamples = 1\\nvalue = [1, 0, 0]'),\n",
       " Text(25.89486652977413, 70.90434782608696, 'X[14] <= 0.0\\ngini = 0.185\\nsamples = 12\\nvalue = [1, 18, 1]'),\n",
       " Text(25.436550308008215, 61.45043478260868, 'gini = 0.0\\nsamples = 10\\nvalue = [0, 18, 0]'),\n",
       " Text(26.353182751540043, 61.45043478260868, 'X[5] <= 0.029\\ngini = 0.5\\nsamples = 2\\nvalue = [1, 0, 1]'),\n",
       " Text(25.89486652977413, 51.99652173913043, 'gini = 0.0\\nsamples = 1\\nvalue = [0, 0, 1]'),\n",
       " Text(26.81149897330596, 51.99652173913043, 'gini = 0.0\\nsamples = 1\\nvalue = [1, 0, 0]'),\n",
       " Text(24.29075975359343, 99.26608695652173, 'gini = 0.0\\nsamples = 8\\nvalue = [11, 0, 0]'),\n",
       " Text(30.24887063655031, 108.72, 'X[1] <= 0.138\\ngini = 0.66\\nsamples = 37\\nvalue = [19, 15, 21]'),\n",
       " Text(29.790554414784395, 99.26608695652173, 'gini = 0.0\\nsamples = 6\\nvalue = [0, 0, 10]'),\n",
       " Text(30.707186858316224, 99.26608695652173, 'X[18] <= 0.0\\ngini = 0.651\\nsamples = 31\\nvalue = [19, 15, 11]'),\n",
       " Text(29.56139630390144, 89.81217391304348, 'X[1] <= 0.65\\ngini = 0.537\\nsamples = 14\\nvalue = [7, 1, 10]'),\n",
       " Text(29.103080082135527, 80.35826086956521, 'X[4] <= 0.002\\ngini = 0.439\\nsamples = 11\\nvalue = [3, 1, 10]'),\n",
       " Text(28.64476386036961, 70.90434782608696, 'X[24] <= 0.01\\ngini = 0.355\\nsamples = 10\\nvalue = [3, 0, 10]'),\n",
       " Text(28.1864476386037, 61.45043478260868, 'X[6] <= 0.005\\ngini = 0.165\\nsamples = 8\\nvalue = [1, 0, 10]'),\n",
       " Text(27.728131416837783, 51.99652173913043, 'X[12] <= 0.0\\ngini = 0.444\\nsamples = 2\\nvalue = [1, 0, 2]'),\n",
       " Text(27.26981519507187, 42.54260869565218, 'gini = 0.0\\nsamples = 1\\nvalue = [1, 0, 0]'),\n",
       " Text(28.1864476386037, 42.54260869565218, 'gini = 0.0\\nsamples = 1\\nvalue = [0, 0, 2]'),\n",
       " Text(28.64476386036961, 51.99652173913043, 'gini = 0.0\\nsamples = 6\\nvalue = [0, 0, 8]'),\n",
       " Text(29.103080082135527, 61.45043478260868, 'gini = 0.0\\nsamples = 2\\nvalue = [2, 0, 0]'),\n",
       " Text(29.56139630390144, 70.90434782608696, 'gini = 0.0\\nsamples = 1\\nvalue = [0, 1, 0]'),\n",
       " Text(30.019712525667355, 80.35826086956521, 'gini = 0.0\\nsamples = 3\\nvalue = [4, 0, 0]'),\n",
       " Text(31.852977412731008, 89.81217391304348, 'X[8] <= 0.023\\ngini = 0.532\\nsamples = 17\\nvalue = [12, 14, 1]'),\n",
       " Text(31.394661190965095, 80.35826086956521, 'X[20] <= 1.0\\ngini = 0.492\\nsamples = 14\\nvalue = [7, 14, 1]'),\n",
       " Text(30.478028747433267, 70.90434782608696, 'X[11] <= 0.0\\ngini = 0.153\\nsamples = 8\\nvalue = [0, 11, 1]'),\n",
       " Text(30.019712525667355, 61.45043478260868, 'X[12] <= 0.0\\ngini = 0.5\\nsamples = 2\\nvalue = [0, 1, 1]'),\n",
       " Text(29.56139630390144, 51.99652173913043, 'gini = 0.0\\nsamples = 1\\nvalue = [0, 1, 0]'),\n",
       " Text(30.478028747433267, 51.99652173913043, 'gini = 0.0\\nsamples = 1\\nvalue = [0, 0, 1]'),\n",
       " Text(30.936344969199183, 61.45043478260868, 'gini = 0.0\\nsamples = 6\\nvalue = [0, 10, 0]'),\n",
       " Text(32.31129363449692, 70.90434782608696, 'X[1] <= 0.51\\ngini = 0.42\\nsamples = 6\\nvalue = [7, 3, 0]'),\n",
       " Text(31.852977412731008, 61.45043478260868, 'gini = 0.0\\nsamples = 4\\nvalue = [7, 0, 0]'),\n",
       " Text(32.76960985626284, 61.45043478260868, 'gini = 0.0\\nsamples = 2\\nvalue = [0, 3, 0]'),\n",
       " Text(32.31129363449692, 80.35826086956521, 'gini = 0.0\\nsamples = 3\\nvalue = [5, 0, 0]'),\n",
       " Text(27.957289527720743, 118.17391304347825, 'gini = 0.0\\nsamples = 9\\nvalue = [10, 0, 0]'),\n",
       " Text(41.26278234086243, 137.08173913043478, 'X[21] <= 0.041\\ngini = 0.516\\nsamples = 78\\nvalue = [69, 6, 40]'),\n",
       " Text(37.83973305954826, 127.62782608695652, 'X[21] <= 0.015\\ngini = 0.454\\nsamples = 60\\nvalue = [65, 5, 24]'),\n",
       " Text(36.32156057494867, 118.17391304347825, 'X[8] <= 0.011\\ngini = 0.278\\nsamples = 3\\nvalue = [0, 1, 5]'),\n",
       " Text(35.86324435318276, 108.72, 'gini = 0.0\\nsamples = 2\\nvalue = [0, 0, 5]'),\n",
       " Text(36.77987679671458, 108.72, 'gini = 0.0\\nsamples = 1\\nvalue = [0, 1, 0]'),\n",
       " Text(39.35790554414785, 118.17391304347825, 'X[0] <= 0.759\\ngini = 0.406\\nsamples = 57\\nvalue = [65, 4, 19]'),\n",
       " Text(37.69650924024641, 108.72, 'X[10] <= 0.968\\ngini = 0.325\\nsamples = 44\\nvalue = [55, 4, 9]'),\n",
       " Text(37.238193018480494, 99.26608695652173, 'gini = 0.0\\nsamples = 1\\nvalue = [0, 0, 1]'),\n",
       " Text(38.154825462012326, 99.26608695652173, 'X[20] <= 1.0\\ngini = 0.308\\nsamples = 43\\nvalue = [55, 4, 8]'),\n",
       " Text(37.69650924024641, 89.81217391304348, 'X[4] <= 0.001\\ngini = 0.291\\nsamples = 42\\nvalue = [55, 4, 7]'),\n",
       " Text(36.20698151950719, 80.35826086956521, 'X[4] <= 0.001\\ngini = 0.187\\nsamples = 38\\nvalue = [53, 2, 4]'),\n",
       " Text(34.602874743326495, 70.90434782608696, 'X[1] <= 0.565\\ngini = 0.119\\nsamples = 32\\nvalue = [45, 2, 1]'),\n",
       " Text(33.686242299794664, 61.45043478260868, 'X[18] <= 0.0\\ngini = 0.054\\nsamples = 23\\nvalue = [35, 0, 1]'),\n",
       " Text(33.22792607802875, 51.99652173913043, 'X[8] <= 0.009\\ngini = 0.245\\nsamples = 5\\nvalue = [6, 0, 1]'),\n",
       " Text(32.76960985626284, 42.54260869565218, 'gini = 0.0\\nsamples = 1\\nvalue = [0, 0, 1]'),\n",
       " Text(33.686242299794664, 42.54260869565218, 'gini = 0.0\\nsamples = 4\\nvalue = [6, 0, 0]'),\n",
       " Text(34.144558521560576, 51.99652173913043, 'gini = 0.0\\nsamples = 18\\nvalue = [29, 0, 0]'),\n",
       " Text(35.51950718685832, 61.45043478260868, 'X[8] <= 0.009\\ngini = 0.278\\nsamples = 9\\nvalue = [10, 2, 0]'),\n",
       " Text(35.06119096509241, 51.99652173913043, 'gini = 0.0\\nsamples = 1\\nvalue = [0, 1, 0]'),\n",
       " Text(35.97782340862423, 51.99652173913043, 'X[21] <= 0.019\\ngini = 0.165\\nsamples = 8\\nvalue = [10, 1, 0]'),\n",
       " Text(35.51950718685832, 42.54260869565218, 'X[16] <= 1.0\\ngini = 0.5\\nsamples = 2\\nvalue = [1, 1, 0]'),\n",
       " Text(35.06119096509241, 33.0886956521739, 'gini = 0.0\\nsamples = 1\\nvalue = [0, 1, 0]'),\n",
       " Text(35.97782340862423, 33.0886956521739, 'gini = 0.0\\nsamples = 1\\nvalue = [1, 0, 0]'),\n",
       " Text(36.436139630390144, 42.54260869565218, 'gini = 0.0\\nsamples = 6\\nvalue = [9, 0, 0]'),\n",
       " Text(37.81108829568789, 70.90434782608696, 'X[21] <= 0.026\\ngini = 0.397\\nsamples = 6\\nvalue = [8, 0, 3]'),\n",
       " Text(37.352772073921976, 61.45043478260868, 'X[1] <= 0.354\\ngini = 0.375\\nsamples = 3\\nvalue = [1, 0, 3]'),\n",
       " Text(36.894455852156064, 51.99652173913043, 'gini = 0.0\\nsamples = 2\\nvalue = [0, 0, 3]'),\n",
       " Text(37.81108829568789, 51.99652173913043, 'gini = 0.0\\nsamples = 1\\nvalue = [1, 0, 0]'),\n",
       " Text(38.2694045174538, 61.45043478260868, 'gini = 0.0\\nsamples = 3\\nvalue = [7, 0, 0]'),\n",
       " Text(39.18603696098563, 80.35826086956521, 'X[8] <= 0.01\\ngini = 0.653\\nsamples = 4\\nvalue = [2, 2, 3]'),\n",
       " Text(38.72772073921971, 70.90434782608696, 'gini = 0.0\\nsamples = 2\\nvalue = [0, 0, 3]'),\n",
       " Text(39.644353182751544, 70.90434782608696, 'X[7] <= 0.999\\ngini = 0.5\\nsamples = 2\\nvalue = [2, 2, 0]'),\n",
       " Text(39.18603696098563, 61.45043478260868, 'gini = 0.0\\nsamples = 1\\nvalue = [0, 2, 0]'),\n",
       " Text(40.10266940451746, 61.45043478260868, 'gini = 0.0\\nsamples = 1\\nvalue = [2, 0, 0]'),\n",
       " Text(38.61314168377824, 89.81217391304348, 'gini = 0.0\\nsamples = 1\\nvalue = [0, 0, 1]'),\n",
       " Text(41.01930184804929, 108.72, 'X[12] <= 0.0\\ngini = 0.5\\nsamples = 13\\nvalue = [10, 0, 10]'),\n",
       " Text(40.56098562628337, 99.26608695652173, 'gini = 0.0\\nsamples = 2\\nvalue = [0, 0, 4]'),\n",
       " Text(41.4776180698152, 99.26608695652173, 'X[0] <= 0.791\\ngini = 0.469\\nsamples = 11\\nvalue = [10, 0, 6]'),\n",
       " Text(40.56098562628337, 89.81217391304348, 'X[2] <= 0.232\\ngini = 0.32\\nsamples = 3\\nvalue = [1, 0, 4]'),\n",
       " Text(40.10266940451746, 80.35826086956521, 'gini = 0.0\\nsamples = 1\\nvalue = [1, 0, 0]'),\n",
       " Text(41.01930184804929, 80.35826086956521, 'gini = 0.0\\nsamples = 2\\nvalue = [0, 0, 4]'),\n",
       " Text(42.394250513347025, 89.81217391304348, 'X[19] <= 0.0\\ngini = 0.298\\nsamples = 8\\nvalue = [9, 0, 2]'),\n",
       " Text(41.93593429158111, 80.35826086956521, 'gini = 0.0\\nsamples = 1\\nvalue = [0, 0, 1]'),\n",
       " Text(42.85256673511294, 80.35826086956521, 'X[6] <= 0.0\\ngini = 0.18\\nsamples = 7\\nvalue = [9, 0, 1]'),\n",
       " Text(42.394250513347025, 70.90434782608696, 'X[15] <= 0.0\\ngini = 0.444\\nsamples = 2\\nvalue = [2, 0, 1]'),\n",
       " Text(41.93593429158111, 61.45043478260868, 'gini = 0.0\\nsamples = 1\\nvalue = [2, 0, 0]'),\n",
       " Text(42.85256673511294, 61.45043478260868, 'gini = 0.0\\nsamples = 1\\nvalue = [0, 0, 1]'),\n",
       " Text(43.31088295687886, 70.90434782608696, 'gini = 0.0\\nsamples = 5\\nvalue = [7, 0, 0]'),\n",
       " Text(44.68583162217659, 127.62782608695652, 'X[5] <= 0.004\\ngini = 0.381\\nsamples = 18\\nvalue = [4, 1, 16]'),\n",
       " Text(44.22751540041068, 118.17391304347825, 'gini = 0.0\\nsamples = 8\\nvalue = [0, 0, 10]'),\n",
       " Text(45.14414784394251, 118.17391304347825, 'X[20] <= 1.0\\ngini = 0.562\\nsamples = 10\\nvalue = [4, 1, 6]'),\n",
       " Text(44.22751540041068, 108.72, 'X[4] <= 0.001\\ngini = 0.56\\nsamples = 5\\nvalue = [3, 1, 1]'),\n",
       " Text(43.76919917864477, 99.26608695652173, 'gini = 0.0\\nsamples = 1\\nvalue = [0, 0, 1]'),\n",
       " Text(44.68583162217659, 99.26608695652173, 'X[16] <= 1.0\\ngini = 0.375\\nsamples = 4\\nvalue = [3, 1, 0]'),\n",
       " Text(44.22751540041068, 89.81217391304348, 'X[11] <= 0.0\\ngini = 0.5\\nsamples = 2\\nvalue = [1, 1, 0]'),\n",
       " Text(43.76919917864477, 80.35826086956521, 'gini = 0.0\\nsamples = 1\\nvalue = [1, 0, 0]'),\n",
       " Text(44.68583162217659, 80.35826086956521, 'gini = 0.0\\nsamples = 1\\nvalue = [0, 1, 0]'),\n",
       " Text(45.14414784394251, 89.81217391304348, 'gini = 0.0\\nsamples = 2\\nvalue = [2, 0, 0]'),\n",
       " Text(46.06078028747434, 108.72, 'X[6] <= 0.001\\ngini = 0.278\\nsamples = 5\\nvalue = [1, 0, 5]'),\n",
       " Text(45.602464065708425, 99.26608695652173, 'gini = 0.0\\nsamples = 1\\nvalue = [1, 0, 0]'),\n",
       " Text(46.51909650924025, 99.26608695652173, 'gini = 0.0\\nsamples = 4\\nvalue = [0, 0, 5]'),\n",
       " Text(30.062679671457907, 146.53565217391304, 'gini = 0.0\\nsamples = 2\\nvalue = [0, 0, 7]'),\n",
       " Text(46.06078028747434, 155.98956521739132, 'X[2] <= 0.104\\ngini = 0.394\\nsamples = 18\\nvalue = [3, 3, 19]'),\n",
       " Text(45.602464065708425, 146.53565217391304, 'gini = 0.0\\nsamples = 1\\nvalue = [2, 0, 0]'),\n",
       " Text(46.51909650924025, 146.53565217391304, 'X[5] <= 0.028\\ngini = 0.299\\nsamples = 17\\nvalue = [1, 3, 19]'),\n",
       " Text(46.06078028747434, 137.08173913043478, 'gini = 0.0\\nsamples = 13\\nvalue = [0, 0, 18]'),\n",
       " Text(46.97741273100616, 137.08173913043478, 'X[19] <= 0.0\\ngini = 0.56\\nsamples = 4\\nvalue = [1, 3, 1]'),\n",
       " Text(46.51909650924025, 127.62782608695652, 'X[1] <= 0.431\\ngini = 0.375\\nsamples = 3\\nvalue = [1, 3, 0]'),\n",
       " Text(46.06078028747434, 118.17391304347825, 'gini = 0.0\\nsamples = 1\\nvalue = [1, 0, 0]'),\n",
       " Text(46.97741273100616, 118.17391304347825, 'gini = 0.0\\nsamples = 2\\nvalue = [0, 3, 0]'),\n",
       " Text(47.43572895277208, 127.62782608695652, 'gini = 0.0\\nsamples = 1\\nvalue = [0, 0, 1]'),\n",
       " Text(58.46396303901438, 165.44347826086957, 'X[15] <= 0.0\\ngini = 0.557\\nsamples = 152\\nvalue = [91, 18, 126]'),\n",
       " Text(55.51355236139631, 155.98956521739132, 'X[2] <= 0.195\\ngini = 0.551\\nsamples = 145\\nvalue = [80, 18, 125]'),\n",
       " Text(50.98767967145791, 146.53565217391304, 'X[12] <= 0.0\\ngini = 0.616\\nsamples = 30\\nvalue = [20, 14, 7]'),\n",
       " Text(49.49815195071869, 137.08173913043478, 'X[2] <= 0.112\\ngini = 0.571\\nsamples = 20\\nvalue = [17, 6, 6]'),\n",
       " Text(48.352361396303905, 127.62782608695652, 'X[21] <= 0.029\\ngini = 0.375\\nsamples = 6\\nvalue = [2, 0, 6]'),\n",
       " Text(47.89404517453799, 118.17391304347825, 'gini = 0.0\\nsamples = 1\\nvalue = [2, 0, 0]'),\n",
       " Text(48.81067761806982, 118.17391304347825, 'gini = 0.0\\nsamples = 5\\nvalue = [0, 0, 6]'),\n",
       " Text(50.643942505133474, 127.62782608695652, 'X[5] <= 0.102\\ngini = 0.408\\nsamples = 14\\nvalue = [15, 6, 0]'),\n",
       " Text(49.72731006160165, 118.17391304347825, 'X[1] <= 0.393\\ngini = 0.5\\nsamples = 5\\nvalue = [5, 5, 0]'),\n",
       " Text(49.26899383983574, 108.72, 'gini = 0.0\\nsamples = 3\\nvalue = [5, 0, 0]'),\n",
       " Text(50.18562628336756, 108.72, 'gini = 0.0\\nsamples = 2\\nvalue = [0, 5, 0]'),\n",
       " Text(51.560574948665305, 118.17391304347825, 'X[0] <= 0.185\\ngini = 0.165\\nsamples = 9\\nvalue = [10, 1, 0]'),\n",
       " Text(51.102258726899386, 108.72, 'gini = 0.0\\nsamples = 1\\nvalue = [0, 1, 0]'),\n",
       " Text(52.01889117043122, 108.72, 'gini = 0.0\\nsamples = 8\\nvalue = [10, 0, 0]'),\n",
       " Text(52.47720739219713, 137.08173913043478, 'X[10] <= 0.967\\ngini = 0.486\\nsamples = 10\\nvalue = [3, 8, 1]'),\n",
       " Text(52.01889117043122, 127.62782608695652, 'gini = 0.0\\nsamples = 1\\nvalue = [0, 0, 1]'),\n",
       " Text(52.93552361396304, 127.62782608695652, 'X[4] <= 0.001\\ngini = 0.397\\nsamples = 9\\nvalue = [3, 8, 0]'),\n",
       " Text(52.47720739219713, 118.17391304347825, 'gini = 0.0\\nsamples = 2\\nvalue = [2, 0, 0]'),\n",
       " Text(53.393839835728954, 118.17391304347825, 'X[1] <= 0.517\\ngini = 0.198\\nsamples = 7\\nvalue = [1, 8, 0]'),\n",
       " Text(52.93552361396304, 108.72, 'gini = 0.0\\nsamples = 5\\nvalue = [0, 6, 0]'),\n",
       " Text(53.852156057494874, 108.72, 'X[13] <= 1.0\\ngini = 0.444\\nsamples = 2\\nvalue = [1, 2, 0]'),\n",
       " Text(53.393839835728954, 99.26608695652173, 'gini = 0.0\\nsamples = 1\\nvalue = [0, 2, 0]'),\n",
       " Text(54.310472279260786, 99.26608695652173, 'gini = 0.0\\nsamples = 1\\nvalue = [1, 0, 0]'),\n",
       " Text(60.03942505133471, 146.53565217391304, 'X[21] <= 0.034\\ngini = 0.47\\nsamples = 115\\nvalue = [60, 4, 118]'),\n",
       " Text(56.3728952772074, 137.08173913043478, 'X[13] <= 1.0\\ngini = 0.3\\nsamples = 55\\nvalue = [16, 0, 71]'),\n",
       " Text(54.7687885010267, 127.62782608695652, 'X[19] <= 0.0\\ngini = 0.497\\nsamples = 9\\nvalue = [7, 0, 6]'),\n",
       " Text(54.310472279260786, 118.17391304347825, 'gini = 0.0\\nsamples = 2\\nvalue = [5, 0, 0]'),\n",
       " Text(55.22710472279261, 118.17391304347825, 'X[12] <= 0.0\\ngini = 0.375\\nsamples = 7\\nvalue = [2, 0, 6]'),\n",
       " Text(54.7687885010267, 108.72, 'gini = 0.0\\nsamples = 2\\nvalue = [2, 0, 0]'),\n",
       " Text(55.68542094455853, 108.72, 'gini = 0.0\\nsamples = 5\\nvalue = [0, 0, 6]'),\n",
       " Text(57.9770020533881, 127.62782608695652, 'X[10] <= 0.968\\ngini = 0.214\\nsamples = 46\\nvalue = [9, 0, 65]'),\n",
       " Text(57.06036960985627, 118.17391304347825, 'X[24] <= 0.002\\ngini = 0.444\\nsamples = 6\\nvalue = [4, 0, 2]'),\n",
       " Text(56.602053388090354, 108.72, 'X[12] <= 0.0\\ngini = 0.444\\nsamples = 3\\nvalue = [1, 0, 2]'),\n",
       " Text(56.14373716632444, 99.26608695652173, 'gini = 0.0\\nsamples = 2\\nvalue = [0, 0, 2]'),\n",
       " Text(57.06036960985627, 99.26608695652173, 'gini = 0.0\\nsamples = 1\\nvalue = [1, 0, 0]'),\n",
       " Text(57.51868583162218, 108.72, 'gini = 0.0\\nsamples = 3\\nvalue = [3, 0, 0]'),\n",
       " Text(58.89363449691992, 118.17391304347825, 'X[0] <= 0.141\\ngini = 0.136\\nsamples = 40\\nvalue = [5, 0, 63]'),\n",
       " Text(58.43531827515401, 108.72, 'gini = 0.0\\nsamples = 2\\nvalue = [2, 0, 0]'),\n",
       " Text(59.351950718685835, 108.72, 'X[5] <= 0.083\\ngini = 0.087\\nsamples = 38\\nvalue = [3, 0, 63]'),\n",
       " Text(58.89363449691992, 99.26608695652173, 'gini = 0.0\\nsamples = 1\\nvalue = [1, 0, 0]'),\n",
       " Text(59.810266940451754, 99.26608695652173, 'X[16] <= 1.0\\ngini = 0.06\\nsamples = 37\\nvalue = [2, 0, 63]'),\n",
       " Text(59.351950718685835, 89.81217391304348, 'gini = 0.0\\nsamples = 32\\nvalue = [0, 0, 57]'),\n",
       " Text(60.268583162217666, 89.81217391304348, 'X[11] <= 0.0\\ngini = 0.375\\nsamples = 5\\nvalue = [2, 0, 6]'),\n",
       " Text(59.810266940451754, 80.35826086956521, 'gini = 0.0\\nsamples = 1\\nvalue = [1, 0, 0]'),\n",
       " Text(60.72689938398358, 80.35826086956521, 'X[9] <= 0.019\\ngini = 0.245\\nsamples = 4\\nvalue = [1, 0, 6]'),\n",
       " Text(60.268583162217666, 70.90434782608696, 'gini = 0.0\\nsamples = 1\\nvalue = [1, 0, 0]'),\n",
       " Text(61.18521560574949, 70.90434782608696, 'gini = 0.0\\nsamples = 3\\nvalue = [0, 0, 6]'),\n",
       " Text(63.705954825462015, 137.08173913043478, 'X[21] <= 0.08\\ngini = 0.539\\nsamples = 60\\nvalue = [44, 4, 47]'),\n",
       " Text(61.6435318275154, 127.62782608695652, 'X[0] <= 0.397\\ngini = 0.501\\nsamples = 35\\nvalue = [34, 3, 17]'),\n",
       " Text(60.72689938398358, 118.17391304347825, 'X[23] <= 0.977\\ngini = 0.508\\nsamples = 10\\nvalue = [5, 1, 10]'),\n",
       " Text(60.268583162217666, 108.72, 'gini = 0.0\\nsamples = 7\\nvalue = [0, 0, 10]'),\n",
       " Text(61.18521560574949, 108.72, 'X[22] <= 0.019\\ngini = 0.278\\nsamples = 3\\nvalue = [5, 1, 0]'),\n",
       " Text(60.72689938398358, 99.26608695652173, 'gini = 0.0\\nsamples = 2\\nvalue = [5, 0, 0]'),\n",
       " Text(61.6435318275154, 99.26608695652173, 'gini = 0.0\\nsamples = 1\\nvalue = [0, 1, 0]'),\n",
       " Text(62.560164271047235, 118.17391304347825, 'X[6] <= 0.015\\ngini = 0.381\\nsamples = 25\\nvalue = [29, 2, 7]'),\n",
       " Text(62.10184804928132, 108.72, 'gini = 0.0\\nsamples = 1\\nvalue = [0, 2, 0]'),\n",
       " Text(63.01848049281315, 108.72, 'X[6] <= 0.035\\ngini = 0.313\\nsamples = 24\\nvalue = [29, 0, 7]'),\n",
       " Text(62.560164271047235, 99.26608695652173, 'gini = 0.0\\nsamples = 8\\nvalue = [16, 0, 0]'),\n",
       " Text(63.47679671457906, 99.26608695652173, 'X[3] <= 0.856\\ngini = 0.455\\nsamples = 16\\nvalue = [13, 0, 7]'),\n",
       " Text(63.01848049281315, 89.81217391304348, 'gini = 0.0\\nsamples = 2\\nvalue = [0, 0, 2]'),\n",
       " Text(63.93511293634498, 89.81217391304348, 'X[6] <= 0.086\\ngini = 0.401\\nsamples = 14\\nvalue = [13, 0, 5]'),\n",
       " Text(63.47679671457906, 80.35826086956521, 'X[1] <= 0.305\\ngini = 0.486\\nsamples = 11\\nvalue = [7, 0, 5]'),\n",
       " Text(63.01848049281315, 70.90434782608696, 'gini = 0.0\\nsamples = 3\\nvalue = [4, 0, 0]'),\n",
       " Text(63.93511293634498, 70.90434782608696, 'X[3] <= 0.922\\ngini = 0.469\\nsamples = 8\\nvalue = [3, 0, 5]'),\n",
       " Text(63.47679671457906, 61.45043478260868, 'X[23] <= 0.966\\ngini = 0.278\\nsamples = 6\\nvalue = [1, 0, 5]'),\n",
       " Text(63.01848049281315, 51.99652173913043, 'gini = 0.0\\nsamples = 1\\nvalue = [1, 0, 0]'),\n",
       " Text(63.93511293634498, 51.99652173913043, 'gini = 0.0\\nsamples = 5\\nvalue = [0, 0, 5]'),\n",
       " Text(64.39342915811089, 61.45043478260868, 'gini = 0.0\\nsamples = 2\\nvalue = [2, 0, 0]'),\n",
       " Text(64.39342915811089, 80.35826086956521, 'gini = 0.0\\nsamples = 3\\nvalue = [6, 0, 0]'),\n",
       " Text(65.76837782340863, 127.62782608695652, 'X[14] <= 0.0\\ngini = 0.405\\nsamples = 25\\nvalue = [10, 1, 30]'),\n",
       " Text(64.39342915811089, 118.17391304347825, 'X[22] <= 0.035\\ngini = 0.153\\nsamples = 14\\nvalue = [2, 0, 22]'),\n",
       " Text(63.93511293634498, 108.72, 'gini = 0.0\\nsamples = 11\\nvalue = [0, 0, 21]'),\n",
       " Text(64.8517453798768, 108.72, 'X[1] <= 0.184\\ngini = 0.444\\nsamples = 3\\nvalue = [2, 0, 1]'),\n",
       " Text(64.39342915811089, 99.26608695652173, 'gini = 0.0\\nsamples = 1\\nvalue = [0, 0, 1]'),\n",
       " Text(65.31006160164272, 99.26608695652173, 'gini = 0.0\\nsamples = 2\\nvalue = [2, 0, 0]'),\n",
       " Text(67.14332648870638, 118.17391304347825, 'X[17] <= 0.016\\ngini = 0.554\\nsamples = 11\\nvalue = [8, 1, 8]'),\n",
       " Text(66.68501026694045, 108.72, 'X[19] <= 0.0\\ngini = 0.486\\nsamples = 8\\nvalue = [8, 1, 3]'),\n",
       " Text(66.22669404517454, 99.26608695652173, 'X[14] <= 0.0\\ngini = 0.611\\nsamples = 3\\nvalue = [2, 1, 3]'),\n",
       " Text(65.76837782340863, 89.81217391304348, 'X[0] <= 0.588\\ngini = 0.444\\nsamples = 2\\nvalue = [2, 1, 0]'),\n",
       " Text(65.31006160164272, 80.35826086956521, 'gini = 0.0\\nsamples = 1\\nvalue = [2, 0, 0]'),\n",
       " Text(66.22669404517454, 80.35826086956521, 'gini = 0.0\\nsamples = 1\\nvalue = [0, 1, 0]'),\n",
       " Text(66.68501026694045, 89.81217391304348, 'gini = 0.0\\nsamples = 1\\nvalue = [0, 0, 3]'),\n",
       " Text(67.14332648870638, 99.26608695652173, 'gini = 0.0\\nsamples = 5\\nvalue = [6, 0, 0]'),\n",
       " Text(67.60164271047229, 108.72, 'gini = 0.0\\nsamples = 3\\nvalue = [0, 0, 5]'),\n",
       " Text(61.41437371663245, 155.98956521739132, 'X[23] <= 0.981\\ngini = 0.153\\nsamples = 7\\nvalue = [11, 0, 1]'),\n",
       " Text(60.956057494866535, 146.53565217391304, 'gini = 0.0\\nsamples = 6\\nvalue = [11, 0, 0]'),\n",
       " Text(61.872689938398366, 146.53565217391304, 'gini = 0.0\\nsamples = 1\\nvalue = [0, 0, 1]'),\n",
       " Text(80.95010266940453, 174.89739130434782, 'X[1] <= 0.351\\ngini = 0.431\\nsamples = 227\\nvalue = [102, 3, 236]'),\n",
       " Text(75.16386036960986, 165.44347826086957, 'X[13] <= 1.0\\ngini = 0.311\\nsamples = 99\\nvalue = [28, 1, 123]'),\n",
       " Text(70.80985626283368, 155.98956521739132, 'X[10] <= 0.94\\ngini = 0.392\\nsamples = 72\\nvalue = [26, 1, 76]'),\n",
       " Text(68.51827515400412, 146.53565217391304, 'X[8] <= 0.01\\ngini = 0.165\\nsamples = 33\\nvalue = [4, 0, 40]'),\n",
       " Text(68.0599589322382, 137.08173913043478, 'gini = 0.0\\nsamples = 2\\nvalue = [2, 0, 0]'),\n",
       " Text(68.97659137577003, 137.08173913043478, 'X[21] <= 0.242\\ngini = 0.091\\nsamples = 31\\nvalue = [2, 0, 40]'),\n",
       " Text(68.51827515400412, 127.62782608695652, 'X[24] <= 0.005\\ngini = 0.048\\nsamples = 30\\nvalue = [1, 0, 40]'),\n",
       " Text(68.0599589322382, 118.17391304347825, 'gini = 0.0\\nsamples = 26\\nvalue = [0, 0, 35]'),\n",
       " Text(68.97659137577003, 118.17391304347825, 'X[17] <= 0.013\\ngini = 0.278\\nsamples = 4\\nvalue = [1, 0, 5]'),\n",
       " Text(68.51827515400412, 108.72, 'gini = 0.0\\nsamples = 1\\nvalue = [1, 0, 0]'),\n",
       " Text(69.43490759753594, 108.72, 'gini = 0.0\\nsamples = 3\\nvalue = [0, 0, 5]'),\n",
       " Text(69.43490759753594, 127.62782608695652, 'gini = 0.0\\nsamples = 1\\nvalue = [1, 0, 0]'),\n",
       " Text(73.10143737166325, 146.53565217391304, 'X[9] <= 0.042\\ngini = 0.488\\nsamples = 39\\nvalue = [22, 1, 36]'),\n",
       " Text(70.80985626283368, 137.08173913043478, 'X[7] <= 0.996\\ngini = 0.312\\nsamples = 21\\nvalue = [6, 0, 25]'),\n",
       " Text(70.35154004106776, 127.62782608695652, 'X[5] <= 0.339\\ngini = 0.238\\nsamples = 19\\nvalue = [4, 0, 25]'),\n",
       " Text(69.89322381930185, 118.17391304347825, 'gini = 0.0\\nsamples = 11\\nvalue = [0, 0, 17]'),\n",
       " Text(70.80985626283368, 118.17391304347825, 'X[6] <= 0.092\\ngini = 0.444\\nsamples = 8\\nvalue = [4, 0, 8]'),\n",
       " Text(70.35154004106776, 108.72, 'gini = 0.0\\nsamples = 2\\nvalue = [4, 0, 0]'),\n",
       " Text(71.2681724845996, 108.72, 'gini = 0.0\\nsamples = 6\\nvalue = [0, 0, 8]'),\n",
       " Text(71.2681724845996, 127.62782608695652, 'gini = 0.0\\nsamples = 2\\nvalue = [2, 0, 0]'),\n",
       " Text(75.39301848049281, 137.08173913043478, 'X[0] <= 0.555\\ngini = 0.518\\nsamples = 18\\nvalue = [16, 1, 11]'),\n",
       " Text(73.55975359342916, 127.62782608695652, 'X[9] <= 0.049\\ngini = 0.443\\nsamples = 9\\nvalue = [12, 1, 4]'),\n",
       " Text(72.64312114989734, 118.17391304347825, 'X[14] <= 0.0\\ngini = 0.611\\nsamples = 3\\nvalue = [2, 1, 3]'),\n",
       " Text(72.18480492813143, 108.72, 'gini = 0.0\\nsamples = 1\\nvalue = [0, 0, 3]'),\n",
       " Text(73.10143737166325, 108.72, 'X[3] <= 0.911\\ngini = 0.444\\nsamples = 2\\nvalue = [2, 1, 0]'),\n",
       " Text(72.64312114989734, 99.26608695652173, 'gini = 0.0\\nsamples = 1\\nvalue = [0, 1, 0]'),\n",
       " Text(73.55975359342916, 99.26608695652173, 'gini = 0.0\\nsamples = 1\\nvalue = [2, 0, 0]'),\n",
       " Text(74.47638603696099, 118.17391304347825, 'X[4] <= 0.001\\ngini = 0.165\\nsamples = 6\\nvalue = [10, 0, 1]'),\n",
       " Text(74.01806981519508, 108.72, 'gini = 0.0\\nsamples = 5\\nvalue = [10, 0, 0]'),\n",
       " Text(74.9347022587269, 108.72, 'gini = 0.0\\nsamples = 1\\nvalue = [0, 0, 1]'),\n",
       " Text(77.22628336755648, 127.62782608695652, 'X[3] <= 0.867\\ngini = 0.463\\nsamples = 9\\nvalue = [4, 0, 7]'),\n",
       " Text(76.30965092402465, 118.17391304347825, 'X[10] <= 0.952\\ngini = 0.375\\nsamples = 3\\nvalue = [3, 0, 1]'),\n",
       " Text(75.85133470225874, 108.72, 'gini = 0.0\\nsamples = 1\\nvalue = [0, 0, 1]'),\n",
       " Text(76.76796714579056, 108.72, 'gini = 0.0\\nsamples = 2\\nvalue = [3, 0, 0]'),\n",
       " Text(78.1429158110883, 118.17391304347825, 'X[12] <= 0.0\\ngini = 0.245\\nsamples = 6\\nvalue = [1, 0, 6]'),\n",
       " Text(77.68459958932239, 108.72, 'gini = 0.0\\nsamples = 5\\nvalue = [0, 0, 6]'),\n",
       " Text(78.60123203285421, 108.72, 'gini = 0.0\\nsamples = 1\\nvalue = [1, 0, 0]'),\n",
       " Text(79.51786447638604, 155.98956521739132, 'X[0] <= 0.483\\ngini = 0.078\\nsamples = 27\\nvalue = [2, 0, 47]'),\n",
       " Text(79.05954825462013, 146.53565217391304, 'X[8] <= 0.151\\ngini = 0.48\\nsamples = 4\\nvalue = [2, 0, 3]'),\n",
       " Text(78.60123203285421, 137.08173913043478, 'X[13] <= 1.0\\ngini = 0.444\\nsamples = 3\\nvalue = [2, 0, 1]'),\n",
       " Text(78.1429158110883, 127.62782608695652, 'gini = 0.0\\nsamples = 1\\nvalue = [0, 0, 1]'),\n",
       " Text(79.05954825462013, 127.62782608695652, 'gini = 0.0\\nsamples = 2\\nvalue = [2, 0, 0]'),\n",
       " Text(79.51786447638604, 137.08173913043478, 'gini = 0.0\\nsamples = 1\\nvalue = [0, 0, 2]'),\n",
       " Text(79.97618069815196, 146.53565217391304, 'gini = 0.0\\nsamples = 23\\nvalue = [0, 0, 44]'),\n",
       " Text(86.73634496919918, 165.44347826086957, 'X[12] <= 0.0\\ngini = 0.489\\nsamples = 128\\nvalue = [74, 2, 113]'),\n",
       " Text(82.382340862423, 155.98956521739132, 'X[11] <= 0.0\\ngini = 0.514\\nsamples = 77\\nvalue = [58, 2, 48]'),\n",
       " Text(80.89281314168379, 146.53565217391304, 'X[14] <= 0.0\\ngini = 0.117\\nsamples = 9\\nvalue = [15, 0, 1]'),\n",
       " Text(80.43449691991788, 137.08173913043478, 'gini = 0.0\\nsamples = 1\\nvalue = [0, 0, 1]'),\n",
       " Text(81.3511293634497, 137.08173913043478, 'gini = 0.0\\nsamples = 8\\nvalue = [15, 0, 0]'),\n",
       " Text(83.87186858316223, 146.53565217391304, 'X[12] <= 0.0\\ngini = 0.52\\nsamples = 68\\nvalue = [43, 2, 47]'),\n",
       " Text(82.26776180698153, 137.08173913043478, 'X[5] <= 0.279\\ngini = 0.328\\nsamples = 23\\nvalue = [6, 0, 23]'),\n",
       " Text(81.80944558521561, 127.62782608695652, 'X[23] <= 0.96\\ngini = 0.432\\nsamples = 15\\nvalue = [6, 0, 13]'),\n",
       " Text(81.3511293634497, 118.17391304347825, 'X[19] <= 0.0\\ngini = 0.36\\nsamples = 13\\nvalue = [4, 0, 13]'),\n",
       " Text(80.43449691991788, 108.72, 'X[16] <= 1.0\\ngini = 0.375\\nsamples = 4\\nvalue = [3, 0, 1]'),\n",
       " Text(79.97618069815196, 99.26608695652173, 'gini = 0.0\\nsamples = 1\\nvalue = [0, 0, 1]'),\n",
       " Text(80.89281314168379, 99.26608695652173, 'gini = 0.0\\nsamples = 3\\nvalue = [3, 0, 0]'),\n",
       " Text(82.26776180698153, 108.72, 'X[21] <= 0.106\\ngini = 0.142\\nsamples = 9\\nvalue = [1, 0, 12]'),\n",
       " Text(81.80944558521561, 99.26608695652173, 'gini = 0.0\\nsamples = 6\\nvalue = [0, 0, 10]'),\n",
       " Text(82.72607802874744, 99.26608695652173, 'X[3] <= 0.896\\ngini = 0.444\\nsamples = 3\\nvalue = [1, 0, 2]'),\n",
       " Text(82.26776180698153, 89.81217391304348, 'gini = 0.0\\nsamples = 2\\nvalue = [0, 0, 2]'),\n",
       " Text(83.18439425051335, 89.81217391304348, 'gini = 0.0\\nsamples = 1\\nvalue = [1, 0, 0]'),\n",
       " Text(82.26776180698153, 118.17391304347825, 'gini = 0.0\\nsamples = 2\\nvalue = [2, 0, 0]'),\n",
       " Text(82.72607802874744, 127.62782608695652, 'gini = 0.0\\nsamples = 8\\nvalue = [0, 0, 10]'),\n",
       " Text(85.47597535934293, 137.08173913043478, 'X[0] <= 0.817\\ngini = 0.509\\nsamples = 45\\nvalue = [37, 2, 24]'),\n",
       " Text(85.01765913757701, 127.62782608695652, 'X[6] <= 0.132\\ngini = 0.478\\nsamples = 40\\nvalue = [37, 2, 18]'),\n",
       " Text(83.64271047227926, 118.17391304347825, 'X[24] <= 0.0\\ngini = 0.397\\nsamples = 24\\nvalue = [27, 2, 7]'),\n",
       " Text(83.18439425051335, 108.72, 'gini = 0.0\\nsamples = 2\\nvalue = [0, 0, 2]'),\n",
       " Text(84.10102669404519, 108.72, 'X[11] <= 0.0\\ngini = 0.344\\nsamples = 22\\nvalue = [27, 2, 5]'),\n",
       " Text(83.64271047227926, 99.26608695652173, 'gini = 0.0\\nsamples = 2\\nvalue = [0, 0, 2]'),\n",
       " Text(84.5593429158111, 99.26608695652173, 'X[1] <= 0.782\\ngini = 0.275\\nsamples = 20\\nvalue = [27, 2, 3]'),\n",
       " Text(84.10102669404519, 89.81217391304348, 'X[23] <= 0.962\\ngini = 0.18\\nsamples = 19\\nvalue = [27, 0, 3]'),\n",
       " Text(83.64271047227926, 80.35826086956521, 'X[8] <= 0.086\\ngini = 0.128\\nsamples = 18\\nvalue = [27, 0, 2]'),\n",
       " Text(83.18439425051335, 70.90434782608696, 'gini = 0.0\\nsamples = 14\\nvalue = [24, 0, 0]'),\n",
       " Text(84.10102669404519, 70.90434782608696, 'X[6] <= 0.1\\ngini = 0.48\\nsamples = 4\\nvalue = [3, 0, 2]'),\n",
       " Text(83.64271047227926, 61.45043478260868, 'gini = 0.0\\nsamples = 1\\nvalue = [2, 0, 0]'),\n",
       " Text(84.5593429158111, 61.45043478260868, 'X[7] <= 0.884\\ngini = 0.444\\nsamples = 3\\nvalue = [1, 0, 2]'),\n",
       " Text(84.10102669404519, 51.99652173913043, 'gini = 0.0\\nsamples = 1\\nvalue = [1, 0, 0]'),\n",
       " Text(85.01765913757701, 51.99652173913043, 'gini = 0.0\\nsamples = 2\\nvalue = [0, 0, 2]'),\n",
       " Text(84.5593429158111, 80.35826086956521, 'gini = 0.0\\nsamples = 1\\nvalue = [0, 0, 1]'),\n",
       " Text(85.01765913757701, 89.81217391304348, 'gini = 0.0\\nsamples = 1\\nvalue = [0, 2, 0]'),\n",
       " Text(86.39260780287475, 118.17391304347825, 'X[4] <= 0.001\\ngini = 0.499\\nsamples = 16\\nvalue = [10, 0, 11]'),\n",
       " Text(85.93429158110884, 108.72, 'X[6] <= 0.141\\ngini = 0.355\\nsamples = 10\\nvalue = [10, 0, 3]'),\n",
       " Text(85.47597535934293, 99.26608695652173, 'gini = 0.0\\nsamples = 2\\nvalue = [0, 0, 2]'),\n",
       " Text(86.39260780287475, 99.26608695652173, 'X[23] <= 0.918\\ngini = 0.165\\nsamples = 8\\nvalue = [10, 0, 1]'),\n",
       " Text(85.93429158110884, 89.81217391304348, 'gini = 0.0\\nsamples = 4\\nvalue = [7, 0, 0]'),\n",
       " Text(86.85092402464066, 89.81217391304348, 'X[10] <= 0.901\\ngini = 0.375\\nsamples = 4\\nvalue = [3, 0, 1]'),\n",
       " Text(86.39260780287475, 80.35826086956521, 'gini = 0.0\\nsamples = 1\\nvalue = [0, 0, 1]'),\n",
       " Text(87.30924024640657, 80.35826086956521, 'gini = 0.0\\nsamples = 3\\nvalue = [3, 0, 0]'),\n",
       " Text(86.85092402464066, 108.72, 'gini = 0.0\\nsamples = 6\\nvalue = [0, 0, 8]'),\n",
       " Text(85.93429158110884, 127.62782608695652, 'gini = 0.0\\nsamples = 5\\nvalue = [0, 0, 6]'),\n",
       " Text(91.09034907597537, 155.98956521739132, 'X[7] <= 0.9\\ngini = 0.317\\nsamples = 51\\nvalue = [16, 0, 65]'),\n",
       " Text(89.8299794661191, 146.53565217391304, 'X[0] <= 0.687\\ngini = 0.209\\nsamples = 38\\nvalue = [7, 0, 52]'),\n",
       " Text(88.68418891170433, 137.08173913043478, 'X[14] <= 0.0\\ngini = 0.13\\nsamples = 28\\nvalue = [3, 0, 40]'),\n",
       " Text(87.76755646817249, 127.62782608695652, 'X[0] <= 0.485\\ngini = 0.5\\nsamples = 4\\nvalue = [2, 0, 2]'),\n",
       " Text(87.30924024640657, 118.17391304347825, 'gini = 0.0\\nsamples = 2\\nvalue = [2, 0, 0]'),\n",
       " Text(88.22587268993841, 118.17391304347825, 'gini = 0.0\\nsamples = 2\\nvalue = [0, 0, 2]'),\n",
       " Text(89.60082135523615, 127.62782608695652, 'X[14] <= 0.0\\ngini = 0.05\\nsamples = 24\\nvalue = [1, 0, 38]'),\n",
       " Text(89.14250513347024, 118.17391304347825, 'X[13] <= 1.0\\ngini = 0.198\\nsamples = 5\\nvalue = [1, 0, 8]'),\n",
       " Text(88.68418891170433, 108.72, 'X[12] <= 0.0\\ngini = 0.5\\nsamples = 2\\nvalue = [1, 0, 1]'),\n",
       " Text(88.22587268993841, 99.26608695652173, 'gini = 0.0\\nsamples = 1\\nvalue = [1, 0, 0]'),\n",
       " Text(89.14250513347024, 99.26608695652173, 'gini = 0.0\\nsamples = 1\\nvalue = [0, 0, 1]'),\n",
       " Text(89.60082135523615, 108.72, 'gini = 0.0\\nsamples = 3\\nvalue = [0, 0, 7]'),\n",
       " Text(90.05913757700206, 118.17391304347825, 'gini = 0.0\\nsamples = 19\\nvalue = [0, 0, 30]'),\n",
       " Text(90.97577002053389, 137.08173913043478, 'X[5] <= 0.393\\ngini = 0.375\\nsamples = 10\\nvalue = [4, 0, 12]'),\n",
       " Text(90.51745379876797, 127.62782608695652, 'gini = 0.0\\nsamples = 7\\nvalue = [0, 0, 12]'),\n",
       " Text(91.4340862422998, 127.62782608695652, 'gini = 0.0\\nsamples = 3\\nvalue = [4, 0, 0]'),\n",
       " Text(92.35071868583164, 146.53565217391304, 'X[1] <= 0.56\\ngini = 0.483\\nsamples = 13\\nvalue = [9, 0, 13]'),\n",
       " Text(91.89240246406571, 137.08173913043478, 'gini = 0.0\\nsamples = 3\\nvalue = [0, 0, 5]'),\n",
       " Text(92.80903490759755, 137.08173913043478, 'X[3] <= 0.912\\ngini = 0.498\\nsamples = 10\\nvalue = [9, 0, 8]'),\n",
       " Text(92.35071868583164, 127.62782608695652, 'X[3] <= 0.885\\ngini = 0.298\\nsamples = 7\\nvalue = [9, 0, 2]'),\n",
       " Text(91.89240246406571, 118.17391304347825, 'gini = 0.0\\nsamples = 1\\nvalue = [0, 0, 1]'),\n",
       " Text(92.80903490759755, 118.17391304347825, 'X[2] <= 0.244\\ngini = 0.18\\nsamples = 6\\nvalue = [9, 0, 1]'),\n",
       " Text(92.35071868583164, 108.72, 'gini = 0.0\\nsamples = 4\\nvalue = [8, 0, 0]'),\n",
       " Text(93.26735112936346, 108.72, 'X[4] <= 0.001\\ngini = 0.5\\nsamples = 2\\nvalue = [1, 0, 1]'),\n",
       " Text(92.80903490759755, 99.26608695652173, 'gini = 0.0\\nsamples = 1\\nvalue = [0, 0, 1]'),\n",
       " Text(93.72566735112937, 99.26608695652173, 'gini = 0.0\\nsamples = 1\\nvalue = [1, 0, 0]'),\n",
       " Text(93.26735112936346, 127.62782608695652, 'gini = 0.0\\nsamples = 3\\nvalue = [0, 0, 6]'),\n",
       " Text(187.97737453076874, 193.80521739130435, 'X[3] <= 0.921\\ngini = 0.625\\nsamples = 1628\\nvalue = [666, 1311, 647]'),\n",
       " Text(134.85138002117557, 184.3513043478261, 'X[20] <= 1.0\\ngini = 0.65\\nsamples = 803\\nvalue = [341, 384, 562]'),\n",
       " Text(111.47467915811089, 174.89739130434782, 'X[4] <= 0.002\\ngini = 0.363\\nsamples = 301\\nvalue = [68, 33, 361]'),\n",
       " Text(103.06386036960987, 165.44347826086957, 'X[22] <= 0.008\\ngini = 0.511\\nsamples = 100\\nvalue = [51, 9, 96]'),\n",
       " Text(99.91293634496921, 155.98956521739132, 'X[6] <= 0.0\\ngini = 0.583\\nsamples = 38\\nvalue = [31, 7, 21]'),\n",
       " Text(98.30882956878851, 146.53565217391304, 'X[19] <= 0.001\\ngini = 0.487\\nsamples = 33\\nvalue = [29, 0, 21]'),\n",
       " Text(96.47556468172486, 137.08173913043478, 'X[8] <= 0.008\\ngini = 0.389\\nsamples = 22\\nvalue = [25, 0, 9]'),\n",
       " Text(96.01724845995894, 127.62782608695652, 'gini = 0.0\\nsamples = 2\\nvalue = [0, 0, 3]'),\n",
       " Text(96.93388090349077, 127.62782608695652, 'X[20] <= 1.0\\ngini = 0.312\\nsamples = 20\\nvalue = [25, 0, 6]'),\n",
       " Text(96.47556468172486, 118.17391304347825, 'X[8] <= 0.009\\ngini = 0.238\\nsamples = 18\\nvalue = [25, 0, 4]'),\n",
       " Text(95.10061601642711, 108.72, 'X[19] <= 0.001\\ngini = 0.083\\nsamples = 12\\nvalue = [22, 0, 1]'),\n",
       " Text(94.6422997946612, 99.26608695652173, 'gini = 0.0\\nsamples = 9\\nvalue = [16, 0, 0]'),\n",
       " Text(95.55893223819302, 99.26608695652173, 'X[19] <= 0.001\\ngini = 0.245\\nsamples = 3\\nvalue = [6, 0, 1]'),\n",
       " Text(95.10061601642711, 89.81217391304348, 'gini = 0.0\\nsamples = 1\\nvalue = [0, 0, 1]'),\n",
       " Text(96.01724845995894, 89.81217391304348, 'gini = 0.0\\nsamples = 2\\nvalue = [6, 0, 0]'),\n",
       " Text(97.8505133470226, 108.72, 'X[5] <= 0.002\\ngini = 0.5\\nsamples = 6\\nvalue = [3, 0, 3]'),\n",
       " Text(97.39219712525669, 99.26608695652173, 'X[0] <= 0.754\\ngini = 0.375\\nsamples = 4\\nvalue = [1, 0, 3]'),\n",
       " Text(96.93388090349077, 89.81217391304348, 'gini = 0.0\\nsamples = 3\\nvalue = [0, 0, 3]'),\n",
       " Text(97.8505133470226, 89.81217391304348, 'gini = 0.0\\nsamples = 1\\nvalue = [1, 0, 0]'),\n",
       " Text(98.30882956878851, 99.26608695652173, 'gini = 0.0\\nsamples = 2\\nvalue = [2, 0, 0]'),\n",
       " Text(97.39219712525669, 118.17391304347825, 'gini = 0.0\\nsamples = 2\\nvalue = [0, 0, 2]'),\n",
       " Text(100.14209445585216, 137.08173913043478, 'X[8] <= 0.009\\ngini = 0.375\\nsamples = 11\\nvalue = [4, 0, 12]'),\n",
       " Text(99.68377823408625, 127.62782608695652, 'X[22] <= 0.005\\ngini = 0.245\\nsamples = 10\\nvalue = [2, 0, 12]'),\n",
       " Text(99.22546201232034, 118.17391304347825, 'X[11] <= 0.0\\ngini = 0.444\\nsamples = 2\\nvalue = [2, 0, 1]'),\n",
       " Text(98.76714579055442, 108.72, 'gini = 0.0\\nsamples = 1\\nvalue = [0, 0, 1]'),\n",
       " Text(99.68377823408625, 108.72, 'gini = 0.0\\nsamples = 1\\nvalue = [2, 0, 0]'),\n",
       " Text(100.14209445585216, 118.17391304347825, 'gini = 0.0\\nsamples = 8\\nvalue = [0, 0, 11]'),\n",
       " Text(100.60041067761809, 127.62782608695652, 'gini = 0.0\\nsamples = 1\\nvalue = [2, 0, 0]'),\n",
       " Text(101.51704312114991, 146.53565217391304, 'X[14] <= 0.0\\ngini = 0.346\\nsamples = 5\\nvalue = [2, 7, 0]'),\n",
       " Text(101.058726899384, 137.08173913043478, 'gini = 0.0\\nsamples = 1\\nvalue = [2, 0, 0]'),\n",
       " Text(101.97535934291582, 137.08173913043478, 'gini = 0.0\\nsamples = 4\\nvalue = [0, 7, 0]'),\n",
       " Text(106.21478439425053, 155.98956521739132, 'X[6] <= 0.0\\ngini = 0.359\\nsamples = 62\\nvalue = [20, 2, 75]'),\n",
       " Text(103.35030800821356, 146.53565217391304, 'X[0] <= 0.208\\ngini = 0.153\\nsamples = 46\\nvalue = [6, 0, 66]'),\n",
       " Text(102.89199178644765, 137.08173913043478, 'gini = 0.0\\nsamples = 2\\nvalue = [2, 0, 0]'),\n",
       " Text(103.80862422997947, 137.08173913043478, 'X[19] <= 0.027\\ngini = 0.108\\nsamples = 44\\nvalue = [4, 0, 66]'),\n",
       " Text(103.35030800821356, 127.62782608695652, 'X[6] <= 0.0\\ngini = 0.083\\nsamples = 43\\nvalue = [3, 0, 66]'),\n",
       " Text(102.43367556468174, 118.17391304347825, 'X[1] <= 0.101\\ngini = 0.032\\nsamples = 39\\nvalue = [1, 0, 61]'),\n",
       " Text(101.97535934291582, 108.72, 'X[23] <= 0.991\\ngini = 0.32\\nsamples = 3\\nvalue = [1, 0, 4]'),\n",
       " Text(101.51704312114991, 99.26608695652173, 'gini = 0.0\\nsamples = 2\\nvalue = [0, 0, 4]'),\n",
       " Text(102.43367556468174, 99.26608695652173, 'gini = 0.0\\nsamples = 1\\nvalue = [1, 0, 0]'),\n",
       " Text(102.89199178644765, 108.72, 'gini = 0.0\\nsamples = 36\\nvalue = [0, 0, 57]'),\n",
       " Text(104.26694045174538, 118.17391304347825, 'X[2] <= 0.237\\ngini = 0.408\\nsamples = 4\\nvalue = [2, 0, 5]'),\n",
       " Text(103.80862422997947, 108.72, 'gini = 0.0\\nsamples = 2\\nvalue = [0, 0, 5]'),\n",
       " Text(104.7252566735113, 108.72, 'gini = 0.0\\nsamples = 2\\nvalue = [2, 0, 0]'),\n",
       " Text(104.26694045174538, 127.62782608695652, 'gini = 0.0\\nsamples = 1\\nvalue = [1, 0, 0]'),\n",
       " Text(109.07926078028748, 146.53565217391304, 'X[1] <= 0.382\\ngini = 0.55\\nsamples = 16\\nvalue = [14, 2, 9]'),\n",
       " Text(107.47515400410678, 137.08173913043478, 'X[10] <= 0.989\\ngini = 0.569\\nsamples = 8\\nvalue = [3, 2, 7]'),\n",
       " Text(106.55852156057496, 127.62782608695652, 'X[15] <= 0.0\\ngini = 0.219\\nsamples = 5\\nvalue = [0, 1, 7]'),\n",
       " Text(106.10020533880905, 118.17391304347825, 'X[17] <= 0.111\\ngini = 0.5\\nsamples = 2\\nvalue = [0, 1, 1]'),\n",
       " Text(105.64188911704314, 108.72, 'gini = 0.0\\nsamples = 1\\nvalue = [0, 1, 0]'),\n",
       " Text(106.55852156057496, 108.72, 'gini = 0.0\\nsamples = 1\\nvalue = [0, 0, 1]'),\n",
       " Text(107.01683778234087, 118.17391304347825, 'gini = 0.0\\nsamples = 3\\nvalue = [0, 0, 6]'),\n",
       " Text(108.39178644763861, 127.62782608695652, 'X[21] <= 0.028\\ngini = 0.375\\nsamples = 3\\nvalue = [3, 1, 0]'),\n",
       " Text(107.9334702258727, 118.17391304347825, 'gini = 0.0\\nsamples = 2\\nvalue = [3, 0, 0]'),\n",
       " Text(108.85010266940452, 118.17391304347825, 'gini = 0.0\\nsamples = 1\\nvalue = [0, 1, 0]'),\n",
       " Text(110.68336755646818, 137.08173913043478, 'X[6] <= 0.0\\ngini = 0.26\\nsamples = 8\\nvalue = [11, 0, 2]'),\n",
       " Text(110.22505133470227, 127.62782608695652, 'X[2] <= 0.246\\ngini = 0.5\\nsamples = 3\\nvalue = [2, 0, 2]'),\n",
       " Text(109.76673511293636, 118.17391304347825, 'gini = 0.0\\nsamples = 1\\nvalue = [0, 0, 2]'),\n",
       " Text(110.68336755646818, 118.17391304347825, 'gini = 0.0\\nsamples = 2\\nvalue = [2, 0, 0]'),\n",
       " Text(111.1416837782341, 127.62782608695652, 'gini = 0.0\\nsamples = 5\\nvalue = [9, 0, 0]'),\n",
       " Text(119.88549794661192, 165.44347826086957, 'X[13] <= 1.0\\ngini = 0.241\\nsamples = 201\\nvalue = [17, 24, 265]'),\n",
       " Text(116.94224845995895, 155.98956521739132, 'X[24] <= 0.007\\ngini = 0.425\\nsamples = 65\\nvalue = [10, 17, 74]'),\n",
       " Text(114.26396303901439, 146.53565217391304, 'X[16] <= 1.0\\ngini = 0.577\\nsamples = 37\\nvalue = [8, 16, 31]'),\n",
       " Text(112.51663244353183, 137.08173913043478, 'X[3] <= 0.874\\ngini = 0.463\\nsamples = 7\\nvalue = [4, 7, 0]'),\n",
       " Text(112.05831622176592, 127.62782608695652, 'X[0] <= 0.607\\ngini = 0.32\\nsamples = 3\\nvalue = [4, 1, 0]'),\n",
       " Text(111.60000000000001, 118.17391304347825, 'gini = 0.0\\nsamples = 2\\nvalue = [4, 0, 0]'),\n",
       " Text(112.51663244353183, 118.17391304347825, 'gini = 0.0\\nsamples = 1\\nvalue = [0, 1, 0]'),\n",
       " Text(112.97494866529775, 127.62782608695652, 'gini = 0.0\\nsamples = 4\\nvalue = [0, 6, 0]'),\n",
       " Text(116.01129363449694, 137.08173913043478, 'X[3] <= 0.918\\ngini = 0.454\\nsamples = 30\\nvalue = [4, 9, 31]'),\n",
       " Text(114.69363449691993, 127.62782608695652, 'X[5] <= 0.001\\ngini = 0.394\\nsamples = 28\\nvalue = [3, 7, 31]'),\n",
       " Text(113.43326488706367, 118.17391304347825, 'X[0] <= 0.336\\ngini = 0.314\\nsamples = 25\\nvalue = [2, 5, 31]'),\n",
       " Text(112.28747433264888, 108.72, 'X[1] <= 0.556\\ngini = 0.611\\nsamples = 5\\nvalue = [1, 3, 2]'),\n",
       " Text(111.82915811088297, 99.26608695652173, 'X[17] <= 0.118\\ngini = 0.444\\nsamples = 3\\nvalue = [1, 0, 2]'),\n",
       " Text(111.37084188911706, 89.81217391304348, 'gini = 0.0\\nsamples = 1\\nvalue = [1, 0, 0]'),\n",
       " Text(112.28747433264888, 89.81217391304348, 'gini = 0.0\\nsamples = 2\\nvalue = [0, 0, 2]'),\n",
       " Text(112.7457905544148, 99.26608695652173, 'gini = 0.0\\nsamples = 2\\nvalue = [0, 3, 0]'),\n",
       " Text(114.57905544147845, 108.72, 'X[8] <= 0.008\\ngini = 0.174\\nsamples = 20\\nvalue = [1, 2, 29]'),\n",
       " Text(114.12073921971253, 99.26608695652173, 'X[1] <= 0.324\\ngini = 0.357\\nsamples = 7\\nvalue = [1, 2, 11]'),\n",
       " Text(113.20410677618071, 89.81217391304348, 'X[6] <= 0.0\\ngini = 0.5\\nsamples = 2\\nvalue = [1, 1, 0]'),\n",
       " Text(112.7457905544148, 80.35826086956521, 'gini = 0.0\\nsamples = 1\\nvalue = [0, 1, 0]'),\n",
       " Text(113.66242299794662, 80.35826086956521, 'gini = 0.0\\nsamples = 1\\nvalue = [1, 0, 0]'),\n",
       " Text(115.03737166324436, 89.81217391304348, 'X[9] <= 0.004\\ngini = 0.153\\nsamples = 5\\nvalue = [0, 1, 11]'),\n",
       " Text(114.57905544147845, 80.35826086956521, 'X[24] <= 0.002\\ngini = 0.5\\nsamples = 2\\nvalue = [0, 1, 1]'),\n",
       " Text(114.12073921971253, 70.90434782608696, 'gini = 0.0\\nsamples = 1\\nvalue = [0, 0, 1]'),\n",
       " Text(115.03737166324436, 70.90434782608696, 'gini = 0.0\\nsamples = 1\\nvalue = [0, 1, 0]'),\n",
       " Text(115.49568788501028, 80.35826086956521, 'gini = 0.0\\nsamples = 3\\nvalue = [0, 0, 10]'),\n",
       " Text(115.03737166324436, 99.26608695652173, 'gini = 0.0\\nsamples = 13\\nvalue = [0, 0, 18]'),\n",
       " Text(115.9540041067762, 118.17391304347825, 'X[18] <= 0.0\\ngini = 0.444\\nsamples = 3\\nvalue = [1, 2, 0]'),\n",
       " Text(115.49568788501028, 108.72, 'gini = 0.0\\nsamples = 1\\nvalue = [1, 0, 0]'),\n",
       " Text(116.41232032854211, 108.72, 'gini = 0.0\\nsamples = 2\\nvalue = [0, 2, 0]'),\n",
       " Text(117.32895277207393, 127.62782608695652, 'X[24] <= 0.004\\ngini = 0.444\\nsamples = 2\\nvalue = [1, 2, 0]'),\n",
       " Text(116.87063655030802, 118.17391304347825, 'gini = 0.0\\nsamples = 1\\nvalue = [1, 0, 0]'),\n",
       " Text(117.78726899383985, 118.17391304347825, 'gini = 0.0\\nsamples = 1\\nvalue = [0, 2, 0]'),\n",
       " Text(119.62053388090351, 146.53565217391304, 'X[6] <= 0.0\\ngini = 0.124\\nsamples = 28\\nvalue = [2, 1, 43]'),\n",
       " Text(118.70390143737167, 137.08173913043478, 'X[21] <= 0.008\\ngini = 0.444\\nsamples = 2\\nvalue = [1, 0, 2]'),\n",
       " Text(118.24558521560576, 127.62782608695652, 'gini = 0.0\\nsamples = 1\\nvalue = [1, 0, 0]'),\n",
       " Text(119.16221765913758, 127.62782608695652, 'gini = 0.0\\nsamples = 1\\nvalue = [0, 0, 2]'),\n",
       " Text(120.53716632443533, 137.08173913043478, 'X[21] <= 0.107\\ngini = 0.09\\nsamples = 26\\nvalue = [1, 1, 41]'),\n",
       " Text(120.07885010266942, 127.62782608695652, 'X[21] <= 0.011\\ngini = 0.046\\nsamples = 25\\nvalue = [0, 1, 41]'),\n",
       " Text(119.62053388090351, 118.17391304347825, 'X[10] <= 0.997\\ngini = 0.219\\nsamples = 5\\nvalue = [0, 1, 7]'),\n",
       " Text(119.16221765913758, 108.72, 'gini = 0.0\\nsamples = 1\\nvalue = [0, 1, 0]'),\n",
       " Text(120.07885010266942, 108.72, 'gini = 0.0\\nsamples = 4\\nvalue = [0, 0, 7]'),\n",
       " Text(120.53716632443533, 118.17391304347825, 'gini = 0.0\\nsamples = 20\\nvalue = [0, 0, 34]'),\n",
       " Text(120.99548254620125, 127.62782608695652, 'gini = 0.0\\nsamples = 1\\nvalue = [1, 0, 0]'),\n",
       " Text(122.8287474332649, 155.98956521739132, 'X[8] <= 0.008\\ngini = 0.13\\nsamples = 136\\nvalue = [7, 7, 191]'),\n",
       " Text(122.37043121149898, 146.53565217391304, 'gini = 0.0\\nsamples = 1\\nvalue = [2, 0, 0]'),\n",
       " Text(123.2870636550308, 146.53565217391304, 'X[0] <= 0.098\\ngini = 0.113\\nsamples = 135\\nvalue = [5, 7, 191]'),\n",
       " Text(122.37043121149898, 137.08173913043478, 'X[8] <= 0.009\\ngini = 0.444\\nsamples = 3\\nvalue = [2, 0, 1]'),\n",
       " Text(121.91211498973307, 127.62782608695652, 'gini = 0.0\\nsamples = 1\\nvalue = [0, 0, 1]'),\n",
       " Text(122.8287474332649, 127.62782608695652, 'gini = 0.0\\nsamples = 2\\nvalue = [2, 0, 0]'),\n",
       " Text(124.20369609856265, 137.08173913043478, 'X[9] <= 0.0\\ngini = 0.096\\nsamples = 132\\nvalue = [3, 7, 190]'),\n",
       " Text(123.74537987679673, 127.62782608695652, 'gini = 0.0\\nsamples = 1\\nvalue = [0, 1, 0]'),\n",
       " Text(124.66201232032856, 127.62782608695652, 'X[21] <= 0.011\\ngini = 0.087\\nsamples = 131\\nvalue = [3, 6, 190]'),\n",
       " Text(122.59958932238195, 118.17391304347825, 'X[19] <= 0.0\\ngini = 0.188\\nsamples = 28\\nvalue = [0, 4, 34]'),\n",
       " Text(121.68295687885012, 108.72, 'X[11] <= 0.0\\ngini = 0.48\\nsamples = 5\\nvalue = [0, 3, 2]'),\n",
       " Text(121.2246406570842, 99.26608695652173, 'X[4] <= 0.004\\ngini = 0.444\\nsamples = 3\\nvalue = [0, 1, 2]'),\n",
       " Text(120.76632443531828, 89.81217391304348, 'gini = 0.0\\nsamples = 1\\nvalue = [0, 1, 0]'),\n",
       " Text(121.68295687885012, 89.81217391304348, 'gini = 0.0\\nsamples = 2\\nvalue = [0, 0, 2]'),\n",
       " Text(122.14127310061603, 99.26608695652173, 'gini = 0.0\\nsamples = 2\\nvalue = [0, 2, 0]'),\n",
       " Text(123.51622176591377, 108.72, 'X[2] <= 0.266\\ngini = 0.059\\nsamples = 23\\nvalue = [0, 1, 32]'),\n",
       " Text(123.05790554414786, 99.26608695652173, 'gini = 0.0\\nsamples = 16\\nvalue = [0, 0, 24]'),\n",
       " Text(123.97453798767968, 99.26608695652173, 'X[17] <= 0.211\\ngini = 0.198\\nsamples = 7\\nvalue = [0, 1, 8]'),\n",
       " Text(123.51622176591377, 89.81217391304348, 'gini = 0.0\\nsamples = 6\\nvalue = [0, 0, 8]'),\n",
       " Text(124.4328542094456, 89.81217391304348, 'gini = 0.0\\nsamples = 1\\nvalue = [0, 1, 0]'),\n",
       " Text(126.72443531827517, 118.17391304347825, 'X[5] <= 0.006\\ngini = 0.061\\nsamples = 103\\nvalue = [3, 2, 156]'),\n",
       " Text(125.80780287474335, 108.72, 'X[24] <= 0.0\\ngini = 0.049\\nsamples = 101\\nvalue = [2, 2, 155]'),\n",
       " Text(125.34948665297742, 99.26608695652173, 'gini = 0.0\\nsamples = 1\\nvalue = [1, 0, 0]'),\n",
       " Text(126.26611909650926, 99.26608695652173, 'X[3] <= 0.841\\ngini = 0.037\\nsamples = 100\\nvalue = [1, 2, 155]'),\n",
       " Text(125.34948665297742, 89.81217391304348, 'X[24] <= 0.003\\ngini = 0.26\\nsamples = 10\\nvalue = [0, 2, 11]'),\n",
       " Text(124.8911704312115, 80.35826086956521, 'X[1] <= 0.182\\ngini = 0.444\\nsamples = 2\\nvalue = [0, 2, 1]'),\n",
       " Text(124.4328542094456, 70.90434782608696, 'gini = 0.0\\nsamples = 1\\nvalue = [0, 2, 0]'),\n",
       " Text(125.34948665297742, 70.90434782608696, 'gini = 0.0\\nsamples = 1\\nvalue = [0, 0, 1]'),\n",
       " Text(125.80780287474335, 80.35826086956521, 'gini = 0.0\\nsamples = 8\\nvalue = [0, 0, 10]'),\n",
       " Text(127.18275154004108, 89.81217391304348, 'X[11] <= 0.0\\ngini = 0.014\\nsamples = 90\\nvalue = [1, 0, 144]'),\n",
       " Text(126.72443531827517, 80.35826086956521, 'X[1] <= 0.851\\ngini = 0.08\\nsamples = 17\\nvalue = [1, 0, 23]'),\n",
       " Text(126.26611909650926, 70.90434782608696, 'gini = 0.0\\nsamples = 16\\nvalue = [0, 0, 23]'),\n",
       " Text(127.18275154004108, 70.90434782608696, 'gini = 0.0\\nsamples = 1\\nvalue = [1, 0, 0]'),\n",
       " Text(127.641067761807, 80.35826086956521, 'gini = 0.0\\nsamples = 73\\nvalue = [0, 0, 121]'),\n",
       " Text(127.641067761807, 108.72, 'X[23] <= 0.995\\ngini = 0.5\\nsamples = 2\\nvalue = [1, 0, 1]'),\n",
       " Text(127.18275154004108, 99.26608695652173, 'gini = 0.0\\nsamples = 1\\nvalue = [1, 0, 0]'),\n",
       " Text(128.09938398357292, 99.26608695652173, 'gini = 0.0\\nsamples = 1\\nvalue = [0, 0, 1]'),\n",
       " Text(158.22808088424026, 174.89739130434782, 'X[13] <= 1.0\\ngini = 0.65\\nsamples = 502\\nvalue = [273, 351, 201]'),\n",
       " Text(134.22936344969202, 165.44347826086957, 'X[0] <= 0.528\\ngini = 0.559\\nsamples = 54\\nvalue = [44, 6, 40]'),\n",
       " Text(130.39096509240247, 155.98956521739132, 'X[16] <= 1.0\\ngini = 0.511\\nsamples = 22\\nvalue = [26, 5, 9]'),\n",
       " Text(128.55770020533882, 146.53565217391304, 'X[10] <= 0.993\\ngini = 0.579\\nsamples = 7\\nvalue = [1, 5, 5]'),\n",
       " Text(128.09938398357292, 137.08173913043478, 'gini = 0.0\\nsamples = 2\\nvalue = [0, 0, 3]'),\n",
       " Text(129.01601642710474, 137.08173913043478, 'X[21] <= 0.026\\ngini = 0.531\\nsamples = 5\\nvalue = [1, 5, 2]'),\n",
       " Text(128.09938398357292, 127.62782608695652, 'X[20] <= 1.0\\ngini = 0.5\\nsamples = 2\\nvalue = [1, 0, 1]'),\n",
       " Text(127.641067761807, 118.17391304347825, 'gini = 0.0\\nsamples = 1\\nvalue = [0, 0, 1]'),\n",
       " Text(128.55770020533882, 118.17391304347825, 'gini = 0.0\\nsamples = 1\\nvalue = [1, 0, 0]'),\n",
       " Text(129.93264887063657, 127.62782608695652, 'X[1] <= 0.302\\ngini = 0.278\\nsamples = 3\\nvalue = [0, 5, 1]'),\n",
       " Text(129.47433264887064, 118.17391304347825, 'gini = 0.0\\nsamples = 1\\nvalue = [0, 0, 1]'),\n",
       " Text(130.39096509240247, 118.17391304347825, 'gini = 0.0\\nsamples = 2\\nvalue = [0, 5, 0]'),\n",
       " Text(132.22422997946614, 146.53565217391304, 'X[7] <= 1.0\\ngini = 0.238\\nsamples = 15\\nvalue = [25, 0, 4]'),\n",
       " Text(131.3075975359343, 137.08173913043478, 'X[0] <= 0.183\\ngini = 0.147\\nsamples = 13\\nvalue = [23, 0, 2]'),\n",
       " Text(130.8492813141684, 127.62782608695652, 'gini = 0.0\\nsamples = 1\\nvalue = [0, 0, 2]'),\n",
       " Text(131.76591375770022, 127.62782608695652, 'gini = 0.0\\nsamples = 12\\nvalue = [23, 0, 0]'),\n",
       " Text(133.14086242299797, 137.08173913043478, 'X[13] <= 1.0\\ngini = 0.5\\nsamples = 2\\nvalue = [2, 0, 2]'),\n",
       " Text(132.68254620123204, 127.62782608695652, 'gini = 0.0\\nsamples = 1\\nvalue = [0, 0, 2]'),\n",
       " Text(133.59917864476387, 127.62782608695652, 'gini = 0.0\\nsamples = 1\\nvalue = [2, 0, 0]'),\n",
       " Text(138.06776180698154, 155.98956521739132, 'X[1] <= 0.699\\ngini = 0.486\\nsamples = 32\\nvalue = [18, 1, 31]'),\n",
       " Text(136.1199178644764, 146.53565217391304, 'X[11] <= 0.001\\ngini = 0.366\\nsamples = 24\\nvalue = [8, 1, 30]'),\n",
       " Text(134.97412731006162, 137.08173913043478, 'X[14] <= 0.0\\ngini = 0.469\\nsamples = 6\\nvalue = [5, 0, 3]'),\n",
       " Text(134.5158110882957, 127.62782608695652, 'X[7] <= 1.0\\ngini = 0.375\\nsamples = 3\\nvalue = [1, 0, 3]'),\n",
       " Text(134.0574948665298, 118.17391304347825, 'gini = 0.0\\nsamples = 2\\nvalue = [0, 0, 3]'),\n",
       " Text(134.97412731006162, 118.17391304347825, 'gini = 0.0\\nsamples = 1\\nvalue = [1, 0, 0]'),\n",
       " Text(135.43244353182752, 127.62782608695652, 'gini = 0.0\\nsamples = 3\\nvalue = [4, 0, 0]'),\n",
       " Text(137.2657084188912, 137.08173913043478, 'X[17] <= 0.016\\ngini = 0.231\\nsamples = 18\\nvalue = [3, 1, 27]'),\n",
       " Text(136.34907597535937, 127.62782608695652, 'X[22] <= 0.009\\ngini = 0.49\\nsamples = 4\\nvalue = [3, 0, 4]'),\n",
       " Text(135.89075975359344, 118.17391304347825, 'gini = 0.0\\nsamples = 2\\nvalue = [3, 0, 0]'),\n",
       " Text(136.80739219712527, 118.17391304347825, 'gini = 0.0\\nsamples = 2\\nvalue = [0, 0, 4]'),\n",
       " Text(138.18234086242302, 127.62782608695652, 'X[9] <= 0.008\\ngini = 0.08\\nsamples = 14\\nvalue = [0, 1, 23]'),\n",
       " Text(137.7240246406571, 118.17391304347825, 'gini = 0.0\\nsamples = 12\\nvalue = [0, 0, 22]'),\n",
       " Text(138.64065708418892, 118.17391304347825, 'X[1] <= 0.389\\ngini = 0.5\\nsamples = 2\\nvalue = [0, 1, 1]'),\n",
       " Text(138.18234086242302, 108.72, 'gini = 0.0\\nsamples = 1\\nvalue = [0, 1, 0]'),\n",
       " Text(139.09897330595484, 108.72, 'gini = 0.0\\nsamples = 1\\nvalue = [0, 0, 1]'),\n",
       " Text(140.01560574948667, 146.53565217391304, 'X[19] <= 0.0\\ngini = 0.165\\nsamples = 8\\nvalue = [10, 0, 1]'),\n",
       " Text(139.55728952772074, 137.08173913043478, 'X[3] <= 0.896\\ngini = 0.444\\nsamples = 3\\nvalue = [2, 0, 1]'),\n",
       " Text(139.09897330595484, 127.62782608695652, 'gini = 0.0\\nsamples = 1\\nvalue = [0, 0, 1]'),\n",
       " Text(140.01560574948667, 127.62782608695652, 'gini = 0.0\\nsamples = 2\\nvalue = [2, 0, 0]'),\n",
       " Text(140.4739219712526, 137.08173913043478, 'gini = 0.0\\nsamples = 5\\nvalue = [8, 0, 0]'),\n",
       " Text(182.22679831878852, 165.44347826086957, 'X[22] <= 0.01\\ngini = 0.635\\nsamples = 448\\nvalue = [229, 345, 161]'),\n",
       " Text(163.59651244866532, 155.98956521739132, 'X[4] <= 0.002\\ngini = 0.592\\nsamples = 345\\nvalue = [152, 313, 103]'),\n",
       " Text(145.34353182751542, 146.53565217391304, 'X[12] <= 0.0\\ngini = 0.575\\nsamples = 55\\nvalue = [49, 24, 13]'),\n",
       " Text(142.42176591375772, 137.08173913043478, 'X[23] <= 0.991\\ngini = 0.586\\nsamples = 42\\nvalue = [31, 23, 7]'),\n",
       " Text(140.9322381930185, 127.62782608695652, 'X[20] <= 1.0\\ngini = 0.278\\nsamples = 7\\nvalue = [0, 10, 2]'),\n",
       " Text(140.4739219712526, 118.17391304347825, 'gini = 0.0\\nsamples = 1\\nvalue = [0, 0, 1]'),\n",
       " Text(141.39055441478442, 118.17391304347825, 'X[8] <= 0.009\\ngini = 0.165\\nsamples = 6\\nvalue = [0, 10, 1]'),\n",
       " Text(140.9322381930185, 108.72, 'X[16] <= 1.0\\ngini = 0.5\\nsamples = 2\\nvalue = [0, 1, 1]'),\n",
       " Text(140.4739219712526, 99.26608695652173, 'gini = 0.0\\nsamples = 1\\nvalue = [0, 1, 0]'),\n",
       " Text(141.39055441478442, 99.26608695652173, 'gini = 0.0\\nsamples = 1\\nvalue = [0, 0, 1]'),\n",
       " Text(141.84887063655032, 108.72, 'gini = 0.0\\nsamples = 4\\nvalue = [0, 9, 0]'),\n",
       " Text(143.91129363449693, 127.62782608695652, 'X[2] <= 0.177\\ngini = 0.519\\nsamples = 35\\nvalue = [31, 13, 5]'),\n",
       " Text(143.45297741273103, 118.17391304347825, 'gini = 0.0\\nsamples = 1\\nvalue = [0, 3, 0]'),\n",
       " Text(144.36960985626285, 118.17391304347825, 'X[2] <= 0.256\\ngini = 0.487\\nsamples = 34\\nvalue = [31, 10, 5]'),\n",
       " Text(143.22381930184807, 108.72, 'X[6] <= 0.0\\ngini = 0.348\\nsamples = 27\\nvalue = [27, 4, 3]'),\n",
       " Text(142.30718685831624, 99.26608695652173, 'X[15] <= 0.0\\ngini = 0.512\\nsamples = 10\\nvalue = [7, 1, 3]'),\n",
       " Text(141.84887063655032, 89.81217391304348, 'X[24] <= 0.005\\ngini = 0.46\\nsamples = 9\\nvalue = [7, 1, 2]'),\n",
       " Text(140.9322381930185, 80.35826086956521, 'X[1] <= 0.264\\ngini = 0.219\\nsamples = 7\\nvalue = [7, 0, 1]'),\n",
       " Text(140.4739219712526, 70.90434782608696, 'X[19] <= 0.0\\ngini = 0.5\\nsamples = 2\\nvalue = [1, 0, 1]'),\n",
       " Text(140.01560574948667, 61.45043478260868, 'gini = 0.0\\nsamples = 1\\nvalue = [0, 0, 1]'),\n",
       " Text(140.9322381930185, 61.45043478260868, 'gini = 0.0\\nsamples = 1\\nvalue = [1, 0, 0]'),\n",
       " Text(141.39055441478442, 70.90434782608696, 'gini = 0.0\\nsamples = 5\\nvalue = [6, 0, 0]'),\n",
       " Text(142.76550308008214, 80.35826086956521, 'X[23] <= 0.993\\ngini = 0.5\\nsamples = 2\\nvalue = [0, 1, 1]'),\n",
       " Text(142.30718685831624, 70.90434782608696, 'gini = 0.0\\nsamples = 1\\nvalue = [0, 0, 1]'),\n",
       " Text(143.22381930184807, 70.90434782608696, 'gini = 0.0\\nsamples = 1\\nvalue = [0, 1, 0]'),\n",
       " Text(142.76550308008214, 89.81217391304348, 'gini = 0.0\\nsamples = 1\\nvalue = [0, 0, 1]'),\n",
       " Text(144.1404517453799, 99.26608695652173, 'X[13] <= 1.0\\ngini = 0.227\\nsamples = 17\\nvalue = [20, 3, 0]'),\n",
       " Text(143.68213552361397, 89.81217391304348, 'gini = 0.0\\nsamples = 1\\nvalue = [0, 1, 0]'),\n",
       " Text(144.59876796714582, 89.81217391304348, 'X[10] <= 0.992\\ngini = 0.165\\nsamples = 16\\nvalue = [20, 2, 0]'),\n",
       " Text(144.1404517453799, 80.35826086956521, 'gini = 0.0\\nsamples = 9\\nvalue = [14, 0, 0]'),\n",
       " Text(145.05708418891172, 80.35826086956521, 'X[10] <= 0.993\\ngini = 0.375\\nsamples = 7\\nvalue = [6, 2, 0]'),\n",
       " Text(144.59876796714582, 70.90434782608696, 'gini = 0.0\\nsamples = 2\\nvalue = [0, 2, 0]'),\n",
       " Text(145.51540041067764, 70.90434782608696, 'gini = 0.0\\nsamples = 5\\nvalue = [6, 0, 0]'),\n",
       " Text(145.51540041067764, 108.72, 'X[8] <= 0.011\\ngini = 0.611\\nsamples = 7\\nvalue = [4, 6, 2]'),\n",
       " Text(145.05708418891172, 99.26608695652173, 'gini = 0.0\\nsamples = 3\\nvalue = [0, 6, 0]'),\n",
       " Text(145.97371663244354, 99.26608695652173, 'X[2] <= 0.27\\ngini = 0.444\\nsamples = 4\\nvalue = [4, 0, 2]'),\n",
       " Text(145.51540041067764, 89.81217391304348, 'gini = 0.0\\nsamples = 1\\nvalue = [0, 0, 2]'),\n",
       " Text(146.43203285420947, 89.81217391304348, 'gini = 0.0\\nsamples = 3\\nvalue = [4, 0, 0]'),\n",
       " Text(148.26529774127312, 137.08173913043478, 'X[11] <= 0.0\\ngini = 0.422\\nsamples = 13\\nvalue = [18, 1, 6]'),\n",
       " Text(147.3486652977413, 127.62782608695652, 'X[24] <= 0.001\\ngini = 0.111\\nsamples = 8\\nvalue = [16, 0, 1]'),\n",
       " Text(146.89034907597537, 118.17391304347825, 'X[20] <= 1.0\\ngini = 0.5\\nsamples = 2\\nvalue = [1, 0, 1]'),\n",
       " Text(146.43203285420947, 108.72, 'gini = 0.0\\nsamples = 1\\nvalue = [0, 0, 1]'),\n",
       " Text(147.3486652977413, 108.72, 'gini = 0.0\\nsamples = 1\\nvalue = [1, 0, 0]'),\n",
       " Text(147.8069815195072, 118.17391304347825, 'gini = 0.0\\nsamples = 6\\nvalue = [15, 0, 0]'),\n",
       " Text(149.18193018480494, 127.62782608695652, 'X[12] <= 0.0\\ngini = 0.531\\nsamples = 5\\nvalue = [2, 1, 5]'),\n",
       " Text(148.723613963039, 118.17391304347825, 'gini = 0.0\\nsamples = 2\\nvalue = [0, 0, 5]'),\n",
       " Text(149.64024640657087, 118.17391304347825, 'X[11] <= 0.0\\ngini = 0.444\\nsamples = 3\\nvalue = [2, 1, 0]'),\n",
       " Text(149.18193018480494, 108.72, 'gini = 0.0\\nsamples = 1\\nvalue = [0, 1, 0]'),\n",
       " Text(150.09856262833677, 108.72, 'gini = 0.0\\nsamples = 2\\nvalue = [2, 0, 0]'),\n",
       " Text(181.84949306981522, 146.53565217391304, 'X[24] <= 0.009\\ngini = 0.56\\nsamples = 290\\nvalue = [103, 289, 90]'),\n",
       " Text(173.4977541067762, 137.08173913043478, 'X[8] <= 0.015\\ngini = 0.52\\nsamples = 261\\nvalue = [85, 282, 70]'),\n",
       " Text(164.1846252566735, 127.62782608695652, 'X[0] <= 0.82\\ngini = 0.593\\nsamples = 136\\nvalue = [66, 129, 41]'),\n",
       " Text(155.81319301848052, 118.17391304347825, 'X[21] <= 0.012\\ngini = 0.555\\nsamples = 122\\nvalue = [51, 125, 32]'),\n",
       " Text(151.0151950718686, 108.72, 'X[5] <= 0.008\\ngini = 0.524\\nsamples = 12\\nvalue = [9, 1, 5]'),\n",
       " Text(150.5568788501027, 99.26608695652173, 'X[12] <= 0.0\\ngini = 0.462\\nsamples = 10\\nvalue = [9, 1, 3]'),\n",
       " Text(149.64024640657087, 89.81217391304348, 'X[13] <= 1.0\\ngini = 0.444\\nsamples = 2\\nvalue = [0, 1, 2]'),\n",
       " Text(149.18193018480494, 80.35826086956521, 'gini = 0.0\\nsamples = 1\\nvalue = [0, 1, 0]'),\n",
       " Text(150.09856262833677, 80.35826086956521, 'gini = 0.0\\nsamples = 1\\nvalue = [0, 0, 2]'),\n",
       " Text(151.47351129363452, 89.81217391304348, 'X[15] <= 0.0\\ngini = 0.18\\nsamples = 8\\nvalue = [9, 0, 1]'),\n",
       " Text(151.0151950718686, 80.35826086956521, 'gini = 0.0\\nsamples = 7\\nvalue = [9, 0, 0]'),\n",
       " Text(151.9318275154004, 80.35826086956521, 'gini = 0.0\\nsamples = 1\\nvalue = [0, 0, 1]'),\n",
       " Text(151.47351129363452, 99.26608695652173, 'gini = 0.0\\nsamples = 2\\nvalue = [0, 0, 2]'),\n",
       " Text(160.61119096509242, 108.72, 'X[5] <= 0.007\\ngini = 0.52\\nsamples = 110\\nvalue = [42, 124, 27]'),\n",
       " Text(155.1400410677618, 99.26608695652173, 'X[21] <= 0.041\\ngini = 0.411\\nsamples = 43\\nvalue = [4, 61, 18]'),\n",
       " Text(154.68172484599592, 89.81217391304348, 'X[22] <= 0.004\\ngini = 0.391\\nsamples = 41\\nvalue = [4, 61, 16]'),\n",
       " Text(152.84845995893224, 80.35826086956521, 'X[7] <= 1.0\\ngini = 0.109\\nsamples = 16\\nvalue = [1, 33, 1]'),\n",
       " Text(152.39014373716634, 70.90434782608696, 'gini = 0.0\\nsamples = 1\\nvalue = [1, 0, 0]'),\n",
       " Text(153.30677618069817, 70.90434782608696, 'X[13] <= 1.0\\ngini = 0.057\\nsamples = 15\\nvalue = [0, 33, 1]'),\n",
       " Text(152.84845995893224, 61.45043478260868, 'X[4] <= 0.005\\ngini = 0.375\\nsamples = 2\\nvalue = [0, 3, 1]'),\n",
       " Text(152.39014373716634, 51.99652173913043, 'gini = 0.0\\nsamples = 1\\nvalue = [0, 0, 1]'),\n",
       " Text(153.30677618069817, 51.99652173913043, 'gini = 0.0\\nsamples = 1\\nvalue = [0, 3, 0]'),\n",
       " Text(153.7650924024641, 61.45043478260868, 'gini = 0.0\\nsamples = 13\\nvalue = [0, 30, 0]'),\n",
       " Text(156.51498973305956, 80.35826086956521, 'X[0] <= 0.649\\ngini = 0.519\\nsamples = 25\\nvalue = [3, 28, 15]'),\n",
       " Text(156.05667351129364, 70.90434782608696, 'X[8] <= 0.009\\ngini = 0.394\\nsamples = 20\\nvalue = [3, 28, 6]'),\n",
       " Text(154.68172484599592, 61.45043478260868, 'X[22] <= 0.005\\ngini = 0.625\\nsamples = 6\\nvalue = [2, 2, 4]'),\n",
       " Text(154.22340862423, 51.99652173913043, 'gini = 0.0\\nsamples = 2\\nvalue = [2, 0, 0]'),\n",
       " Text(155.1400410677618, 51.99652173913043, 'X[4] <= 0.002\\ngini = 0.444\\nsamples = 4\\nvalue = [0, 2, 4]'),\n",
       " Text(154.68172484599592, 42.54260869565218, 'X[21] <= 0.025\\ngini = 0.444\\nsamples = 2\\nvalue = [0, 2, 1]'),\n",
       " Text(154.22340862423, 33.0886956521739, 'gini = 0.0\\nsamples = 1\\nvalue = [0, 0, 1]'),\n",
       " Text(155.1400410677618, 33.0886956521739, 'gini = 0.0\\nsamples = 1\\nvalue = [0, 2, 0]'),\n",
       " Text(155.59835728952774, 42.54260869565218, 'gini = 0.0\\nsamples = 2\\nvalue = [0, 0, 3]'),\n",
       " Text(157.4316221765914, 61.45043478260868, 'X[9] <= 0.006\\ngini = 0.19\\nsamples = 14\\nvalue = [1, 26, 2]'),\n",
       " Text(156.97330595482546, 51.99652173913043, 'X[9] <= 0.006\\ngini = 0.64\\nsamples = 4\\nvalue = [1, 2, 2]'),\n",
       " Text(156.51498973305956, 42.54260869565218, 'gini = 0.0\\nsamples = 2\\nvalue = [0, 2, 0]'),\n",
       " Text(157.4316221765914, 42.54260869565218, 'X[1] <= 0.541\\ngini = 0.444\\nsamples = 2\\nvalue = [1, 0, 2]'),\n",
       " Text(156.97330595482546, 33.0886956521739, 'gini = 0.0\\nsamples = 1\\nvalue = [0, 0, 2]'),\n",
       " Text(157.88993839835732, 33.0886956521739, 'gini = 0.0\\nsamples = 1\\nvalue = [1, 0, 0]'),\n",
       " Text(157.88993839835732, 51.99652173913043, 'gini = 0.0\\nsamples = 10\\nvalue = [0, 24, 0]'),\n",
       " Text(156.97330595482546, 70.90434782608696, 'gini = 0.0\\nsamples = 5\\nvalue = [0, 0, 9]'),\n",
       " Text(155.59835728952774, 89.81217391304348, 'gini = 0.0\\nsamples = 2\\nvalue = [0, 0, 2]'),\n",
       " Text(166.08234086242302, 99.26608695652173, 'X[17] <= 0.045\\ngini = 0.546\\nsamples = 67\\nvalue = [38, 63, 9]'),\n",
       " Text(163.04599589322385, 89.81217391304348, 'X[24] <= 0.006\\ngini = 0.421\\nsamples = 45\\nvalue = [17, 52, 3]'),\n",
       " Text(160.86899383983575, 80.35826086956521, 'X[2] <= 0.231\\ngini = 0.531\\nsamples = 26\\nvalue = [15, 22, 2]'),\n",
       " Text(159.72320328542096, 70.90434782608696, 'X[9] <= 0.01\\ngini = 0.37\\nsamples = 8\\nvalue = [7, 1, 1]'),\n",
       " Text(159.26488706365504, 61.45043478260868, 'X[11] <= 0.0\\ngini = 0.219\\nsamples = 7\\nvalue = [7, 1, 0]'),\n",
       " Text(158.80657084188914, 51.99652173913043, 'gini = 0.0\\nsamples = 1\\nvalue = [0, 1, 0]'),\n",
       " Text(159.72320328542096, 51.99652173913043, 'gini = 0.0\\nsamples = 6\\nvalue = [7, 0, 0]'),\n",
       " Text(160.18151950718686, 61.45043478260868, 'gini = 0.0\\nsamples = 1\\nvalue = [0, 0, 1]'),\n",
       " Text(162.01478439425054, 70.90434782608696, 'X[21] <= 0.023\\ngini = 0.438\\nsamples = 18\\nvalue = [8, 21, 1]'),\n",
       " Text(161.0981519507187, 61.45043478260868, 'X[20] <= 1.0\\ngini = 0.569\\nsamples = 7\\nvalue = [6, 5, 1]'),\n",
       " Text(160.6398357289528, 51.99652173913043, 'gini = 0.0\\nsamples = 2\\nvalue = [0, 4, 0]'),\n",
       " Text(161.5564681724846, 51.99652173913043, 'X[11] <= 0.0\\ngini = 0.406\\nsamples = 5\\nvalue = [6, 1, 1]'),\n",
       " Text(161.0981519507187, 42.54260869565218, 'X[10] <= 0.994\\ngini = 0.5\\nsamples = 2\\nvalue = [0, 1, 1]'),\n",
       " Text(160.6398357289528, 33.0886956521739, 'gini = 0.0\\nsamples = 1\\nvalue = [0, 0, 1]'),\n",
       " Text(161.5564681724846, 33.0886956521739, 'gini = 0.0\\nsamples = 1\\nvalue = [0, 1, 0]'),\n",
       " Text(162.01478439425054, 42.54260869565218, 'gini = 0.0\\nsamples = 3\\nvalue = [6, 0, 0]'),\n",
       " Text(162.93141683778236, 61.45043478260868, 'X[6] <= 0.002\\ngini = 0.198\\nsamples = 11\\nvalue = [2, 16, 0]'),\n",
       " Text(162.47310061601644, 51.99652173913043, 'gini = 0.0\\nsamples = 9\\nvalue = [0, 15, 0]'),\n",
       " Text(163.38973305954826, 51.99652173913043, 'X[0] <= 0.662\\ngini = 0.444\\nsamples = 2\\nvalue = [2, 1, 0]'),\n",
       " Text(162.93141683778236, 42.54260869565218, 'gini = 0.0\\nsamples = 1\\nvalue = [2, 0, 0]'),\n",
       " Text(163.8480492813142, 42.54260869565218, 'gini = 0.0\\nsamples = 1\\nvalue = [0, 1, 0]'),\n",
       " Text(165.2229979466119, 80.35826086956521, 'X[10] <= 0.993\\ngini = 0.169\\nsamples = 19\\nvalue = [2, 30, 1]'),\n",
       " Text(164.3063655030801, 70.90434782608696, 'X[16] <= 1.0\\ngini = 0.124\\nsamples = 16\\nvalue = [2, 28, 0]'),\n",
       " Text(163.8480492813142, 61.45043478260868, 'gini = 0.0\\nsamples = 13\\nvalue = [0, 23, 0]'),\n",
       " Text(164.764681724846, 61.45043478260868, 'X[7] <= 0.999\\ngini = 0.408\\nsamples = 3\\nvalue = [2, 5, 0]'),\n",
       " Text(164.3063655030801, 51.99652173913043, 'gini = 0.0\\nsamples = 2\\nvalue = [0, 5, 0]'),\n",
       " Text(165.2229979466119, 51.99652173913043, 'gini = 0.0\\nsamples = 1\\nvalue = [2, 0, 0]'),\n",
       " Text(166.13963039014376, 70.90434782608696, 'X[11] <= 0.0\\ngini = 0.444\\nsamples = 3\\nvalue = [0, 2, 1]'),\n",
       " Text(165.68131416837784, 61.45043478260868, 'gini = 0.0\\nsamples = 1\\nvalue = [0, 0, 1]'),\n",
       " Text(166.59794661190966, 61.45043478260868, 'gini = 0.0\\nsamples = 2\\nvalue = [0, 2, 0]'),\n",
       " Text(169.1186858316222, 89.81217391304348, 'X[5] <= 0.008\\ngini = 0.586\\nsamples = 22\\nvalue = [21, 11, 6]'),\n",
       " Text(167.5145790554415, 80.35826086956521, 'X[9] <= 0.009\\ngini = 0.449\\nsamples = 5\\nvalue = [1, 5, 1]'),\n",
       " Text(167.0562628336756, 70.90434782608696, 'gini = 0.0\\nsamples = 3\\nvalue = [0, 5, 0]'),\n",
       " Text(167.9728952772074, 70.90434782608696, 'X[6] <= 0.0\\ngini = 0.5\\nsamples = 2\\nvalue = [1, 0, 1]'),\n",
       " Text(167.5145790554415, 61.45043478260868, 'gini = 0.0\\nsamples = 1\\nvalue = [1, 0, 0]'),\n",
       " Text(168.4312114989733, 61.45043478260868, 'gini = 0.0\\nsamples = 1\\nvalue = [0, 0, 1]'),\n",
       " Text(170.7227926078029, 80.35826086956521, 'X[4] <= 0.003\\ngini = 0.52\\nsamples = 17\\nvalue = [20, 6, 5]'),\n",
       " Text(169.80616016427106, 70.90434782608696, 'X[20] <= 1.0\\ngini = 0.314\\nsamples = 11\\nvalue = [18, 2, 2]'),\n",
       " Text(169.34784394250514, 61.45043478260868, 'X[3] <= 0.889\\ngini = 0.18\\nsamples = 9\\nvalue = [18, 2, 0]'),\n",
       " Text(168.88952772073924, 51.99652173913043, 'X[13] <= 1.0\\ngini = 0.444\\nsamples = 3\\nvalue = [1, 2, 0]'),\n",
       " Text(168.4312114989733, 42.54260869565218, 'gini = 0.0\\nsamples = 2\\nvalue = [0, 2, 0]'),\n",
       " Text(169.34784394250514, 42.54260869565218, 'gini = 0.0\\nsamples = 1\\nvalue = [1, 0, 0]'),\n",
       " Text(169.80616016427106, 51.99652173913043, 'gini = 0.0\\nsamples = 6\\nvalue = [17, 0, 0]'),\n",
       " Text(170.264476386037, 61.45043478260868, 'gini = 0.0\\nsamples = 2\\nvalue = [0, 0, 2]'),\n",
       " Text(171.6394250513347, 70.90434782608696, 'X[2] <= 0.258\\ngini = 0.642\\nsamples = 6\\nvalue = [2, 4, 3]'),\n",
       " Text(171.1811088295688, 61.45043478260868, 'gini = 0.0\\nsamples = 2\\nvalue = [0, 0, 3]'),\n",
       " Text(172.09774127310064, 61.45043478260868, 'X[10] <= 0.999\\ngini = 0.444\\nsamples = 4\\nvalue = [2, 4, 0]'),\n",
       " Text(171.6394250513347, 51.99652173913043, 'gini = 0.0\\nsamples = 3\\nvalue = [0, 4, 0]'),\n",
       " Text(172.55605749486654, 51.99652173913043, 'gini = 0.0\\nsamples = 1\\nvalue = [2, 0, 0]'),\n",
       " Text(172.55605749486654, 118.17391304347825, 'X[2] <= 0.254\\ngini = 0.589\\nsamples = 14\\nvalue = [15, 4, 9]'),\n",
       " Text(171.41026694045175, 108.72, 'X[10] <= 0.991\\ngini = 0.444\\nsamples = 9\\nvalue = [15, 2, 4]'),\n",
       " Text(170.49363449691992, 99.26608695652173, 'X[23] <= 0.992\\ngini = 0.5\\nsamples = 2\\nvalue = [0, 2, 2]'),\n",
       " Text(170.03531827515403, 89.81217391304348, 'gini = 0.0\\nsamples = 1\\nvalue = [0, 2, 0]'),\n",
       " Text(170.95195071868585, 89.81217391304348, 'gini = 0.0\\nsamples = 1\\nvalue = [0, 0, 2]'),\n",
       " Text(172.3268993839836, 99.26608695652173, 'X[22] <= 0.003\\ngini = 0.208\\nsamples = 7\\nvalue = [15, 0, 2]'),\n",
       " Text(171.86858316221767, 89.81217391304348, 'gini = 0.0\\nsamples = 1\\nvalue = [0, 0, 1]'),\n",
       " Text(172.7852156057495, 89.81217391304348, 'X[23] <= 0.992\\ngini = 0.117\\nsamples = 6\\nvalue = [15, 0, 1]'),\n",
       " Text(172.3268993839836, 80.35826086956521, 'gini = 0.0\\nsamples = 1\\nvalue = [0, 0, 1]'),\n",
       " Text(173.24353182751543, 80.35826086956521, 'gini = 0.0\\nsamples = 5\\nvalue = [15, 0, 0]'),\n",
       " Text(173.70184804928132, 108.72, 'X[23] <= 0.994\\ngini = 0.408\\nsamples = 5\\nvalue = [0, 2, 5]'),\n",
       " Text(173.24353182751543, 99.26608695652173, 'gini = 0.0\\nsamples = 3\\nvalue = [0, 0, 4]'),\n",
       " Text(174.16016427104725, 99.26608695652173, 'X[8] <= 0.011\\ngini = 0.444\\nsamples = 2\\nvalue = [0, 2, 1]'),\n",
       " Text(173.70184804928132, 89.81217391304348, 'gini = 0.0\\nsamples = 1\\nvalue = [0, 2, 0]'),\n",
       " Text(174.61848049281315, 89.81217391304348, 'gini = 0.0\\nsamples = 1\\nvalue = [0, 0, 1]'),\n",
       " Text(182.81088295687886, 127.62782608695652, 'X[16] <= 1.0\\ngini = 0.391\\nsamples = 125\\nvalue = [19, 153, 29]'),\n",
       " Text(180.00369609856264, 118.17391304347825, 'X[12] <= 0.0\\ngini = 0.6\\nsamples = 32\\nvalue = [7, 26, 22]'),\n",
       " Text(178.0558521560575, 108.72, 'X[21] <= 0.043\\ngini = 0.523\\nsamples = 24\\nvalue = [6, 25, 8]'),\n",
       " Text(176.45174537987683, 99.26608695652173, 'X[0] <= 0.902\\ngini = 0.292\\nsamples = 14\\nvalue = [2, 20, 2]'),\n",
       " Text(175.53511293634497, 89.81217391304348, 'X[13] <= 1.0\\ngini = 0.091\\nsamples = 12\\nvalue = [1, 20, 0]'),\n",
       " Text(175.07679671457907, 80.35826086956521, 'gini = 0.0\\nsamples = 10\\nvalue = [0, 19, 0]'),\n",
       " Text(175.9934291581109, 80.35826086956521, 'X[8] <= 0.037\\ngini = 0.5\\nsamples = 2\\nvalue = [1, 1, 0]'),\n",
       " Text(175.53511293634497, 70.90434782608696, 'gini = 0.0\\nsamples = 1\\nvalue = [0, 1, 0]'),\n",
       " Text(176.45174537987683, 70.90434782608696, 'gini = 0.0\\nsamples = 1\\nvalue = [1, 0, 0]'),\n",
       " Text(177.36837782340865, 89.81217391304348, 'X[22] <= 0.001\\ngini = 0.444\\nsamples = 2\\nvalue = [1, 0, 2]'),\n",
       " Text(176.91006160164272, 80.35826086956521, 'gini = 0.0\\nsamples = 1\\nvalue = [1, 0, 0]'),\n",
       " Text(177.82669404517455, 80.35826086956521, 'gini = 0.0\\nsamples = 1\\nvalue = [0, 0, 2]'),\n",
       " Text(179.6599589322382, 99.26608695652173, 'X[11] <= 0.006\\ngini = 0.658\\nsamples = 10\\nvalue = [4, 5, 6]'),\n",
       " Text(179.2016427104723, 89.81217391304348, 'X[18] <= 0.0\\ngini = 0.628\\nsamples = 7\\nvalue = [4, 5, 2]'),\n",
       " Text(178.74332648870637, 80.35826086956521, 'gini = 0.0\\nsamples = 4\\nvalue = [0, 5, 0]'),\n",
       " Text(179.6599589322382, 80.35826086956521, 'X[9] <= 0.003\\ngini = 0.444\\nsamples = 3\\nvalue = [4, 0, 2]'),\n",
       " Text(179.2016427104723, 70.90434782608696, 'gini = 0.0\\nsamples = 1\\nvalue = [0, 0, 2]'),\n",
       " Text(180.11827515400412, 70.90434782608696, 'gini = 0.0\\nsamples = 2\\nvalue = [4, 0, 0]'),\n",
       " Text(180.11827515400412, 89.81217391304348, 'gini = 0.0\\nsamples = 3\\nvalue = [0, 0, 4]'),\n",
       " Text(181.95154004106777, 108.72, 'X[19] <= 0.0\\ngini = 0.227\\nsamples = 8\\nvalue = [1, 1, 14]'),\n",
       " Text(181.49322381930187, 99.26608695652173, 'X[23] <= 0.997\\ngini = 0.124\\nsamples = 7\\nvalue = [0, 1, 14]'),\n",
       " Text(181.03490759753595, 89.81217391304348, 'gini = 0.0\\nsamples = 5\\nvalue = [0, 0, 12]'),\n",
       " Text(181.95154004106777, 89.81217391304348, 'X[24] <= 0.001\\ngini = 0.444\\nsamples = 2\\nvalue = [0, 1, 2]'),\n",
       " Text(181.49322381930187, 80.35826086956521, 'gini = 0.0\\nsamples = 1\\nvalue = [0, 1, 0]'),\n",
       " Text(182.4098562628337, 80.35826086956521, 'gini = 0.0\\nsamples = 1\\nvalue = [0, 0, 2]'),\n",
       " Text(182.4098562628337, 99.26608695652173, 'gini = 0.0\\nsamples = 1\\nvalue = [1, 0, 0]'),\n",
       " Text(185.6180698151951, 118.17391304347825, 'X[0] <= 0.744\\ngini = 0.234\\nsamples = 93\\nvalue = [12, 127, 7]'),\n",
       " Text(184.70143737166327, 108.72, 'X[4] <= 0.031\\ngini = 0.183\\nsamples = 82\\nvalue = [8, 118, 5]'),\n",
       " Text(184.24312114989735, 99.26608695652173, 'X[22] <= 0.009\\ngini = 0.171\\nsamples = 81\\nvalue = [8, 118, 4]'),\n",
       " Text(183.78480492813142, 89.81217391304348, 'X[17] <= 0.085\\ngini = 0.159\\nsamples = 80\\nvalue = [7, 118, 4]'),\n",
       " Text(183.32648870636552, 80.35826086956521, 'X[4] <= 0.011\\ngini = 0.133\\nsamples = 79\\nvalue = [7, 118, 2]'),\n",
       " Text(182.4098562628337, 70.90434782608696, 'X[17] <= 0.015\\ngini = 0.112\\nsamples = 72\\nvalue = [7, 111, 0]'),\n",
       " Text(181.95154004106777, 61.45043478260868, 'gini = 0.0\\nsamples = 1\\nvalue = [1, 0, 0]'),\n",
       " Text(182.8681724845996, 61.45043478260868, 'X[10] <= 0.997\\ngini = 0.097\\nsamples = 71\\nvalue = [6, 111, 0]'),\n",
       " Text(181.7223819301848, 51.99652173913043, 'X[11] <= 0.0\\ngini = 0.043\\nsamples = 52\\nvalue = [2, 88, 0]'),\n",
       " Text(181.2640657084189, 42.54260869565218, 'X[9] <= 0.008\\ngini = 0.48\\nsamples = 3\\nvalue = [2, 3, 0]'),\n",
       " Text(180.80574948665299, 33.0886956521739, 'gini = 0.0\\nsamples = 1\\nvalue = [2, 0, 0]'),\n",
       " Text(181.7223819301848, 33.0886956521739, 'gini = 0.0\\nsamples = 2\\nvalue = [0, 3, 0]'),\n",
       " Text(182.18069815195074, 42.54260869565218, 'gini = 0.0\\nsamples = 49\\nvalue = [0, 85, 0]'),\n",
       " Text(184.01396303901439, 51.99652173913043, 'X[9] <= 0.003\\ngini = 0.252\\nsamples = 19\\nvalue = [4, 23, 0]'),\n",
       " Text(183.5556468172485, 42.54260869565218, 'X[1] <= 0.143\\ngini = 0.204\\nsamples = 18\\nvalue = [3, 23, 0]'),\n",
       " Text(182.63901437371666, 33.0886956521739, 'X[8] <= 0.039\\ngini = 0.444\\nsamples = 2\\nvalue = [2, 1, 0]'),\n",
       " Text(182.18069815195074, 23.634782608695645, 'gini = 0.0\\nsamples = 1\\nvalue = [0, 1, 0]'),\n",
       " Text(183.09733059548256, 23.634782608695645, 'gini = 0.0\\nsamples = 1\\nvalue = [2, 0, 0]'),\n",
       " Text(184.4722792607803, 33.0886956521739, 'X[4] <= 0.004\\ngini = 0.083\\nsamples = 16\\nvalue = [1, 22, 0]'),\n",
       " Text(184.01396303901439, 23.634782608695645, 'gini = 0.0\\nsamples = 1\\nvalue = [1, 0, 0]'),\n",
       " Text(184.9305954825462, 23.634782608695645, 'gini = 0.0\\nsamples = 15\\nvalue = [0, 22, 0]'),\n",
       " Text(184.4722792607803, 42.54260869565218, 'gini = 0.0\\nsamples = 1\\nvalue = [1, 0, 0]'),\n",
       " Text(184.24312114989735, 70.90434782608696, 'X[11] <= 0.002\\ngini = 0.346\\nsamples = 7\\nvalue = [0, 7, 2]'),\n",
       " Text(183.78480492813142, 61.45043478260868, 'gini = 0.0\\nsamples = 6\\nvalue = [0, 7, 0]'),\n",
       " Text(184.70143737166327, 61.45043478260868, 'gini = 0.0\\nsamples = 1\\nvalue = [0, 0, 2]'),\n",
       " Text(184.24312114989735, 80.35826086956521, 'gini = 0.0\\nsamples = 1\\nvalue = [0, 0, 2]'),\n",
       " Text(184.70143737166327, 89.81217391304348, 'gini = 0.0\\nsamples = 1\\nvalue = [1, 0, 0]'),\n",
       " Text(185.15975359342917, 99.26608695652173, 'gini = 0.0\\nsamples = 1\\nvalue = [0, 0, 1]'),\n",
       " Text(186.53470225872692, 108.72, 'X[3] <= 0.891\\ngini = 0.551\\nsamples = 11\\nvalue = [4, 9, 2]'),\n",
       " Text(186.076386036961, 99.26608695652173, 'gini = 0.0\\nsamples = 4\\nvalue = [4, 0, 0]'),\n",
       " Text(186.99301848049282, 99.26608695652173, 'X[13] <= 1.0\\ngini = 0.298\\nsamples = 7\\nvalue = [0, 9, 2]'),\n",
       " Text(186.53470225872692, 89.81217391304348, 'X[0] <= 0.848\\ngini = 0.444\\nsamples = 4\\nvalue = [0, 4, 2]'),\n",
       " Text(186.076386036961, 80.35826086956521, 'gini = 0.0\\nsamples = 2\\nvalue = [0, 0, 2]'),\n",
       " Text(186.99301848049282, 80.35826086956521, 'gini = 0.0\\nsamples = 2\\nvalue = [0, 4, 0]'),\n",
       " Text(187.45133470225875, 89.81217391304348, 'gini = 0.0\\nsamples = 3\\nvalue = [0, 5, 0]'),\n",
       " Text(190.20123203285422, 137.08173913043478, 'X[24] <= 0.01\\ngini = 0.618\\nsamples = 29\\nvalue = [18, 7, 20]'),\n",
       " Text(189.2845995893224, 127.62782608695652, 'X[10] <= 0.992\\ngini = 0.49\\nsamples = 12\\nvalue = [14, 5, 2]'),\n",
       " Text(188.8262833675565, 118.17391304347825, 'X[14] <= 0.0\\ngini = 0.593\\nsamples = 6\\nvalue = [2, 5, 2]'),\n",
       " Text(188.36796714579057, 108.72, 'X[7] <= 0.999\\ngini = 0.408\\nsamples = 4\\nvalue = [2, 5, 0]'),\n",
       " Text(187.90965092402465, 99.26608695652173, 'gini = 0.0\\nsamples = 1\\nvalue = [2, 0, 0]'),\n",
       " Text(188.8262833675565, 99.26608695652173, 'gini = 0.0\\nsamples = 3\\nvalue = [0, 5, 0]'),\n",
       " Text(189.2845995893224, 108.72, 'gini = 0.0\\nsamples = 2\\nvalue = [0, 0, 2]'),\n",
       " Text(189.74291581108832, 118.17391304347825, 'gini = 0.0\\nsamples = 6\\nvalue = [12, 0, 0]'),\n",
       " Text(191.11786447638605, 127.62782608695652, 'X[21] <= 0.012\\ngini = 0.403\\nsamples = 17\\nvalue = [4, 2, 18]'),\n",
       " Text(190.65954825462015, 118.17391304347825, 'gini = 0.0\\nsamples = 1\\nvalue = [2, 0, 0]'),\n",
       " Text(191.57618069815197, 118.17391304347825, 'X[18] <= 0.0\\ngini = 0.314\\nsamples = 16\\nvalue = [2, 2, 18]'),\n",
       " Text(191.11786447638605, 108.72, 'X[14] <= 0.0\\ngini = 0.625\\nsamples = 7\\nvalue = [2, 2, 4]'),\n",
       " Text(190.65954825462015, 99.26608695652173, 'gini = 0.0\\nsamples = 2\\nvalue = [0, 2, 0]'),\n",
       " Text(191.57618069815197, 99.26608695652173, 'X[17] <= 0.048\\ngini = 0.444\\nsamples = 5\\nvalue = [2, 0, 4]'),\n",
       " Text(191.11786447638605, 89.81217391304348, 'X[12] <= 0.0\\ngini = 0.32\\nsamples = 4\\nvalue = [1, 0, 4]'),\n",
       " Text(190.65954825462015, 80.35826086956521, 'gini = 0.0\\nsamples = 3\\nvalue = [0, 0, 4]'),\n",
       " Text(191.57618069815197, 80.35826086956521, 'gini = 0.0\\nsamples = 1\\nvalue = [1, 0, 0]'),\n",
       " Text(192.03449691991787, 89.81217391304348, 'gini = 0.0\\nsamples = 1\\nvalue = [1, 0, 0]'),\n",
       " Text(192.03449691991787, 108.72, 'gini = 0.0\\nsamples = 9\\nvalue = [0, 0, 14]'),\n",
       " Text(200.85708418891173, 155.98956521739132, 'X[4] <= 0.001\\ngini = 0.63\\nsamples = 103\\nvalue = [77, 32, 58]'),\n",
       " Text(195.01355236139634, 146.53565217391304, 'X[10] <= 0.986\\ngini = 0.324\\nsamples = 37\\nvalue = [47, 0, 12]'),\n",
       " Text(194.5552361396304, 137.08173913043478, 'gini = 0.0\\nsamples = 9\\nvalue = [16, 0, 0]'),\n",
       " Text(195.47186858316223, 137.08173913043478, 'X[21] <= 0.019\\ngini = 0.402\\nsamples = 28\\nvalue = [31, 0, 12]'),\n",
       " Text(195.01355236139634, 127.62782608695652, 'X[1] <= 0.363\\ngini = 0.497\\nsamples = 18\\nvalue = [14, 0, 12]'),\n",
       " Text(193.40944558521562, 118.17391304347825, 'X[10] <= 0.987\\ngini = 0.32\\nsamples = 7\\nvalue = [2, 0, 8]'),\n",
       " Text(192.95112936344972, 108.72, 'gini = 0.0\\nsamples = 4\\nvalue = [0, 0, 7]'),\n",
       " Text(193.86776180698155, 108.72, 'X[6] <= 0.001\\ngini = 0.444\\nsamples = 3\\nvalue = [2, 0, 1]'),\n",
       " Text(193.40944558521562, 99.26608695652173, 'gini = 0.0\\nsamples = 2\\nvalue = [2, 0, 0]'),\n",
       " Text(194.32607802874745, 99.26608695652173, 'gini = 0.0\\nsamples = 1\\nvalue = [0, 0, 1]'),\n",
       " Text(196.61765913757702, 118.17391304347825, 'X[23] <= 0.987\\ngini = 0.375\\nsamples = 11\\nvalue = [12, 0, 4]'),\n",
       " Text(195.7010266940452, 108.72, 'X[24] <= 0.002\\ngini = 0.444\\nsamples = 3\\nvalue = [1, 0, 2]'),\n",
       " Text(195.24271047227927, 99.26608695652173, 'gini = 0.0\\nsamples = 1\\nvalue = [1, 0, 0]'),\n",
       " Text(196.1593429158111, 99.26608695652173, 'gini = 0.0\\nsamples = 2\\nvalue = [0, 0, 2]'),\n",
       " Text(197.53429158110885, 108.72, 'X[5] <= 0.006\\ngini = 0.26\\nsamples = 8\\nvalue = [11, 0, 2]'),\n",
       " Text(197.07597535934295, 99.26608695652173, 'gini = 0.0\\nsamples = 5\\nvalue = [9, 0, 0]'),\n",
       " Text(197.99260780287477, 99.26608695652173, 'X[13] <= 1.0\\ngini = 0.5\\nsamples = 3\\nvalue = [2, 0, 2]'),\n",
       " Text(197.53429158110885, 89.81217391304348, 'gini = 0.0\\nsamples = 2\\nvalue = [2, 0, 0]'),\n",
       " Text(198.45092402464067, 89.81217391304348, 'gini = 0.0\\nsamples = 1\\nvalue = [0, 0, 2]'),\n",
       " Text(195.93018480492816, 127.62782608695652, 'gini = 0.0\\nsamples = 10\\nvalue = [17, 0, 0]'),\n",
       " Text(206.70061601642712, 146.53565217391304, 'X[20] <= 1.0\\ngini = 0.654\\nsamples = 66\\nvalue = [30, 32, 46]'),\n",
       " Text(204.1798767967146, 137.08173913043478, 'X[19] <= 0.0\\ngini = 0.111\\nsamples = 10\\nvalue = [1, 0, 16]'),\n",
       " Text(203.72156057494868, 127.62782608695652, 'gini = 0.0\\nsamples = 9\\nvalue = [0, 0, 16]'),\n",
       " Text(204.6381930184805, 127.62782608695652, 'gini = 0.0\\nsamples = 1\\nvalue = [1, 0, 0]'),\n",
       " Text(209.22135523613966, 137.08173913043478, 'X[1] <= 0.558\\ngini = 0.666\\nsamples = 56\\nvalue = [29, 32, 30]'),\n",
       " Text(205.55482546201233, 127.62782608695652, 'X[15] <= 0.0\\ngini = 0.645\\nsamples = 35\\nvalue = [22, 12, 22]'),\n",
       " Text(202.5757700205339, 118.17391304347825, 'X[13] <= 1.0\\ngini = 0.56\\nsamples = 25\\nvalue = [21, 7, 7]'),\n",
       " Text(200.74250513347025, 108.72, 'X[9] <= 0.015\\ngini = 0.458\\nsamples = 18\\nvalue = [19, 5, 3]'),\n",
       " Text(200.28418891170432, 99.26608695652173, 'X[8] <= 0.015\\ngini = 0.394\\nsamples = 17\\nvalue = [19, 3, 3]'),\n",
       " Text(199.3675564681725, 89.81217391304348, 'X[24] <= 0.001\\ngini = 0.111\\nsamples = 9\\nvalue = [16, 0, 1]'),\n",
       " Text(198.9092402464066, 80.35826086956521, 'gini = 0.0\\nsamples = 1\\nvalue = [0, 0, 1]'),\n",
       " Text(199.82587268993842, 80.35826086956521, 'gini = 0.0\\nsamples = 8\\nvalue = [16, 0, 0]'),\n",
       " Text(201.20082135523617, 89.81217391304348, 'X[8] <= 0.02\\ngini = 0.656\\nsamples = 8\\nvalue = [3, 3, 2]'),\n",
       " Text(200.74250513347025, 80.35826086956521, 'gini = 0.0\\nsamples = 3\\nvalue = [0, 3, 0]'),\n",
       " Text(201.65913757700207, 80.35826086956521, 'X[7] <= 0.998\\ngini = 0.48\\nsamples = 5\\nvalue = [3, 0, 2]'),\n",
       " Text(201.20082135523617, 70.90434782608696, 'gini = 0.0\\nsamples = 3\\nvalue = [3, 0, 0]'),\n",
       " Text(202.117453798768, 70.90434782608696, 'gini = 0.0\\nsamples = 2\\nvalue = [0, 0, 2]'),\n",
       " Text(201.20082135523617, 99.26608695652173, 'gini = 0.0\\nsamples = 1\\nvalue = [0, 2, 0]'),\n",
       " Text(204.40903490759754, 108.72, 'X[24] <= 0.007\\ngini = 0.625\\nsamples = 7\\nvalue = [2, 2, 4]'),\n",
       " Text(203.49240246406572, 99.26608695652173, 'X[7] <= 0.999\\ngini = 0.48\\nsamples = 5\\nvalue = [0, 2, 3]'),\n",
       " Text(203.03408624229982, 89.81217391304348, 'X[4] <= 0.003\\ngini = 0.444\\nsamples = 3\\nvalue = [0, 2, 1]'),\n",
       " Text(202.5757700205339, 80.35826086956521, 'gini = 0.0\\nsamples = 2\\nvalue = [0, 2, 0]'),\n",
       " Text(203.49240246406572, 80.35826086956521, 'gini = 0.0\\nsamples = 1\\nvalue = [0, 0, 1]'),\n",
       " Text(203.95071868583165, 89.81217391304348, 'gini = 0.0\\nsamples = 2\\nvalue = [0, 0, 2]'),\n",
       " Text(205.32566735112937, 99.26608695652173, 'X[7] <= 0.999\\ngini = 0.444\\nsamples = 2\\nvalue = [2, 0, 1]'),\n",
       " Text(204.86735112936347, 89.81217391304348, 'gini = 0.0\\nsamples = 1\\nvalue = [2, 0, 0]'),\n",
       " Text(205.7839835728953, 89.81217391304348, 'gini = 0.0\\nsamples = 1\\nvalue = [0, 0, 1]'),\n",
       " Text(208.53388090349077, 118.17391304347825, 'X[9] <= 0.014\\ngini = 0.431\\nsamples = 10\\nvalue = [1, 5, 15]'),\n",
       " Text(207.61724845995894, 108.72, 'X[22] <= 0.021\\ngini = 0.208\\nsamples = 8\\nvalue = [0, 2, 15]'),\n",
       " Text(207.15893223819305, 99.26608695652173, 'X[22] <= 0.011\\ngini = 0.117\\nsamples = 7\\nvalue = [0, 1, 15]'),\n",
       " Text(206.70061601642712, 89.81217391304348, 'X[9] <= 0.009\\ngini = 0.5\\nsamples = 2\\nvalue = [0, 1, 1]'),\n",
       " Text(206.24229979466122, 80.35826086956521, 'gini = 0.0\\nsamples = 1\\nvalue = [0, 0, 1]'),\n",
       " Text(207.15893223819305, 80.35826086956521, 'gini = 0.0\\nsamples = 1\\nvalue = [0, 1, 0]'),\n",
       " Text(207.61724845995894, 89.81217391304348, 'gini = 0.0\\nsamples = 5\\nvalue = [0, 0, 14]'),\n",
       " Text(208.07556468172487, 99.26608695652173, 'gini = 0.0\\nsamples = 1\\nvalue = [0, 1, 0]'),\n",
       " Text(209.4505133470226, 108.72, 'X[10] <= 0.986\\ngini = 0.375\\nsamples = 2\\nvalue = [1, 3, 0]'),\n",
       " Text(208.9921971252567, 99.26608695652173, 'gini = 0.0\\nsamples = 1\\nvalue = [0, 3, 0]'),\n",
       " Text(209.90882956878852, 99.26608695652173, 'gini = 0.0\\nsamples = 1\\nvalue = [1, 0, 0]'),\n",
       " Text(212.88788501026696, 127.62782608695652, 'X[3] <= 0.896\\ngini = 0.581\\nsamples = 21\\nvalue = [7, 20, 8]'),\n",
       " Text(211.74209445585217, 118.17391304347825, 'X[13] <= 1.0\\ngini = 0.277\\nsamples = 11\\nvalue = [1, 16, 2]'),\n",
       " Text(211.28377823408627, 108.72, 'X[23] <= 0.987\\ngini = 0.204\\nsamples = 10\\nvalue = [1, 16, 1]'),\n",
       " Text(210.82546201232034, 99.26608695652173, 'gini = 0.0\\nsamples = 5\\nvalue = [0, 10, 0]'),\n",
       " Text(211.74209445585217, 99.26608695652173, 'X[24] <= 0.005\\ngini = 0.406\\nsamples = 5\\nvalue = [1, 6, 1]'),\n",
       " Text(211.28377823408627, 89.81217391304348, 'X[3] <= 0.886\\ngini = 0.245\\nsamples = 4\\nvalue = [0, 6, 1]'),\n",
       " Text(210.82546201232034, 80.35826086956521, 'gini = 0.0\\nsamples = 1\\nvalue = [0, 0, 1]'),\n",
       " Text(211.74209445585217, 80.35826086956521, 'gini = 0.0\\nsamples = 3\\nvalue = [0, 6, 0]'),\n",
       " Text(212.2004106776181, 89.81217391304348, 'gini = 0.0\\nsamples = 1\\nvalue = [1, 0, 0]'),\n",
       " Text(212.2004106776181, 108.72, 'gini = 0.0\\nsamples = 1\\nvalue = [0, 0, 1]'),\n",
       " Text(214.03367556468174, 118.17391304347825, 'X[12] <= 0.0\\ngini = 0.656\\nsamples = 10\\nvalue = [6, 4, 6]'),\n",
       " Text(213.11704312114992, 108.72, 'X[13] <= 1.0\\ngini = 0.375\\nsamples = 4\\nvalue = [0, 2, 6]'),\n",
       " Text(212.658726899384, 99.26608695652173, 'gini = 0.0\\nsamples = 3\\nvalue = [0, 0, 6]'),\n",
       " Text(213.57535934291582, 99.26608695652173, 'gini = 0.0\\nsamples = 1\\nvalue = [0, 2, 0]'),\n",
       " Text(214.95030800821357, 108.72, 'X[20] <= 1.0\\ngini = 0.375\\nsamples = 6\\nvalue = [6, 2, 0]'),\n",
       " Text(214.49199178644767, 99.26608695652173, 'gini = 0.0\\nsamples = 5\\nvalue = [6, 0, 0]'),\n",
       " Text(215.4086242299795, 99.26608695652173, 'gini = 0.0\\nsamples = 1\\nvalue = [0, 2, 0]'),\n",
       " Text(241.10336904036194, 184.3513043478261, 'X[5] <= 0.001\\ngini = 0.456\\nsamples = 825\\nvalue = [325, 927, 85]'),\n",
       " Text(221.65318275154007, 174.89739130434782, 'X[4] <= 0.002\\ngini = 0.66\\nsamples = 57\\nvalue = [26, 28, 36]'),\n",
       " Text(218.9605749486653, 165.44347826086957, 'X[14] <= 0.0\\ngini = 0.584\\nsamples = 26\\nvalue = [22, 5, 15]'),\n",
       " Text(217.4710472279261, 155.98956521739132, 'X[19] <= 0.0\\ngini = 0.601\\nsamples = 19\\nvalue = [7, 5, 14]'),\n",
       " Text(215.8669404517454, 146.53565217391304, 'X[20] <= 1.0\\ngini = 0.622\\nsamples = 12\\nvalue = [7, 3, 4]'),\n",
       " Text(214.95030800821357, 137.08173913043478, 'X[19] <= 0.0\\ngini = 0.444\\nsamples = 7\\nvalue = [6, 3, 0]'),\n",
       " Text(214.49199178644767, 127.62782608695652, 'gini = 0.0\\nsamples = 2\\nvalue = [0, 2, 0]'),\n",
       " Text(215.4086242299795, 127.62782608695652, 'X[4] <= 0.001\\ngini = 0.245\\nsamples = 5\\nvalue = [6, 1, 0]'),\n",
       " Text(214.95030800821357, 118.17391304347825, 'gini = 0.0\\nsamples = 1\\nvalue = [0, 1, 0]'),\n",
       " Text(215.8669404517454, 118.17391304347825, 'gini = 0.0\\nsamples = 4\\nvalue = [6, 0, 0]'),\n",
       " Text(216.78357289527722, 137.08173913043478, 'X[14] <= 0.0\\ngini = 0.32\\nsamples = 5\\nvalue = [1, 0, 4]'),\n",
       " Text(216.32525667351132, 127.62782608695652, 'gini = 0.0\\nsamples = 4\\nvalue = [0, 0, 4]'),\n",
       " Text(217.24188911704314, 127.62782608695652, 'gini = 0.0\\nsamples = 1\\nvalue = [1, 0, 0]'),\n",
       " Text(219.0751540041068, 146.53565217391304, 'X[3] <= 0.948\\ngini = 0.278\\nsamples = 7\\nvalue = [0, 2, 10]'),\n",
       " Text(218.6168377823409, 137.08173913043478, 'X[14] <= 0.0\\ngini = 0.444\\nsamples = 2\\nvalue = [0, 2, 1]'),\n",
       " Text(218.15852156057497, 127.62782608695652, 'gini = 0.0\\nsamples = 1\\nvalue = [0, 2, 0]'),\n",
       " Text(219.0751540041068, 127.62782608695652, 'gini = 0.0\\nsamples = 1\\nvalue = [0, 0, 1]'),\n",
       " Text(219.53347022587272, 137.08173913043478, 'gini = 0.0\\nsamples = 5\\nvalue = [0, 0, 9]'),\n",
       " Text(220.45010266940454, 155.98956521739132, 'X[18] <= 0.006\\ngini = 0.117\\nsamples = 7\\nvalue = [15, 0, 1]'),\n",
       " Text(219.99178644763862, 146.53565217391304, 'gini = 0.0\\nsamples = 6\\nvalue = [15, 0, 0]'),\n",
       " Text(220.90841889117044, 146.53565217391304, 'gini = 0.0\\nsamples = 1\\nvalue = [0, 0, 1]'),\n",
       " Text(224.3457905544148, 165.44347826086957, 'X[2] <= 0.152\\ngini = 0.572\\nsamples = 31\\nvalue = [4, 23, 21]'),\n",
       " Text(222.2833675564682, 155.98956521739132, 'X[23] <= 0.995\\ngini = 0.513\\nsamples = 20\\nvalue = [3, 18, 7]'),\n",
       " Text(221.82505133470227, 146.53565217391304, 'gini = 0.0\\nsamples = 3\\nvalue = [0, 0, 3]'),\n",
       " Text(222.74168377823412, 146.53565217391304, 'X[3] <= 0.952\\ngini = 0.442\\nsamples = 17\\nvalue = [3, 18, 4]'),\n",
       " Text(221.82505133470227, 137.08173913043478, 'X[24] <= 0.001\\ngini = 0.593\\nsamples = 5\\nvalue = [1, 4, 4]'),\n",
       " Text(221.36673511293637, 127.62782608695652, 'gini = 0.0\\nsamples = 2\\nvalue = [0, 4, 0]'),\n",
       " Text(222.2833675564682, 127.62782608695652, 'X[3] <= 0.946\\ngini = 0.32\\nsamples = 3\\nvalue = [1, 0, 4]'),\n",
       " Text(221.82505133470227, 118.17391304347825, 'gini = 0.0\\nsamples = 1\\nvalue = [1, 0, 0]'),\n",
       " Text(222.74168377823412, 118.17391304347825, 'gini = 0.0\\nsamples = 2\\nvalue = [0, 0, 4]'),\n",
       " Text(223.65831622176594, 137.08173913043478, 'X[15] <= 0.0\\ngini = 0.219\\nsamples = 12\\nvalue = [2, 14, 0]'),\n",
       " Text(223.20000000000002, 127.62782608695652, 'gini = 0.0\\nsamples = 11\\nvalue = [0, 14, 0]'),\n",
       " Text(224.11663244353184, 127.62782608695652, 'gini = 0.0\\nsamples = 1\\nvalue = [2, 0, 0]'),\n",
       " Text(226.40821355236142, 155.98956521739132, 'X[5] <= 0.001\\ngini = 0.445\\nsamples = 11\\nvalue = [1, 5, 14]'),\n",
       " Text(225.9498973305955, 146.53565217391304, 'X[1] <= 0.596\\ngini = 0.364\\nsamples = 10\\nvalue = [1, 3, 14]'),\n",
       " Text(225.4915811088296, 137.08173913043478, 'X[13] <= 1.0\\ngini = 0.227\\nsamples = 9\\nvalue = [1, 1, 14]'),\n",
       " Text(225.03326488706367, 127.62782608695652, 'gini = 0.0\\nsamples = 1\\nvalue = [0, 1, 0]'),\n",
       " Text(225.9498973305955, 127.62782608695652, 'X[13] <= 1.0\\ngini = 0.124\\nsamples = 8\\nvalue = [1, 0, 14]'),\n",
       " Text(225.4915811088296, 118.17391304347825, 'X[8] <= 0.009\\ngini = 0.32\\nsamples = 3\\nvalue = [1, 0, 4]'),\n",
       " Text(225.03326488706367, 108.72, 'gini = 0.0\\nsamples = 2\\nvalue = [0, 0, 4]'),\n",
       " Text(225.9498973305955, 108.72, 'gini = 0.0\\nsamples = 1\\nvalue = [1, 0, 0]'),\n",
       " Text(226.40821355236142, 118.17391304347825, 'gini = 0.0\\nsamples = 5\\nvalue = [0, 0, 10]'),\n",
       " Text(226.40821355236142, 137.08173913043478, 'gini = 0.0\\nsamples = 1\\nvalue = [0, 2, 0]'),\n",
       " Text(226.86652977412734, 146.53565217391304, 'gini = 0.0\\nsamples = 1\\nvalue = [0, 2, 0]'),\n",
       " Text(260.5535553291838, 174.89739130434782, 'X[10] <= 0.992\\ngini = 0.421\\nsamples = 768\\nvalue = [299, 899, 49]'),\n",
       " Text(242.2219135010267, 165.44347826086957, 'X[7] <= 1.0\\ngini = 0.556\\nsamples = 229\\nvalue = [154, 201, 27]'),\n",
       " Text(234.17452515400413, 155.98956521739132, 'X[6] <= 0.023\\ngini = 0.513\\nsamples = 154\\nvalue = [80, 158, 17]'),\n",
       " Text(233.7162089322382, 146.53565217391304, 'X[14] <= 0.0\\ngini = 0.481\\nsamples = 152\\nvalue = [80, 158, 8]'),\n",
       " Text(228.24147843942507, 137.08173913043478, 'X[7] <= 0.997\\ngini = 0.551\\nsamples = 44\\nvalue = [34, 28, 4]'),\n",
       " Text(227.78316221765917, 127.62782608695652, 'gini = 0.0\\nsamples = 1\\nvalue = [0, 0, 2]'),\n",
       " Text(228.699794661191, 127.62782608695652, 'X[23] <= 0.99\\ngini = 0.525\\nsamples = 43\\nvalue = [34, 28, 2]'),\n",
       " Text(227.32484599589324, 118.17391304347825, 'X[20] <= 1.0\\ngini = 0.353\\nsamples = 22\\nvalue = [26, 5, 2]'),\n",
       " Text(226.86652977412734, 108.72, 'X[0] <= 0.066\\ngini = 0.283\\nsamples = 21\\nvalue = [26, 3, 2]'),\n",
       " Text(226.40821355236142, 99.26608695652173, 'gini = 0.0\\nsamples = 1\\nvalue = [0, 1, 0]'),\n",
       " Text(227.32484599589324, 99.26608695652173, 'X[18] <= 0.0\\ngini = 0.24\\nsamples = 20\\nvalue = [26, 2, 2]'),\n",
       " Text(226.86652977412734, 89.81217391304348, 'gini = 0.0\\nsamples = 1\\nvalue = [0, 0, 2]'),\n",
       " Text(227.78316221765917, 89.81217391304348, 'X[1] <= 0.485\\ngini = 0.133\\nsamples = 19\\nvalue = [26, 2, 0]'),\n",
       " Text(227.32484599589324, 80.35826086956521, 'X[10] <= 0.987\\ngini = 0.278\\nsamples = 9\\nvalue = [10, 2, 0]'),\n",
       " Text(226.86652977412734, 70.90434782608696, 'gini = 0.0\\nsamples = 5\\nvalue = [7, 0, 0]'),\n",
       " Text(227.78316221765917, 70.90434782608696, 'X[12] <= 0.0\\ngini = 0.48\\nsamples = 4\\nvalue = [3, 2, 0]'),\n",
       " Text(227.32484599589324, 61.45043478260868, 'gini = 0.0\\nsamples = 2\\nvalue = [0, 2, 0]'),\n",
       " Text(228.24147843942507, 61.45043478260868, 'gini = 0.0\\nsamples = 2\\nvalue = [3, 0, 0]'),\n",
       " Text(228.24147843942507, 80.35826086956521, 'gini = 0.0\\nsamples = 10\\nvalue = [16, 0, 0]'),\n",
       " Text(227.78316221765917, 108.72, 'gini = 0.0\\nsamples = 1\\nvalue = [0, 2, 0]'),\n",
       " Text(230.07474332648871, 118.17391304347825, 'X[4] <= 0.002\\ngini = 0.383\\nsamples = 21\\nvalue = [8, 23, 0]'),\n",
       " Text(229.61642710472282, 108.72, 'X[13] <= 1.0\\ngini = 0.494\\nsamples = 12\\nvalue = [8, 10, 0]'),\n",
       " Text(229.1581108829569, 99.26608695652173, 'X[14] <= 0.0\\ngini = 0.444\\nsamples = 10\\nvalue = [5, 10, 0]'),\n",
       " Text(228.699794661191, 89.81217391304348, 'gini = 0.0\\nsamples = 7\\nvalue = [0, 8, 0]'),\n",
       " Text(229.61642710472282, 89.81217391304348, 'X[1] <= 0.485\\ngini = 0.408\\nsamples = 3\\nvalue = [5, 2, 0]'),\n",
       " ...]"
      ]
     },
     "execution_count": 58,
     "metadata": {},
     "output_type": "execute_result"
    },
    {
     "data": {
      "image/png": "[encoded data removed]",
      "text/plain": [
       "<Figure size 432x288 with 1 Axes>"
      ]
     },
     "metadata": {
      "needs_background": "light"
     },
     "output_type": "display_data"
    }
   ],
   "source": [
    "from sklearn.tree import plot_tree\n",
    "plot_tree(rf[1])"
   ]
  },
  {
   "cell_type": "markdown",
   "metadata": {},
   "source": [
    "# Create a classification Model"
   ]
  },
  {
   "cell_type": "code",
   "execution_count": 26,
   "metadata": {},
   "outputs": [],
   "source": [
    "# # Logistic Regression Model\n",
    "# lr = LogisticRegression(C=100, max_iter=200, class_weight='balanced')\n",
    "\n",
    "# # Fitting Model to the train set\n",
    "# lr.fit(X_train, y_train)\n",
    "\n",
    "# # Predicting on the test set\n",
    "# y_pred = lr.predict(X_test)\n",
    "\n",
    "# # Evaluating model\n",
    "# evaluation(y_test, y_pred)"
   ]
  },
  {
   "cell_type": "markdown",
   "metadata": {},
   "source": [
    "#  Feature Selection"
   ]
  },
  {
   "cell_type": "code",
   "execution_count": 27,
   "metadata": {},
   "outputs": [
    {
     "data": {
      "text/plain": [
       "array([0.02988893, 0.02661611, 0.05924625, 0.05236188, 0.06957803,\n",
       "       0.0399849 , 0.02781235, 0.02821701, 0.02883458, 0.03106579,\n",
       "       0.03106615, 0.03312684, 0.02432635, 0.02347899, 0.078914  ,\n",
       "       0.05475703, 0.05311124, 0.03100047, 0.03077862, 0.03938006,\n",
       "       0.03158342, 0.04100324, 0.0466222 , 0.04777954, 0.039466  ])"
      ]
     },
     "execution_count": 27,
     "metadata": {},
     "output_type": "execute_result"
    }
   ],
   "source": [
    "# feature_importance , rfe, backwards elimination, etc\n",
    "importances = rf.feature_importances_\n",
    "importances"
   ]
  },
  {
   "cell_type": "code",
   "execution_count": 28,
   "metadata": {},
   "outputs": [],
   "source": [
    "Pplanets = list(selected_features.columns)\n"
   ]
  },
  {
   "cell_type": "code",
   "execution_count": 29,
   "metadata": {},
   "outputs": [
    {
     "data": {
      "text/plain": [
       "[(0.02347898813016831, 'koi_depth_err2'),\n",
       " (0.024326347949097556, 'koi_depth_err1'),\n",
       " (0.026616113121440493, 'dec'),\n",
       " (0.02781235430965155, 'koi_period_err1'),\n",
       " (0.028217010062848633, 'koi_period_err2'),\n",
       " (0.02883458359024091, 'koi_time0bk'),\n",
       " (0.02988892560139909, 'ra'),\n",
       " (0.030778621293528253, 'koi_insol'),\n",
       " (0.03100047380552416, 'koi_teq'),\n",
       " (0.031065790666911744, 'koi_time0bk_err1'),\n",
       " (0.03106614503256975, 'koi_time0bk_err2'),\n",
       " (0.03158341863937845, 'koi_insol_err2'),\n",
       " (0.03312683784047627, 'koi_depth'),\n",
       " (0.039380063729669255, 'koi_insol_err1'),\n",
       " (0.039466004629919296, 'koi_impact'),\n",
       " (0.03998489689849241, 'koi_period'),\n",
       " (0.041003243378155044, 'koi_duration'),\n",
       " (0.04662220423011428, 'koi_duration_err1'),\n",
       " (0.04777953886916937, 'koi_duration_err2'),\n",
       " (0.05236188308538217, 'koi_steff_err2'),\n",
       " (0.05311124052107333, 'koi_prad_err2'),\n",
       " (0.05475702830837404, 'koi_prad_err1'),\n",
       " (0.05924625381982523, 'koi_steff_err1'),\n",
       " (0.06957802975303122, 'koi_model_snr'),\n",
       " (0.07891400273355922, 'koi_prad')]"
      ]
     },
     "execution_count": 29,
     "metadata": {},
     "output_type": "execute_result"
    }
   ],
   "source": [
    "# We can sort the features by their importance\n",
    "sorted(zip(rf.feature_importances_, Pplanets), reverse=False)"
   ]
  },
  {
   "cell_type": "code",
   "execution_count": null,
   "metadata": {},
   "outputs": [],
   "source": [
    "# removes insignificant variables and retrain models with significant features\n",
    "# selected_features = cl_df[['ra', 'dec', 'koi_srad_err1', 'koi_steff', 'koi_steff_err1', 'koi_steff_err2', 'koi_model_snr', 'koi_slogg_err2', 'koi_kepmag', 'koi_period', 'koi_period_err1', 'koi_period_err2', 'koi_time0bk', 'koi_time0bk_err1', 'koi_time0bk_err2', 'koi_depth', 'koi_depth_err1', 'koi_depth_err2', 'koi_prad', 'koi_prad_err1', 'koi_prad_err2', 'koi_teq', 'koi_insol', 'koi_insol_err1', 'koi_insol_err2', 'koi_duration', 'koi_duration_err1', 'koi_duration_err2', 'koi_impact', 'koi_impact_err1', 'koi_impact_err2']]\n",
    "# #,,"
   ]
  },
  {
   "cell_type": "markdown",
   "metadata": {},
   "source": [
    "# Hyperparameter Tuning\n",
    "\n",
    "Use `GridSearchCV` to tune the model's parameters"
   ]
  },
  {
   "cell_type": "code",
   "execution_count": 28,
   "metadata": {},
   "outputs": [
    {
     "data": {
      "text/plain": [
       "SVC(C=1.0, break_ties=False, cache_size=200, class_weight=None, coef0=0.0,\n",
       "    decision_function_shape='ovr', degree=3, gamma='scale', kernel='linear',\n",
       "    max_iter=-1, probability=False, random_state=None, shrinking=True,\n",
       "    tol=0.001, verbose=False)"
      ]
     },
     "execution_count": 28,
     "metadata": {},
     "output_type": "execute_result"
    }
   ],
   "source": [
    "# Create the GridSearchCV model\n",
    "# from sklearn.model_selection import train_test_split\n",
    "# X_train, X_test, y_train, y_test = train_test_split(X, y, random_state=42)\n",
    "\n",
    "# from sklearn import set_config\n",
    "# set_config(print_changed_only=False)\n",
    "\n",
    "# from sklearn.svm import SVC \n",
    "# model = SVC(kernel='linear')\n",
    "# model\n",
    "\n",
    "\n"
   ]
  },
  {
   "cell_type": "code",
   "execution_count": 29,
   "metadata": {},
   "outputs": [
    {
     "name": "stdout",
     "output_type": "stream",
     "text": [
      "GridSearchCV(cv=None, error_score=nan,\n",
      "             estimator=SVC(C=1.0, break_ties=False, cache_size=200,\n",
      "                           class_weight=None, coef0=0.0,\n",
      "                           decision_function_shape='ovr', degree=3,\n",
      "                           gamma='scale', kernel='linear', max_iter=-1,\n",
      "                           probability=False, random_state=None, shrinking=True,\n",
      "                           tol=0.001, verbose=False),\n",
      "             n_jobs=1,\n",
      "             param_grid={'C': [1, 5, 10], 'gamma': [0.0001, 0.001, 0.01]},\n",
      "             pre_dispatch='2*n_jobs', refit=True, return_train_score=False,\n",
      "             scoring=None, verbose=3)\n"
     ]
    }
   ],
   "source": [
    "# could use Kover and set --hp-choice bound\n",
    "# --bound-max-genome-size x,  to reduce the time it takes to run this section\n",
    "# from sklearn.model_selection import GridSearchCV\n",
    "# import scipy\n",
    "# from scipy.stats import loguniform\n",
    "\n",
    "# param_grid = {'C': [1, 5, 10],\n",
    "#               'gamma': [0.0001, 0.001, 0.01]}\n",
    "# grid = GridSearchCV(model, param_grid, verbose=3, n_jobs=1)\n",
    "\n",
    "# # param_grid = {'C': [loguniform(1e-1,1e3)], 'gamma': [loguniform(1e-4,1e-1)],\n",
    "# #   'kernel': ['rbf', 'linear']}\n",
    "\n",
    "# # grid = GridSearchCV(model, param_grid, verbose=3)\n",
    "# print(grid)"
   ]
  },
  {
   "cell_type": "code",
   "execution_count": 44,
   "metadata": {},
   "outputs": [
    {
     "name": "stdout",
     "output_type": "stream",
     "text": [
      "GridSearchCV(estimator=RandomForestClassifier(n_estimators=1000), n_jobs=1,\n",
      "             param_grid={'max_depth': [1, 5, 10], 'max_features': ['auto'],\n",
      "                         'min_samples_split': [2, 5, 10],\n",
      "                         'n_estimators': [10, 20, 50, 100],\n",
      "                         'oob_score': [True]},\n",
      "             verbose=3)\n"
     ]
    }
   ],
   "source": [
    "from sklearn.model_selection import GridSearchCV\n",
    "\n",
    "param_grid = {'max_depth': [1, 5, 10],\n",
    "              'max_features': ['auto'],\n",
    "             'oob_score': [True],\n",
    "             'n_estimators': [10, 20, 50, 100],\n",
    "             'min_samples_split': [2, 5, 10]}\n",
    "grid = GridSearchCV(rf, param_grid, verbose=3, n_jobs=1)\n",
    "\n",
    "\n",
    "print(grid)"
   ]
  },
  {
   "cell_type": "code",
   "execution_count": 45,
   "metadata": {},
   "outputs": [
    {
     "name": "stdout",
     "output_type": "stream",
     "text": [
      "Fitting 5 folds for each of 36 candidates, totalling 180 fits\n"
     ]
    },
    {
     "name": "stderr",
     "output_type": "stream",
     "text": [
      "C:\\Users\\jump1\\anaconda3\\envs\\PythonData\\lib\\site-packages\\sklearn\\model_selection\\_validation.py:593: DataConversionWarning: A column-vector y was passed when a 1d array was expected. Please change the shape of y to (n_samples,), for example using ravel().\n",
      "  estimator.fit(X_train, y_train, **fit_params)\n",
      "C:\\Users\\jump1\\anaconda3\\envs\\PythonData\\lib\\site-packages\\sklearn\\ensemble\\_forest.py:541: UserWarning: Some inputs do not have OOB scores. This probably means too few trees were used to compute any reliable oob estimates.\n",
      "  warn(\"Some inputs do not have OOB scores. \"\n",
      "C:\\Users\\jump1\\anaconda3\\envs\\PythonData\\lib\\site-packages\\sklearn\\ensemble\\_forest.py:546: RuntimeWarning: invalid value encountered in true_divide\n",
      "  predictions[k].sum(axis=1)[:, np.newaxis])\n",
      "C:\\Users\\jump1\\anaconda3\\envs\\PythonData\\lib\\site-packages\\sklearn\\model_selection\\_validation.py:593: DataConversionWarning: A column-vector y was passed when a 1d array was expected. Please change the shape of y to (n_samples,), for example using ravel().\n",
      "  estimator.fit(X_train, y_train, **fit_params)\n"
     ]
    },
    {
     "name": "stdout",
     "output_type": "stream",
     "text": [
      "[CV 1/5] END max_depth=1, max_features=auto, min_samples_split=2, n_estimators=10, oob_score=True; total time=   0.2s\n"
     ]
    },
    {
     "name": "stderr",
     "output_type": "stream",
     "text": [
      "C:\\Users\\jump1\\anaconda3\\envs\\PythonData\\lib\\site-packages\\sklearn\\ensemble\\_forest.py:541: UserWarning: Some inputs do not have OOB scores. This probably means too few trees were used to compute any reliable oob estimates.\n",
      "  warn(\"Some inputs do not have OOB scores. \"\n",
      "C:\\Users\\jump1\\anaconda3\\envs\\PythonData\\lib\\site-packages\\sklearn\\ensemble\\_forest.py:546: RuntimeWarning: invalid value encountered in true_divide\n",
      "  predictions[k].sum(axis=1)[:, np.newaxis])\n",
      "C:\\Users\\jump1\\anaconda3\\envs\\PythonData\\lib\\site-packages\\sklearn\\model_selection\\_validation.py:593: DataConversionWarning: A column-vector y was passed when a 1d array was expected. Please change the shape of y to (n_samples,), for example using ravel().\n",
      "  estimator.fit(X_train, y_train, **fit_params)\n",
      "C:\\Users\\jump1\\anaconda3\\envs\\PythonData\\lib\\site-packages\\sklearn\\ensemble\\_forest.py:541: UserWarning: Some inputs do not have OOB scores. This probably means too few trees were used to compute any reliable oob estimates.\n",
      "  warn(\"Some inputs do not have OOB scores. \"\n",
      "C:\\Users\\jump1\\anaconda3\\envs\\PythonData\\lib\\site-packages\\sklearn\\ensemble\\_forest.py:546: RuntimeWarning: invalid value encountered in true_divide\n",
      "  predictions[k].sum(axis=1)[:, np.newaxis])\n",
      "C:\\Users\\jump1\\anaconda3\\envs\\PythonData\\lib\\site-packages\\sklearn\\model_selection\\_validation.py:593: DataConversionWarning: A column-vector y was passed when a 1d array was expected. Please change the shape of y to (n_samples,), for example using ravel().\n",
      "  estimator.fit(X_train, y_train, **fit_params)\n"
     ]
    },
    {
     "name": "stdout",
     "output_type": "stream",
     "text": [
      "[CV 2/5] END max_depth=1, max_features=auto, min_samples_split=2, n_estimators=10, oob_score=True; total time=   0.1s\n",
      "[CV 3/5] END max_depth=1, max_features=auto, min_samples_split=2, n_estimators=10, oob_score=True; total time=   0.0s\n"
     ]
    },
    {
     "name": "stderr",
     "output_type": "stream",
     "text": [
      "C:\\Users\\jump1\\anaconda3\\envs\\PythonData\\lib\\site-packages\\sklearn\\ensemble\\_forest.py:541: UserWarning: Some inputs do not have OOB scores. This probably means too few trees were used to compute any reliable oob estimates.\n",
      "  warn(\"Some inputs do not have OOB scores. \"\n",
      "C:\\Users\\jump1\\anaconda3\\envs\\PythonData\\lib\\site-packages\\sklearn\\ensemble\\_forest.py:546: RuntimeWarning: invalid value encountered in true_divide\n",
      "  predictions[k].sum(axis=1)[:, np.newaxis])\n",
      "C:\\Users\\jump1\\anaconda3\\envs\\PythonData\\lib\\site-packages\\sklearn\\model_selection\\_validation.py:593: DataConversionWarning: A column-vector y was passed when a 1d array was expected. Please change the shape of y to (n_samples,), for example using ravel().\n",
      "  estimator.fit(X_train, y_train, **fit_params)\n",
      "C:\\Users\\jump1\\anaconda3\\envs\\PythonData\\lib\\site-packages\\sklearn\\ensemble\\_forest.py:541: UserWarning: Some inputs do not have OOB scores. This probably means too few trees were used to compute any reliable oob estimates.\n",
      "  warn(\"Some inputs do not have OOB scores. \"\n",
      "C:\\Users\\jump1\\anaconda3\\envs\\PythonData\\lib\\site-packages\\sklearn\\ensemble\\_forest.py:546: RuntimeWarning: invalid value encountered in true_divide\n",
      "  predictions[k].sum(axis=1)[:, np.newaxis])\n",
      "C:\\Users\\jump1\\anaconda3\\envs\\PythonData\\lib\\site-packages\\sklearn\\model_selection\\_validation.py:593: DataConversionWarning: A column-vector y was passed when a 1d array was expected. Please change the shape of y to (n_samples,), for example using ravel().\n",
      "  estimator.fit(X_train, y_train, **fit_params)\n"
     ]
    },
    {
     "name": "stdout",
     "output_type": "stream",
     "text": [
      "[CV 4/5] END max_depth=1, max_features=auto, min_samples_split=2, n_estimators=10, oob_score=True; total time=   0.0s\n",
      "[CV 5/5] END max_depth=1, max_features=auto, min_samples_split=2, n_estimators=10, oob_score=True; total time=   0.0s\n"
     ]
    },
    {
     "name": "stderr",
     "output_type": "stream",
     "text": [
      "C:\\Users\\jump1\\anaconda3\\envs\\PythonData\\lib\\site-packages\\sklearn\\ensemble\\_forest.py:541: UserWarning: Some inputs do not have OOB scores. This probably means too few trees were used to compute any reliable oob estimates.\n",
      "  warn(\"Some inputs do not have OOB scores. \"\n",
      "C:\\Users\\jump1\\anaconda3\\envs\\PythonData\\lib\\site-packages\\sklearn\\ensemble\\_forest.py:546: RuntimeWarning: invalid value encountered in true_divide\n",
      "  predictions[k].sum(axis=1)[:, np.newaxis])\n",
      "C:\\Users\\jump1\\anaconda3\\envs\\PythonData\\lib\\site-packages\\sklearn\\model_selection\\_validation.py:593: DataConversionWarning: A column-vector y was passed when a 1d array was expected. Please change the shape of y to (n_samples,), for example using ravel().\n",
      "  estimator.fit(X_train, y_train, **fit_params)\n",
      "C:\\Users\\jump1\\anaconda3\\envs\\PythonData\\lib\\site-packages\\sklearn\\model_selection\\_validation.py:593: DataConversionWarning: A column-vector y was passed when a 1d array was expected. Please change the shape of y to (n_samples,), for example using ravel().\n",
      "  estimator.fit(X_train, y_train, **fit_params)\n"
     ]
    },
    {
     "name": "stdout",
     "output_type": "stream",
     "text": [
      "[CV 1/5] END max_depth=1, max_features=auto, min_samples_split=2, n_estimators=20, oob_score=True; total time=   0.2s\n",
      "[CV 2/5] END max_depth=1, max_features=auto, min_samples_split=2, n_estimators=20, oob_score=True; total time=   0.0s\n"
     ]
    },
    {
     "name": "stderr",
     "output_type": "stream",
     "text": [
      "C:\\Users\\jump1\\anaconda3\\envs\\PythonData\\lib\\site-packages\\sklearn\\ensemble\\_forest.py:541: UserWarning: Some inputs do not have OOB scores. This probably means too few trees were used to compute any reliable oob estimates.\n",
      "  warn(\"Some inputs do not have OOB scores. \"\n",
      "C:\\Users\\jump1\\anaconda3\\envs\\PythonData\\lib\\site-packages\\sklearn\\ensemble\\_forest.py:546: RuntimeWarning: invalid value encountered in true_divide\n",
      "  predictions[k].sum(axis=1)[:, np.newaxis])\n",
      "C:\\Users\\jump1\\anaconda3\\envs\\PythonData\\lib\\site-packages\\sklearn\\model_selection\\_validation.py:593: DataConversionWarning: A column-vector y was passed when a 1d array was expected. Please change the shape of y to (n_samples,), for example using ravel().\n",
      "  estimator.fit(X_train, y_train, **fit_params)\n"
     ]
    },
    {
     "name": "stdout",
     "output_type": "stream",
     "text": [
      "[CV 3/5] END max_depth=1, max_features=auto, min_samples_split=2, n_estimators=20, oob_score=True; total time=   0.1s\n",
      "[CV 4/5] END max_depth=1, max_features=auto, min_samples_split=2, n_estimators=20, oob_score=True; total time=   0.1s\n"
     ]
    },
    {
     "name": "stderr",
     "output_type": "stream",
     "text": [
      "C:\\Users\\jump1\\anaconda3\\envs\\PythonData\\lib\\site-packages\\sklearn\\model_selection\\_validation.py:593: DataConversionWarning: A column-vector y was passed when a 1d array was expected. Please change the shape of y to (n_samples,), for example using ravel().\n",
      "  estimator.fit(X_train, y_train, **fit_params)\n"
     ]
    },
    {
     "name": "stdout",
     "output_type": "stream",
     "text": [
      "[CV 5/5] END max_depth=1, max_features=auto, min_samples_split=2, n_estimators=20, oob_score=True; total time=   0.1s\n"
     ]
    },
    {
     "name": "stderr",
     "output_type": "stream",
     "text": [
      "C:\\Users\\jump1\\anaconda3\\envs\\PythonData\\lib\\site-packages\\sklearn\\model_selection\\_validation.py:593: DataConversionWarning: A column-vector y was passed when a 1d array was expected. Please change the shape of y to (n_samples,), for example using ravel().\n",
      "  estimator.fit(X_train, y_train, **fit_params)\n"
     ]
    },
    {
     "name": "stdout",
     "output_type": "stream",
     "text": [
      "[CV 1/5] END max_depth=1, max_features=auto, min_samples_split=2, n_estimators=50, oob_score=True; total time=   0.4s\n"
     ]
    },
    {
     "name": "stderr",
     "output_type": "stream",
     "text": [
      "C:\\Users\\jump1\\anaconda3\\envs\\PythonData\\lib\\site-packages\\sklearn\\model_selection\\_validation.py:593: DataConversionWarning: A column-vector y was passed when a 1d array was expected. Please change the shape of y to (n_samples,), for example using ravel().\n",
      "  estimator.fit(X_train, y_train, **fit_params)\n"
     ]
    },
    {
     "name": "stdout",
     "output_type": "stream",
     "text": [
      "[CV 2/5] END max_depth=1, max_features=auto, min_samples_split=2, n_estimators=50, oob_score=True; total time=   0.3s\n"
     ]
    },
    {
     "name": "stderr",
     "output_type": "stream",
     "text": [
      "C:\\Users\\jump1\\anaconda3\\envs\\PythonData\\lib\\site-packages\\sklearn\\model_selection\\_validation.py:593: DataConversionWarning: A column-vector y was passed when a 1d array was expected. Please change the shape of y to (n_samples,), for example using ravel().\n",
      "  estimator.fit(X_train, y_train, **fit_params)\n"
     ]
    },
    {
     "name": "stdout",
     "output_type": "stream",
     "text": [
      "[CV 3/5] END max_depth=1, max_features=auto, min_samples_split=2, n_estimators=50, oob_score=True; total time=   0.3s\n"
     ]
    },
    {
     "name": "stderr",
     "output_type": "stream",
     "text": [
      "C:\\Users\\jump1\\anaconda3\\envs\\PythonData\\lib\\site-packages\\sklearn\\model_selection\\_validation.py:593: DataConversionWarning: A column-vector y was passed when a 1d array was expected. Please change the shape of y to (n_samples,), for example using ravel().\n",
      "  estimator.fit(X_train, y_train, **fit_params)\n"
     ]
    },
    {
     "name": "stdout",
     "output_type": "stream",
     "text": [
      "[CV 4/5] END max_depth=1, max_features=auto, min_samples_split=2, n_estimators=50, oob_score=True; total time=   0.5s\n"
     ]
    },
    {
     "name": "stderr",
     "output_type": "stream",
     "text": [
      "C:\\Users\\jump1\\anaconda3\\envs\\PythonData\\lib\\site-packages\\sklearn\\model_selection\\_validation.py:593: DataConversionWarning: A column-vector y was passed when a 1d array was expected. Please change the shape of y to (n_samples,), for example using ravel().\n",
      "  estimator.fit(X_train, y_train, **fit_params)\n"
     ]
    },
    {
     "name": "stdout",
     "output_type": "stream",
     "text": [
      "[CV 5/5] END max_depth=1, max_features=auto, min_samples_split=2, n_estimators=50, oob_score=True; total time=   0.3s\n"
     ]
    },
    {
     "name": "stderr",
     "output_type": "stream",
     "text": [
      "C:\\Users\\jump1\\anaconda3\\envs\\PythonData\\lib\\site-packages\\sklearn\\model_selection\\_validation.py:593: DataConversionWarning: A column-vector y was passed when a 1d array was expected. Please change the shape of y to (n_samples,), for example using ravel().\n",
      "  estimator.fit(X_train, y_train, **fit_params)\n"
     ]
    },
    {
     "name": "stdout",
     "output_type": "stream",
     "text": [
      "[CV 1/5] END max_depth=1, max_features=auto, min_samples_split=2, n_estimators=100, oob_score=True; total time=   0.6s\n"
     ]
    },
    {
     "name": "stderr",
     "output_type": "stream",
     "text": [
      "C:\\Users\\jump1\\anaconda3\\envs\\PythonData\\lib\\site-packages\\sklearn\\model_selection\\_validation.py:593: DataConversionWarning: A column-vector y was passed when a 1d array was expected. Please change the shape of y to (n_samples,), for example using ravel().\n",
      "  estimator.fit(X_train, y_train, **fit_params)\n"
     ]
    },
    {
     "name": "stdout",
     "output_type": "stream",
     "text": [
      "[CV 2/5] END max_depth=1, max_features=auto, min_samples_split=2, n_estimators=100, oob_score=True; total time=   0.6s\n"
     ]
    },
    {
     "name": "stderr",
     "output_type": "stream",
     "text": [
      "C:\\Users\\jump1\\anaconda3\\envs\\PythonData\\lib\\site-packages\\sklearn\\model_selection\\_validation.py:593: DataConversionWarning: A column-vector y was passed when a 1d array was expected. Please change the shape of y to (n_samples,), for example using ravel().\n",
      "  estimator.fit(X_train, y_train, **fit_params)\n"
     ]
    },
    {
     "name": "stdout",
     "output_type": "stream",
     "text": [
      "[CV 3/5] END max_depth=1, max_features=auto, min_samples_split=2, n_estimators=100, oob_score=True; total time=   0.6s\n"
     ]
    },
    {
     "name": "stderr",
     "output_type": "stream",
     "text": [
      "C:\\Users\\jump1\\anaconda3\\envs\\PythonData\\lib\\site-packages\\sklearn\\model_selection\\_validation.py:593: DataConversionWarning: A column-vector y was passed when a 1d array was expected. Please change the shape of y to (n_samples,), for example using ravel().\n",
      "  estimator.fit(X_train, y_train, **fit_params)\n"
     ]
    },
    {
     "name": "stdout",
     "output_type": "stream",
     "text": [
      "[CV 4/5] END max_depth=1, max_features=auto, min_samples_split=2, n_estimators=100, oob_score=True; total time=   0.5s\n"
     ]
    },
    {
     "name": "stderr",
     "output_type": "stream",
     "text": [
      "C:\\Users\\jump1\\anaconda3\\envs\\PythonData\\lib\\site-packages\\sklearn\\model_selection\\_validation.py:593: DataConversionWarning: A column-vector y was passed when a 1d array was expected. Please change the shape of y to (n_samples,), for example using ravel().\n",
      "  estimator.fit(X_train, y_train, **fit_params)\n"
     ]
    },
    {
     "name": "stdout",
     "output_type": "stream",
     "text": [
      "[CV 5/5] END max_depth=1, max_features=auto, min_samples_split=2, n_estimators=100, oob_score=True; total time=   0.6s\n",
      "[CV 1/5] END max_depth=1, max_features=auto, min_samples_split=5, n_estimators=10, oob_score=True; total time=   0.0s\n",
      "[CV 2/5] END max_depth=1, max_features=auto, min_samples_split=5, n_estimators=10, oob_score=True; total time=   0.0s"
     ]
    },
    {
     "name": "stderr",
     "output_type": "stream",
     "text": [
      "C:\\Users\\jump1\\anaconda3\\envs\\PythonData\\lib\\site-packages\\sklearn\\model_selection\\_validation.py:593: DataConversionWarning: A column-vector y was passed when a 1d array was expected. Please change the shape of y to (n_samples,), for example using ravel().\n",
      "  estimator.fit(X_train, y_train, **fit_params)\n",
      "C:\\Users\\jump1\\anaconda3\\envs\\PythonData\\lib\\site-packages\\sklearn\\ensemble\\_forest.py:541: UserWarning: Some inputs do not have OOB scores. This probably means too few trees were used to compute any reliable oob estimates.\n",
      "  warn(\"Some inputs do not have OOB scores. \"\n",
      "C:\\Users\\jump1\\anaconda3\\envs\\PythonData\\lib\\site-packages\\sklearn\\ensemble\\_forest.py:546: RuntimeWarning: invalid value encountered in true_divide\n",
      "  predictions[k].sum(axis=1)[:, np.newaxis])\n",
      "C:\\Users\\jump1\\anaconda3\\envs\\PythonData\\lib\\site-packages\\sklearn\\model_selection\\_validation.py:593: DataConversionWarning: A column-vector y was passed when a 1d array was expected. Please change the shape of y to (n_samples,), for example using ravel().\n",
      "  estimator.fit(X_train, y_train, **fit_params)\n",
      "C:\\Users\\jump1\\anaconda3\\envs\\PythonData\\lib\\site-packages\\sklearn\\ensemble\\_forest.py:541: UserWarning: Some inputs do not have OOB scores. This probably means too few trees were used to compute any reliable oob estimates.\n",
      "  warn(\"Some inputs do not have OOB scores. \"\n",
      "C:\\Users\\jump1\\anaconda3\\envs\\PythonData\\lib\\site-packages\\sklearn\\ensemble\\_forest.py:546: RuntimeWarning: invalid value encountered in true_divide\n",
      "  predictions[k].sum(axis=1)[:, np.newaxis])\n",
      "C:\\Users\\jump1\\anaconda3\\envs\\PythonData\\lib\\site-packages\\sklearn\\model_selection\\_validation.py:593: DataConversionWarning: A column-vector y was passed when a 1d array was expected. Please change the shape of y to (n_samples,), for example using ravel().\n",
      "  estimator.fit(X_train, y_train, **fit_params)\n"
     ]
    },
    {
     "name": "stdout",
     "output_type": "stream",
     "text": [
      "\n",
      "[CV 3/5] END max_depth=1, max_features=auto, min_samples_split=5, n_estimators=10, oob_score=True; total time=   0.0s\n"
     ]
    },
    {
     "name": "stderr",
     "output_type": "stream",
     "text": [
      "C:\\Users\\jump1\\anaconda3\\envs\\PythonData\\lib\\site-packages\\sklearn\\ensemble\\_forest.py:541: UserWarning: Some inputs do not have OOB scores. This probably means too few trees were used to compute any reliable oob estimates.\n",
      "  warn(\"Some inputs do not have OOB scores. \"\n",
      "C:\\Users\\jump1\\anaconda3\\envs\\PythonData\\lib\\site-packages\\sklearn\\ensemble\\_forest.py:546: RuntimeWarning: invalid value encountered in true_divide\n",
      "  predictions[k].sum(axis=1)[:, np.newaxis])\n",
      "C:\\Users\\jump1\\anaconda3\\envs\\PythonData\\lib\\site-packages\\sklearn\\model_selection\\_validation.py:593: DataConversionWarning: A column-vector y was passed when a 1d array was expected. Please change the shape of y to (n_samples,), for example using ravel().\n",
      "  estimator.fit(X_train, y_train, **fit_params)\n",
      "C:\\Users\\jump1\\anaconda3\\envs\\PythonData\\lib\\site-packages\\sklearn\\ensemble\\_forest.py:541: UserWarning: Some inputs do not have OOB scores. This probably means too few trees were used to compute any reliable oob estimates.\n",
      "  warn(\"Some inputs do not have OOB scores. \"\n",
      "C:\\Users\\jump1\\anaconda3\\envs\\PythonData\\lib\\site-packages\\sklearn\\ensemble\\_forest.py:546: RuntimeWarning: invalid value encountered in true_divide\n",
      "  predictions[k].sum(axis=1)[:, np.newaxis])\n",
      "C:\\Users\\jump1\\anaconda3\\envs\\PythonData\\lib\\site-packages\\sklearn\\model_selection\\_validation.py:593: DataConversionWarning: A column-vector y was passed when a 1d array was expected. Please change the shape of y to (n_samples,), for example using ravel().\n",
      "  estimator.fit(X_train, y_train, **fit_params)\n",
      "C:\\Users\\jump1\\anaconda3\\envs\\PythonData\\lib\\site-packages\\sklearn\\ensemble\\_forest.py:541: UserWarning: Some inputs do not have OOB scores. This probably means too few trees were used to compute any reliable oob estimates.\n",
      "  warn(\"Some inputs do not have OOB scores. \"\n",
      "C:\\Users\\jump1\\anaconda3\\envs\\PythonData\\lib\\site-packages\\sklearn\\ensemble\\_forest.py:546: RuntimeWarning: invalid value encountered in true_divide\n",
      "  predictions[k].sum(axis=1)[:, np.newaxis])\n",
      "C:\\Users\\jump1\\anaconda3\\envs\\PythonData\\lib\\site-packages\\sklearn\\model_selection\\_validation.py:593: DataConversionWarning: A column-vector y was passed when a 1d array was expected. Please change the shape of y to (n_samples,), for example using ravel().\n",
      "  estimator.fit(X_train, y_train, **fit_params)\n"
     ]
    },
    {
     "name": "stdout",
     "output_type": "stream",
     "text": [
      "[CV 4/5] END max_depth=1, max_features=auto, min_samples_split=5, n_estimators=10, oob_score=True; total time=   0.0s\n",
      "[CV 5/5] END max_depth=1, max_features=auto, min_samples_split=5, n_estimators=10, oob_score=True; total time=   0.0s\n",
      "[CV 1/5] END max_depth=1, max_features=auto, min_samples_split=5, n_estimators=20, oob_score=True; total time=   0.1s\n",
      "[CV 2/5] END max_depth=1, max_features=auto, min_samples_split=5, n_estimators=20, oob_score=True; total time=   0.0s\n"
     ]
    },
    {
     "name": "stderr",
     "output_type": "stream",
     "text": [
      "C:\\Users\\jump1\\anaconda3\\envs\\PythonData\\lib\\site-packages\\sklearn\\model_selection\\_validation.py:593: DataConversionWarning: A column-vector y was passed when a 1d array was expected. Please change the shape of y to (n_samples,), for example using ravel().\n",
      "  estimator.fit(X_train, y_train, **fit_params)\n",
      "C:\\Users\\jump1\\anaconda3\\envs\\PythonData\\lib\\site-packages\\sklearn\\model_selection\\_validation.py:593: DataConversionWarning: A column-vector y was passed when a 1d array was expected. Please change the shape of y to (n_samples,), for example using ravel().\n",
      "  estimator.fit(X_train, y_train, **fit_params)\n",
      "C:\\Users\\jump1\\anaconda3\\envs\\PythonData\\lib\\site-packages\\sklearn\\ensemble\\_forest.py:541: UserWarning: Some inputs do not have OOB scores. This probably means too few trees were used to compute any reliable oob estimates.\n",
      "  warn(\"Some inputs do not have OOB scores. \"\n",
      "C:\\Users\\jump1\\anaconda3\\envs\\PythonData\\lib\\site-packages\\sklearn\\ensemble\\_forest.py:546: RuntimeWarning: invalid value encountered in true_divide\n",
      "  predictions[k].sum(axis=1)[:, np.newaxis])\n",
      "C:\\Users\\jump1\\anaconda3\\envs\\PythonData\\lib\\site-packages\\sklearn\\model_selection\\_validation.py:593: DataConversionWarning: A column-vector y was passed when a 1d array was expected. Please change the shape of y to (n_samples,), for example using ravel().\n",
      "  estimator.fit(X_train, y_train, **fit_params)\n",
      "C:\\Users\\jump1\\anaconda3\\envs\\PythonData\\lib\\site-packages\\sklearn\\model_selection\\_validation.py:593: DataConversionWarning: A column-vector y was passed when a 1d array was expected. Please change the shape of y to (n_samples,), for example using ravel().\n",
      "  estimator.fit(X_train, y_train, **fit_params)\n"
     ]
    },
    {
     "name": "stdout",
     "output_type": "stream",
     "text": [
      "[CV 3/5] END max_depth=1, max_features=auto, min_samples_split=5, n_estimators=20, oob_score=True; total time=   0.1s\n",
      "[CV 4/5] END max_depth=1, max_features=auto, min_samples_split=5, n_estimators=20, oob_score=True; total time=   0.0s\n"
     ]
    },
    {
     "name": "stderr",
     "output_type": "stream",
     "text": [
      "C:\\Users\\jump1\\anaconda3\\envs\\PythonData\\lib\\site-packages\\sklearn\\model_selection\\_validation.py:593: DataConversionWarning: A column-vector y was passed when a 1d array was expected. Please change the shape of y to (n_samples,), for example using ravel().\n",
      "  estimator.fit(X_train, y_train, **fit_params)\n"
     ]
    },
    {
     "name": "stdout",
     "output_type": "stream",
     "text": [
      "[CV 5/5] END max_depth=1, max_features=auto, min_samples_split=5, n_estimators=20, oob_score=True; total time=   0.0s\n",
      "[CV 1/5] END max_depth=1, max_features=auto, min_samples_split=5, n_estimators=50, oob_score=True; total time=   0.2s\n"
     ]
    },
    {
     "name": "stderr",
     "output_type": "stream",
     "text": [
      "C:\\Users\\jump1\\anaconda3\\envs\\PythonData\\lib\\site-packages\\sklearn\\model_selection\\_validation.py:593: DataConversionWarning: A column-vector y was passed when a 1d array was expected. Please change the shape of y to (n_samples,), for example using ravel().\n",
      "  estimator.fit(X_train, y_train, **fit_params)\n"
     ]
    },
    {
     "name": "stdout",
     "output_type": "stream",
     "text": [
      "[CV 2/5] END max_depth=1, max_features=auto, min_samples_split=5, n_estimators=50, oob_score=True; total time=   0.2s\n"
     ]
    },
    {
     "name": "stderr",
     "output_type": "stream",
     "text": [
      "C:\\Users\\jump1\\anaconda3\\envs\\PythonData\\lib\\site-packages\\sklearn\\model_selection\\_validation.py:593: DataConversionWarning: A column-vector y was passed when a 1d array was expected. Please change the shape of y to (n_samples,), for example using ravel().\n",
      "  estimator.fit(X_train, y_train, **fit_params)\n"
     ]
    },
    {
     "name": "stdout",
     "output_type": "stream",
     "text": [
      "[CV 3/5] END max_depth=1, max_features=auto, min_samples_split=5, n_estimators=50, oob_score=True; total time=   0.2s\n"
     ]
    },
    {
     "name": "stderr",
     "output_type": "stream",
     "text": [
      "C:\\Users\\jump1\\anaconda3\\envs\\PythonData\\lib\\site-packages\\sklearn\\model_selection\\_validation.py:593: DataConversionWarning: A column-vector y was passed when a 1d array was expected. Please change the shape of y to (n_samples,), for example using ravel().\n",
      "  estimator.fit(X_train, y_train, **fit_params)\n"
     ]
    },
    {
     "name": "stdout",
     "output_type": "stream",
     "text": [
      "[CV 4/5] END max_depth=1, max_features=auto, min_samples_split=5, n_estimators=50, oob_score=True; total time=   0.3s\n"
     ]
    },
    {
     "name": "stderr",
     "output_type": "stream",
     "text": [
      "C:\\Users\\jump1\\anaconda3\\envs\\PythonData\\lib\\site-packages\\sklearn\\model_selection\\_validation.py:593: DataConversionWarning: A column-vector y was passed when a 1d array was expected. Please change the shape of y to (n_samples,), for example using ravel().\n",
      "  estimator.fit(X_train, y_train, **fit_params)\n"
     ]
    },
    {
     "name": "stdout",
     "output_type": "stream",
     "text": [
      "[CV 5/5] END max_depth=1, max_features=auto, min_samples_split=5, n_estimators=50, oob_score=True; total time=   0.2s\n"
     ]
    },
    {
     "name": "stderr",
     "output_type": "stream",
     "text": [
      "C:\\Users\\jump1\\anaconda3\\envs\\PythonData\\lib\\site-packages\\sklearn\\model_selection\\_validation.py:593: DataConversionWarning: A column-vector y was passed when a 1d array was expected. Please change the shape of y to (n_samples,), for example using ravel().\n",
      "  estimator.fit(X_train, y_train, **fit_params)\n"
     ]
    },
    {
     "name": "stdout",
     "output_type": "stream",
     "text": [
      "[CV 1/5] END max_depth=1, max_features=auto, min_samples_split=5, n_estimators=100, oob_score=True; total time=   0.6s\n"
     ]
    },
    {
     "name": "stderr",
     "output_type": "stream",
     "text": [
      "C:\\Users\\jump1\\anaconda3\\envs\\PythonData\\lib\\site-packages\\sklearn\\model_selection\\_validation.py:593: DataConversionWarning: A column-vector y was passed when a 1d array was expected. Please change the shape of y to (n_samples,), for example using ravel().\n",
      "  estimator.fit(X_train, y_train, **fit_params)\n"
     ]
    },
    {
     "name": "stdout",
     "output_type": "stream",
     "text": [
      "[CV 2/5] END max_depth=1, max_features=auto, min_samples_split=5, n_estimators=100, oob_score=True; total time=   0.5s\n"
     ]
    },
    {
     "name": "stderr",
     "output_type": "stream",
     "text": [
      "C:\\Users\\jump1\\anaconda3\\envs\\PythonData\\lib\\site-packages\\sklearn\\model_selection\\_validation.py:593: DataConversionWarning: A column-vector y was passed when a 1d array was expected. Please change the shape of y to (n_samples,), for example using ravel().\n",
      "  estimator.fit(X_train, y_train, **fit_params)\n"
     ]
    },
    {
     "name": "stdout",
     "output_type": "stream",
     "text": [
      "[CV 3/5] END max_depth=1, max_features=auto, min_samples_split=5, n_estimators=100, oob_score=True; total time=   0.6s\n"
     ]
    },
    {
     "name": "stderr",
     "output_type": "stream",
     "text": [
      "C:\\Users\\jump1\\anaconda3\\envs\\PythonData\\lib\\site-packages\\sklearn\\model_selection\\_validation.py:593: DataConversionWarning: A column-vector y was passed when a 1d array was expected. Please change the shape of y to (n_samples,), for example using ravel().\n",
      "  estimator.fit(X_train, y_train, **fit_params)\n"
     ]
    },
    {
     "name": "stdout",
     "output_type": "stream",
     "text": [
      "[CV 4/5] END max_depth=1, max_features=auto, min_samples_split=5, n_estimators=100, oob_score=True; total time=   0.5s\n"
     ]
    },
    {
     "name": "stderr",
     "output_type": "stream",
     "text": [
      "C:\\Users\\jump1\\anaconda3\\envs\\PythonData\\lib\\site-packages\\sklearn\\model_selection\\_validation.py:593: DataConversionWarning: A column-vector y was passed when a 1d array was expected. Please change the shape of y to (n_samples,), for example using ravel().\n",
      "  estimator.fit(X_train, y_train, **fit_params)\n"
     ]
    },
    {
     "name": "stdout",
     "output_type": "stream",
     "text": [
      "[CV 5/5] END max_depth=1, max_features=auto, min_samples_split=5, n_estimators=100, oob_score=True; total time=   0.6s\n",
      "[CV 1/5] END max_depth=1, max_features=auto, min_samples_split=10, n_estimators=10, oob_score=True; total time=   0.0s\n",
      "[CV 2/5] END max_depth=1, max_features=auto, min_samples_split=10, n_estimators=10, oob_score=True; total time=   0.0s\n"
     ]
    },
    {
     "name": "stderr",
     "output_type": "stream",
     "text": [
      "C:\\Users\\jump1\\anaconda3\\envs\\PythonData\\lib\\site-packages\\sklearn\\model_selection\\_validation.py:593: DataConversionWarning: A column-vector y was passed when a 1d array was expected. Please change the shape of y to (n_samples,), for example using ravel().\n",
      "  estimator.fit(X_train, y_train, **fit_params)\n",
      "C:\\Users\\jump1\\anaconda3\\envs\\PythonData\\lib\\site-packages\\sklearn\\ensemble\\_forest.py:541: UserWarning: Some inputs do not have OOB scores. This probably means too few trees were used to compute any reliable oob estimates.\n",
      "  warn(\"Some inputs do not have OOB scores. \"\n",
      "C:\\Users\\jump1\\anaconda3\\envs\\PythonData\\lib\\site-packages\\sklearn\\ensemble\\_forest.py:546: RuntimeWarning: invalid value encountered in true_divide\n",
      "  predictions[k].sum(axis=1)[:, np.newaxis])\n",
      "C:\\Users\\jump1\\anaconda3\\envs\\PythonData\\lib\\site-packages\\sklearn\\model_selection\\_validation.py:593: DataConversionWarning: A column-vector y was passed when a 1d array was expected. Please change the shape of y to (n_samples,), for example using ravel().\n",
      "  estimator.fit(X_train, y_train, **fit_params)\n",
      "C:\\Users\\jump1\\anaconda3\\envs\\PythonData\\lib\\site-packages\\sklearn\\ensemble\\_forest.py:541: UserWarning: Some inputs do not have OOB scores. This probably means too few trees were used to compute any reliable oob estimates.\n",
      "  warn(\"Some inputs do not have OOB scores. \"\n",
      "C:\\Users\\jump1\\anaconda3\\envs\\PythonData\\lib\\site-packages\\sklearn\\ensemble\\_forest.py:546: RuntimeWarning: invalid value encountered in true_divide\n",
      "  predictions[k].sum(axis=1)[:, np.newaxis])\n",
      "C:\\Users\\jump1\\anaconda3\\envs\\PythonData\\lib\\site-packages\\sklearn\\model_selection\\_validation.py:593: DataConversionWarning: A column-vector y was passed when a 1d array was expected. Please change the shape of y to (n_samples,), for example using ravel().\n",
      "  estimator.fit(X_train, y_train, **fit_params)\n",
      "C:\\Users\\jump1\\anaconda3\\envs\\PythonData\\lib\\site-packages\\sklearn\\ensemble\\_forest.py:541: UserWarning: Some inputs do not have OOB scores. This probably means too few trees were used to compute any reliable oob estimates.\n",
      "  warn(\"Some inputs do not have OOB scores. \"\n",
      "C:\\Users\\jump1\\anaconda3\\envs\\PythonData\\lib\\site-packages\\sklearn\\ensemble\\_forest.py:546: RuntimeWarning: invalid value encountered in true_divide\n",
      "  predictions[k].sum(axis=1)[:, np.newaxis])\n",
      "C:\\Users\\jump1\\anaconda3\\envs\\PythonData\\lib\\site-packages\\sklearn\\model_selection\\_validation.py:593: DataConversionWarning: A column-vector y was passed when a 1d array was expected. Please change the shape of y to (n_samples,), for example using ravel().\n",
      "  estimator.fit(X_train, y_train, **fit_params)\n",
      "C:\\Users\\jump1\\anaconda3\\envs\\PythonData\\lib\\site-packages\\sklearn\\ensemble\\_forest.py:541: UserWarning: Some inputs do not have OOB scores. This probably means too few trees were used to compute any reliable oob estimates.\n",
      "  warn(\"Some inputs do not have OOB scores. \"\n",
      "C:\\Users\\jump1\\anaconda3\\envs\\PythonData\\lib\\site-packages\\sklearn\\ensemble\\_forest.py:546: RuntimeWarning: invalid value encountered in true_divide\n",
      "  predictions[k].sum(axis=1)[:, np.newaxis])\n",
      "C:\\Users\\jump1\\anaconda3\\envs\\PythonData\\lib\\site-packages\\sklearn\\model_selection\\_validation.py:593: DataConversionWarning: A column-vector y was passed when a 1d array was expected. Please change the shape of y to (n_samples,), for example using ravel().\n",
      "  estimator.fit(X_train, y_train, **fit_params)\n",
      "C:\\Users\\jump1\\anaconda3\\envs\\PythonData\\lib\\site-packages\\sklearn\\ensemble\\_forest.py:541: UserWarning: Some inputs do not have OOB scores. This probably means too few trees were used to compute any reliable oob estimates.\n",
      "  warn(\"Some inputs do not have OOB scores. \"\n",
      "C:\\Users\\jump1\\anaconda3\\envs\\PythonData\\lib\\site-packages\\sklearn\\ensemble\\_forest.py:546: RuntimeWarning: invalid value encountered in true_divide\n",
      "  predictions[k].sum(axis=1)[:, np.newaxis])\n",
      "C:\\Users\\jump1\\anaconda3\\envs\\PythonData\\lib\\site-packages\\sklearn\\model_selection\\_validation.py:593: DataConversionWarning: A column-vector y was passed when a 1d array was expected. Please change the shape of y to (n_samples,), for example using ravel().\n",
      "  estimator.fit(X_train, y_train, **fit_params)\n"
     ]
    },
    {
     "name": "stdout",
     "output_type": "stream",
     "text": [
      "[CV 3/5] END max_depth=1, max_features=auto, min_samples_split=10, n_estimators=10, oob_score=True; total time=   0.0s\n",
      "[CV 4/5] END max_depth=1, max_features=auto, min_samples_split=10, n_estimators=10, oob_score=True; total time=   0.0s\n",
      "[CV 5/5] END max_depth=1, max_features=auto, min_samples_split=10, n_estimators=10, oob_score=True; total time=   0.0s\n"
     ]
    },
    {
     "name": "stderr",
     "output_type": "stream",
     "text": [
      "C:\\Users\\jump1\\anaconda3\\envs\\PythonData\\lib\\site-packages\\sklearn\\ensemble\\_forest.py:541: UserWarning: Some inputs do not have OOB scores. This probably means too few trees were used to compute any reliable oob estimates.\n",
      "  warn(\"Some inputs do not have OOB scores. \"\n",
      "C:\\Users\\jump1\\anaconda3\\envs\\PythonData\\lib\\site-packages\\sklearn\\ensemble\\_forest.py:546: RuntimeWarning: invalid value encountered in true_divide\n",
      "  predictions[k].sum(axis=1)[:, np.newaxis])\n",
      "C:\\Users\\jump1\\anaconda3\\envs\\PythonData\\lib\\site-packages\\sklearn\\model_selection\\_validation.py:593: DataConversionWarning: A column-vector y was passed when a 1d array was expected. Please change the shape of y to (n_samples,), for example using ravel().\n",
      "  estimator.fit(X_train, y_train, **fit_params)\n",
      "C:\\Users\\jump1\\anaconda3\\envs\\PythonData\\lib\\site-packages\\sklearn\\ensemble\\_forest.py:541: UserWarning: Some inputs do not have OOB scores. This probably means too few trees were used to compute any reliable oob estimates.\n",
      "  warn(\"Some inputs do not have OOB scores. \"\n",
      "C:\\Users\\jump1\\anaconda3\\envs\\PythonData\\lib\\site-packages\\sklearn\\ensemble\\_forest.py:546: RuntimeWarning: invalid value encountered in true_divide\n",
      "  predictions[k].sum(axis=1)[:, np.newaxis])\n",
      "C:\\Users\\jump1\\anaconda3\\envs\\PythonData\\lib\\site-packages\\sklearn\\model_selection\\_validation.py:593: DataConversionWarning: A column-vector y was passed when a 1d array was expected. Please change the shape of y to (n_samples,), for example using ravel().\n",
      "  estimator.fit(X_train, y_train, **fit_params)\n"
     ]
    },
    {
     "name": "stdout",
     "output_type": "stream",
     "text": [
      "[CV 1/5] END max_depth=1, max_features=auto, min_samples_split=10, n_estimators=20, oob_score=True; total time=   0.1s\n",
      "[CV 2/5] END max_depth=1, max_features=auto, min_samples_split=10, n_estimators=20, oob_score=True; total time=   0.0s\n"
     ]
    },
    {
     "name": "stderr",
     "output_type": "stream",
     "text": [
      "C:\\Users\\jump1\\anaconda3\\envs\\PythonData\\lib\\site-packages\\sklearn\\ensemble\\_forest.py:541: UserWarning: Some inputs do not have OOB scores. This probably means too few trees were used to compute any reliable oob estimates.\n",
      "  warn(\"Some inputs do not have OOB scores. \"\n",
      "C:\\Users\\jump1\\anaconda3\\envs\\PythonData\\lib\\site-packages\\sklearn\\ensemble\\_forest.py:546: RuntimeWarning: invalid value encountered in true_divide\n",
      "  predictions[k].sum(axis=1)[:, np.newaxis])\n",
      "C:\\Users\\jump1\\anaconda3\\envs\\PythonData\\lib\\site-packages\\sklearn\\model_selection\\_validation.py:593: DataConversionWarning: A column-vector y was passed when a 1d array was expected. Please change the shape of y to (n_samples,), for example using ravel().\n",
      "  estimator.fit(X_train, y_train, **fit_params)\n"
     ]
    },
    {
     "name": "stdout",
     "output_type": "stream",
     "text": [
      "[CV 3/5] END max_depth=1, max_features=auto, min_samples_split=10, n_estimators=20, oob_score=True; total time=   0.0s\n",
      "[CV 4/5] END max_depth=1, max_features=auto, min_samples_split=10, n_estimators=20, oob_score=True; total time=   0.1s\n"
     ]
    },
    {
     "name": "stderr",
     "output_type": "stream",
     "text": [
      "C:\\Users\\jump1\\anaconda3\\envs\\PythonData\\lib\\site-packages\\sklearn\\model_selection\\_validation.py:593: DataConversionWarning: A column-vector y was passed when a 1d array was expected. Please change the shape of y to (n_samples,), for example using ravel().\n",
      "  estimator.fit(X_train, y_train, **fit_params)\n",
      "C:\\Users\\jump1\\anaconda3\\envs\\PythonData\\lib\\site-packages\\sklearn\\model_selection\\_validation.py:593: DataConversionWarning: A column-vector y was passed when a 1d array was expected. Please change the shape of y to (n_samples,), for example using ravel().\n",
      "  estimator.fit(X_train, y_train, **fit_params)\n"
     ]
    },
    {
     "name": "stdout",
     "output_type": "stream",
     "text": [
      "[CV 5/5] END max_depth=1, max_features=auto, min_samples_split=10, n_estimators=20, oob_score=True; total time=   0.1s\n",
      "[CV 1/5] END max_depth=1, max_features=auto, min_samples_split=10, n_estimators=50, oob_score=True; total time=   0.2s\n"
     ]
    },
    {
     "name": "stderr",
     "output_type": "stream",
     "text": [
      "C:\\Users\\jump1\\anaconda3\\envs\\PythonData\\lib\\site-packages\\sklearn\\model_selection\\_validation.py:593: DataConversionWarning: A column-vector y was passed when a 1d array was expected. Please change the shape of y to (n_samples,), for example using ravel().\n",
      "  estimator.fit(X_train, y_train, **fit_params)\n"
     ]
    },
    {
     "name": "stdout",
     "output_type": "stream",
     "text": [
      "[CV 2/5] END max_depth=1, max_features=auto, min_samples_split=10, n_estimators=50, oob_score=True; total time=   0.2s\n"
     ]
    },
    {
     "name": "stderr",
     "output_type": "stream",
     "text": [
      "C:\\Users\\jump1\\anaconda3\\envs\\PythonData\\lib\\site-packages\\sklearn\\model_selection\\_validation.py:593: DataConversionWarning: A column-vector y was passed when a 1d array was expected. Please change the shape of y to (n_samples,), for example using ravel().\n",
      "  estimator.fit(X_train, y_train, **fit_params)\n"
     ]
    },
    {
     "name": "stdout",
     "output_type": "stream",
     "text": [
      "[CV 3/5] END max_depth=1, max_features=auto, min_samples_split=10, n_estimators=50, oob_score=True; total time=   0.2s\n"
     ]
    },
    {
     "name": "stderr",
     "output_type": "stream",
     "text": [
      "C:\\Users\\jump1\\anaconda3\\envs\\PythonData\\lib\\site-packages\\sklearn\\model_selection\\_validation.py:593: DataConversionWarning: A column-vector y was passed when a 1d array was expected. Please change the shape of y to (n_samples,), for example using ravel().\n",
      "  estimator.fit(X_train, y_train, **fit_params)\n"
     ]
    },
    {
     "name": "stdout",
     "output_type": "stream",
     "text": [
      "[CV 4/5] END max_depth=1, max_features=auto, min_samples_split=10, n_estimators=50, oob_score=True; total time=   0.2s\n"
     ]
    },
    {
     "name": "stderr",
     "output_type": "stream",
     "text": [
      "C:\\Users\\jump1\\anaconda3\\envs\\PythonData\\lib\\site-packages\\sklearn\\model_selection\\_validation.py:593: DataConversionWarning: A column-vector y was passed when a 1d array was expected. Please change the shape of y to (n_samples,), for example using ravel().\n",
      "  estimator.fit(X_train, y_train, **fit_params)\n"
     ]
    },
    {
     "name": "stdout",
     "output_type": "stream",
     "text": [
      "[CV 5/5] END max_depth=1, max_features=auto, min_samples_split=10, n_estimators=50, oob_score=True; total time=   0.2s\n"
     ]
    },
    {
     "name": "stderr",
     "output_type": "stream",
     "text": [
      "C:\\Users\\jump1\\anaconda3\\envs\\PythonData\\lib\\site-packages\\sklearn\\model_selection\\_validation.py:593: DataConversionWarning: A column-vector y was passed when a 1d array was expected. Please change the shape of y to (n_samples,), for example using ravel().\n",
      "  estimator.fit(X_train, y_train, **fit_params)\n"
     ]
    },
    {
     "name": "stdout",
     "output_type": "stream",
     "text": [
      "[CV 1/5] END max_depth=1, max_features=auto, min_samples_split=10, n_estimators=100, oob_score=True; total time=   0.5s\n"
     ]
    },
    {
     "name": "stderr",
     "output_type": "stream",
     "text": [
      "C:\\Users\\jump1\\anaconda3\\envs\\PythonData\\lib\\site-packages\\sklearn\\model_selection\\_validation.py:593: DataConversionWarning: A column-vector y was passed when a 1d array was expected. Please change the shape of y to (n_samples,), for example using ravel().\n",
      "  estimator.fit(X_train, y_train, **fit_params)\n"
     ]
    },
    {
     "name": "stdout",
     "output_type": "stream",
     "text": [
      "[CV 2/5] END max_depth=1, max_features=auto, min_samples_split=10, n_estimators=100, oob_score=True; total time=   0.6s\n"
     ]
    },
    {
     "name": "stderr",
     "output_type": "stream",
     "text": [
      "C:\\Users\\jump1\\anaconda3\\envs\\PythonData\\lib\\site-packages\\sklearn\\model_selection\\_validation.py:593: DataConversionWarning: A column-vector y was passed when a 1d array was expected. Please change the shape of y to (n_samples,), for example using ravel().\n",
      "  estimator.fit(X_train, y_train, **fit_params)\n"
     ]
    },
    {
     "name": "stdout",
     "output_type": "stream",
     "text": [
      "[CV 3/5] END max_depth=1, max_features=auto, min_samples_split=10, n_estimators=100, oob_score=True; total time=   0.9s\n"
     ]
    },
    {
     "name": "stderr",
     "output_type": "stream",
     "text": [
      "C:\\Users\\jump1\\anaconda3\\envs\\PythonData\\lib\\site-packages\\sklearn\\model_selection\\_validation.py:593: DataConversionWarning: A column-vector y was passed when a 1d array was expected. Please change the shape of y to (n_samples,), for example using ravel().\n",
      "  estimator.fit(X_train, y_train, **fit_params)\n"
     ]
    },
    {
     "name": "stdout",
     "output_type": "stream",
     "text": [
      "[CV 4/5] END max_depth=1, max_features=auto, min_samples_split=10, n_estimators=100, oob_score=True; total time=   0.6s\n"
     ]
    },
    {
     "name": "stderr",
     "output_type": "stream",
     "text": [
      "C:\\Users\\jump1\\anaconda3\\envs\\PythonData\\lib\\site-packages\\sklearn\\model_selection\\_validation.py:593: DataConversionWarning: A column-vector y was passed when a 1d array was expected. Please change the shape of y to (n_samples,), for example using ravel().\n",
      "  estimator.fit(X_train, y_train, **fit_params)\n"
     ]
    },
    {
     "name": "stdout",
     "output_type": "stream",
     "text": [
      "[CV 5/5] END max_depth=1, max_features=auto, min_samples_split=10, n_estimators=100, oob_score=True; total time=   0.6s\n",
      "[CV 1/5] END max_depth=5, max_features=auto, min_samples_split=2, n_estimators=10, oob_score=True; total time=   0.0s\n"
     ]
    },
    {
     "name": "stderr",
     "output_type": "stream",
     "text": [
      "C:\\Users\\jump1\\anaconda3\\envs\\PythonData\\lib\\site-packages\\sklearn\\model_selection\\_validation.py:593: DataConversionWarning: A column-vector y was passed when a 1d array was expected. Please change the shape of y to (n_samples,), for example using ravel().\n",
      "  estimator.fit(X_train, y_train, **fit_params)\n",
      "C:\\Users\\jump1\\anaconda3\\envs\\PythonData\\lib\\site-packages\\sklearn\\ensemble\\_forest.py:541: UserWarning: Some inputs do not have OOB scores. This probably means too few trees were used to compute any reliable oob estimates.\n",
      "  warn(\"Some inputs do not have OOB scores. \"\n",
      "C:\\Users\\jump1\\anaconda3\\envs\\PythonData\\lib\\site-packages\\sklearn\\ensemble\\_forest.py:546: RuntimeWarning: invalid value encountered in true_divide\n",
      "  predictions[k].sum(axis=1)[:, np.newaxis])\n",
      "C:\\Users\\jump1\\anaconda3\\envs\\PythonData\\lib\\site-packages\\sklearn\\model_selection\\_validation.py:593: DataConversionWarning: A column-vector y was passed when a 1d array was expected. Please change the shape of y to (n_samples,), for example using ravel().\n",
      "  estimator.fit(X_train, y_train, **fit_params)\n",
      "C:\\Users\\jump1\\anaconda3\\envs\\PythonData\\lib\\site-packages\\sklearn\\ensemble\\_forest.py:541: UserWarning: Some inputs do not have OOB scores. This probably means too few trees were used to compute any reliable oob estimates.\n",
      "  warn(\"Some inputs do not have OOB scores. \"\n",
      "C:\\Users\\jump1\\anaconda3\\envs\\PythonData\\lib\\site-packages\\sklearn\\ensemble\\_forest.py:546: RuntimeWarning: invalid value encountered in true_divide\n",
      "  predictions[k].sum(axis=1)[:, np.newaxis])\n",
      "C:\\Users\\jump1\\anaconda3\\envs\\PythonData\\lib\\site-packages\\sklearn\\model_selection\\_validation.py:593: DataConversionWarning: A column-vector y was passed when a 1d array was expected. Please change the shape of y to (n_samples,), for example using ravel().\n",
      "  estimator.fit(X_train, y_train, **fit_params)\n",
      "C:\\Users\\jump1\\anaconda3\\envs\\PythonData\\lib\\site-packages\\sklearn\\ensemble\\_forest.py:541: UserWarning: Some inputs do not have OOB scores. This probably means too few trees were used to compute any reliable oob estimates.\n",
      "  warn(\"Some inputs do not have OOB scores. \"\n",
      "C:\\Users\\jump1\\anaconda3\\envs\\PythonData\\lib\\site-packages\\sklearn\\ensemble\\_forest.py:546: RuntimeWarning: invalid value encountered in true_divide\n",
      "  predictions[k].sum(axis=1)[:, np.newaxis])\n",
      "C:\\Users\\jump1\\anaconda3\\envs\\PythonData\\lib\\site-packages\\sklearn\\model_selection\\_validation.py:593: DataConversionWarning: A column-vector y was passed when a 1d array was expected. Please change the shape of y to (n_samples,), for example using ravel().\n",
      "  estimator.fit(X_train, y_train, **fit_params)\n"
     ]
    },
    {
     "name": "stdout",
     "output_type": "stream",
     "text": [
      "[CV 2/5] END max_depth=5, max_features=auto, min_samples_split=2, n_estimators=10, oob_score=True; total time=   0.1s\n",
      "[CV 3/5] END max_depth=5, max_features=auto, min_samples_split=2, n_estimators=10, oob_score=True; total time=   0.0s\n"
     ]
    },
    {
     "name": "stderr",
     "output_type": "stream",
     "text": [
      "C:\\Users\\jump1\\anaconda3\\envs\\PythonData\\lib\\site-packages\\sklearn\\ensemble\\_forest.py:541: UserWarning: Some inputs do not have OOB scores. This probably means too few trees were used to compute any reliable oob estimates.\n",
      "  warn(\"Some inputs do not have OOB scores. \"\n",
      "C:\\Users\\jump1\\anaconda3\\envs\\PythonData\\lib\\site-packages\\sklearn\\ensemble\\_forest.py:546: RuntimeWarning: invalid value encountered in true_divide\n",
      "  predictions[k].sum(axis=1)[:, np.newaxis])\n",
      "C:\\Users\\jump1\\anaconda3\\envs\\PythonData\\lib\\site-packages\\sklearn\\model_selection\\_validation.py:593: DataConversionWarning: A column-vector y was passed when a 1d array was expected. Please change the shape of y to (n_samples,), for example using ravel().\n",
      "  estimator.fit(X_train, y_train, **fit_params)\n",
      "C:\\Users\\jump1\\anaconda3\\envs\\PythonData\\lib\\site-packages\\sklearn\\ensemble\\_forest.py:541: UserWarning: Some inputs do not have OOB scores. This probably means too few trees were used to compute any reliable oob estimates.\n",
      "  warn(\"Some inputs do not have OOB scores. \"\n",
      "C:\\Users\\jump1\\anaconda3\\envs\\PythonData\\lib\\site-packages\\sklearn\\ensemble\\_forest.py:546: RuntimeWarning: invalid value encountered in true_divide\n",
      "  predictions[k].sum(axis=1)[:, np.newaxis])\n",
      "C:\\Users\\jump1\\anaconda3\\envs\\PythonData\\lib\\site-packages\\sklearn\\model_selection\\_validation.py:593: DataConversionWarning: A column-vector y was passed when a 1d array was expected. Please change the shape of y to (n_samples,), for example using ravel().\n",
      "  estimator.fit(X_train, y_train, **fit_params)\n"
     ]
    },
    {
     "name": "stdout",
     "output_type": "stream",
     "text": [
      "[CV 4/5] END max_depth=5, max_features=auto, min_samples_split=2, n_estimators=10, oob_score=True; total time=   0.0s\n",
      "[CV 5/5] END max_depth=5, max_features=auto, min_samples_split=2, n_estimators=10, oob_score=True; total time=   0.0s\n"
     ]
    },
    {
     "name": "stderr",
     "output_type": "stream",
     "text": [
      "C:\\Users\\jump1\\anaconda3\\envs\\PythonData\\lib\\site-packages\\sklearn\\ensemble\\_forest.py:541: UserWarning: Some inputs do not have OOB scores. This probably means too few trees were used to compute any reliable oob estimates.\n",
      "  warn(\"Some inputs do not have OOB scores. \"\n",
      "C:\\Users\\jump1\\anaconda3\\envs\\PythonData\\lib\\site-packages\\sklearn\\ensemble\\_forest.py:546: RuntimeWarning: invalid value encountered in true_divide\n",
      "  predictions[k].sum(axis=1)[:, np.newaxis])\n",
      "C:\\Users\\jump1\\anaconda3\\envs\\PythonData\\lib\\site-packages\\sklearn\\model_selection\\_validation.py:593: DataConversionWarning: A column-vector y was passed when a 1d array was expected. Please change the shape of y to (n_samples,), for example using ravel().\n",
      "  estimator.fit(X_train, y_train, **fit_params)\n"
     ]
    },
    {
     "name": "stdout",
     "output_type": "stream",
     "text": [
      "[CV 1/5] END max_depth=5, max_features=auto, min_samples_split=2, n_estimators=20, oob_score=True; total time=   0.2s\n"
     ]
    },
    {
     "name": "stderr",
     "output_type": "stream",
     "text": [
      "C:\\Users\\jump1\\anaconda3\\envs\\PythonData\\lib\\site-packages\\sklearn\\ensemble\\_forest.py:541: UserWarning: Some inputs do not have OOB scores. This probably means too few trees were used to compute any reliable oob estimates.\n",
      "  warn(\"Some inputs do not have OOB scores. \"\n",
      "C:\\Users\\jump1\\anaconda3\\envs\\PythonData\\lib\\site-packages\\sklearn\\ensemble\\_forest.py:546: RuntimeWarning: invalid value encountered in true_divide\n",
      "  predictions[k].sum(axis=1)[:, np.newaxis])\n",
      "C:\\Users\\jump1\\anaconda3\\envs\\PythonData\\lib\\site-packages\\sklearn\\model_selection\\_validation.py:593: DataConversionWarning: A column-vector y was passed when a 1d array was expected. Please change the shape of y to (n_samples,), for example using ravel().\n",
      "  estimator.fit(X_train, y_train, **fit_params)\n"
     ]
    },
    {
     "name": "stdout",
     "output_type": "stream",
     "text": [
      "[CV 2/5] END max_depth=5, max_features=auto, min_samples_split=2, n_estimators=20, oob_score=True; total time=   0.2s\n"
     ]
    },
    {
     "name": "stderr",
     "output_type": "stream",
     "text": [
      "C:\\Users\\jump1\\anaconda3\\envs\\PythonData\\lib\\site-packages\\sklearn\\ensemble\\_forest.py:541: UserWarning: Some inputs do not have OOB scores. This probably means too few trees were used to compute any reliable oob estimates.\n",
      "  warn(\"Some inputs do not have OOB scores. \"\n",
      "C:\\Users\\jump1\\anaconda3\\envs\\PythonData\\lib\\site-packages\\sklearn\\ensemble\\_forest.py:546: RuntimeWarning: invalid value encountered in true_divide\n",
      "  predictions[k].sum(axis=1)[:, np.newaxis])\n",
      "C:\\Users\\jump1\\anaconda3\\envs\\PythonData\\lib\\site-packages\\sklearn\\model_selection\\_validation.py:593: DataConversionWarning: A column-vector y was passed when a 1d array was expected. Please change the shape of y to (n_samples,), for example using ravel().\n",
      "  estimator.fit(X_train, y_train, **fit_params)\n"
     ]
    },
    {
     "name": "stdout",
     "output_type": "stream",
     "text": [
      "[CV 3/5] END max_depth=5, max_features=auto, min_samples_split=2, n_estimators=20, oob_score=True; total time=   0.2s\n",
      "[CV 4/5] END max_depth=5, max_features=auto, min_samples_split=2, n_estimators=20, oob_score=True; total time=   0.2s\n"
     ]
    },
    {
     "name": "stderr",
     "output_type": "stream",
     "text": [
      "C:\\Users\\jump1\\anaconda3\\envs\\PythonData\\lib\\site-packages\\sklearn\\model_selection\\_validation.py:593: DataConversionWarning: A column-vector y was passed when a 1d array was expected. Please change the shape of y to (n_samples,), for example using ravel().\n",
      "  estimator.fit(X_train, y_train, **fit_params)\n"
     ]
    },
    {
     "name": "stdout",
     "output_type": "stream",
     "text": [
      "[CV 5/5] END max_depth=5, max_features=auto, min_samples_split=2, n_estimators=20, oob_score=True; total time=   0.2s\n"
     ]
    },
    {
     "name": "stderr",
     "output_type": "stream",
     "text": [
      "C:\\Users\\jump1\\anaconda3\\envs\\PythonData\\lib\\site-packages\\sklearn\\model_selection\\_validation.py:593: DataConversionWarning: A column-vector y was passed when a 1d array was expected. Please change the shape of y to (n_samples,), for example using ravel().\n",
      "  estimator.fit(X_train, y_train, **fit_params)\n"
     ]
    },
    {
     "name": "stdout",
     "output_type": "stream",
     "text": [
      "[CV 1/5] END max_depth=5, max_features=auto, min_samples_split=2, n_estimators=50, oob_score=True; total time=   0.5s\n"
     ]
    },
    {
     "name": "stderr",
     "output_type": "stream",
     "text": [
      "C:\\Users\\jump1\\anaconda3\\envs\\PythonData\\lib\\site-packages\\sklearn\\model_selection\\_validation.py:593: DataConversionWarning: A column-vector y was passed when a 1d array was expected. Please change the shape of y to (n_samples,), for example using ravel().\n",
      "  estimator.fit(X_train, y_train, **fit_params)\n"
     ]
    },
    {
     "name": "stdout",
     "output_type": "stream",
     "text": [
      "[CV 2/5] END max_depth=5, max_features=auto, min_samples_split=2, n_estimators=50, oob_score=True; total time=   0.5s\n"
     ]
    },
    {
     "name": "stderr",
     "output_type": "stream",
     "text": [
      "C:\\Users\\jump1\\anaconda3\\envs\\PythonData\\lib\\site-packages\\sklearn\\model_selection\\_validation.py:593: DataConversionWarning: A column-vector y was passed when a 1d array was expected. Please change the shape of y to (n_samples,), for example using ravel().\n",
      "  estimator.fit(X_train, y_train, **fit_params)\n"
     ]
    },
    {
     "name": "stdout",
     "output_type": "stream",
     "text": [
      "[CV 3/5] END max_depth=5, max_features=auto, min_samples_split=2, n_estimators=50, oob_score=True; total time=   0.5s\n"
     ]
    },
    {
     "name": "stderr",
     "output_type": "stream",
     "text": [
      "C:\\Users\\jump1\\anaconda3\\envs\\PythonData\\lib\\site-packages\\sklearn\\model_selection\\_validation.py:593: DataConversionWarning: A column-vector y was passed when a 1d array was expected. Please change the shape of y to (n_samples,), for example using ravel().\n",
      "  estimator.fit(X_train, y_train, **fit_params)\n"
     ]
    },
    {
     "name": "stdout",
     "output_type": "stream",
     "text": [
      "[CV 4/5] END max_depth=5, max_features=auto, min_samples_split=2, n_estimators=50, oob_score=True; total time=   0.5s\n"
     ]
    },
    {
     "name": "stderr",
     "output_type": "stream",
     "text": [
      "C:\\Users\\jump1\\anaconda3\\envs\\PythonData\\lib\\site-packages\\sklearn\\model_selection\\_validation.py:593: DataConversionWarning: A column-vector y was passed when a 1d array was expected. Please change the shape of y to (n_samples,), for example using ravel().\n",
      "  estimator.fit(X_train, y_train, **fit_params)\n"
     ]
    },
    {
     "name": "stdout",
     "output_type": "stream",
     "text": [
      "[CV 5/5] END max_depth=5, max_features=auto, min_samples_split=2, n_estimators=50, oob_score=True; total time=   0.5s\n"
     ]
    },
    {
     "name": "stderr",
     "output_type": "stream",
     "text": [
      "C:\\Users\\jump1\\anaconda3\\envs\\PythonData\\lib\\site-packages\\sklearn\\model_selection\\_validation.py:593: DataConversionWarning: A column-vector y was passed when a 1d array was expected. Please change the shape of y to (n_samples,), for example using ravel().\n",
      "  estimator.fit(X_train, y_train, **fit_params)\n"
     ]
    },
    {
     "name": "stdout",
     "output_type": "stream",
     "text": [
      "[CV 1/5] END max_depth=5, max_features=auto, min_samples_split=2, n_estimators=100, oob_score=True; total time=   1.2s\n"
     ]
    },
    {
     "name": "stderr",
     "output_type": "stream",
     "text": [
      "C:\\Users\\jump1\\anaconda3\\envs\\PythonData\\lib\\site-packages\\sklearn\\model_selection\\_validation.py:593: DataConversionWarning: A column-vector y was passed when a 1d array was expected. Please change the shape of y to (n_samples,), for example using ravel().\n",
      "  estimator.fit(X_train, y_train, **fit_params)\n"
     ]
    },
    {
     "name": "stdout",
     "output_type": "stream",
     "text": [
      "[CV 2/5] END max_depth=5, max_features=auto, min_samples_split=2, n_estimators=100, oob_score=True; total time=   1.3s\n"
     ]
    },
    {
     "name": "stderr",
     "output_type": "stream",
     "text": [
      "C:\\Users\\jump1\\anaconda3\\envs\\PythonData\\lib\\site-packages\\sklearn\\model_selection\\_validation.py:593: DataConversionWarning: A column-vector y was passed when a 1d array was expected. Please change the shape of y to (n_samples,), for example using ravel().\n",
      "  estimator.fit(X_train, y_train, **fit_params)\n"
     ]
    },
    {
     "name": "stdout",
     "output_type": "stream",
     "text": [
      "[CV 3/5] END max_depth=5, max_features=auto, min_samples_split=2, n_estimators=100, oob_score=True; total time=   1.3s\n"
     ]
    },
    {
     "name": "stderr",
     "output_type": "stream",
     "text": [
      "C:\\Users\\jump1\\anaconda3\\envs\\PythonData\\lib\\site-packages\\sklearn\\model_selection\\_validation.py:593: DataConversionWarning: A column-vector y was passed when a 1d array was expected. Please change the shape of y to (n_samples,), for example using ravel().\n",
      "  estimator.fit(X_train, y_train, **fit_params)\n"
     ]
    },
    {
     "name": "stdout",
     "output_type": "stream",
     "text": [
      "[CV 4/5] END max_depth=5, max_features=auto, min_samples_split=2, n_estimators=100, oob_score=True; total time=   1.2s\n"
     ]
    },
    {
     "name": "stderr",
     "output_type": "stream",
     "text": [
      "C:\\Users\\jump1\\anaconda3\\envs\\PythonData\\lib\\site-packages\\sklearn\\model_selection\\_validation.py:593: DataConversionWarning: A column-vector y was passed when a 1d array was expected. Please change the shape of y to (n_samples,), for example using ravel().\n",
      "  estimator.fit(X_train, y_train, **fit_params)\n"
     ]
    },
    {
     "name": "stdout",
     "output_type": "stream",
     "text": [
      "[CV 5/5] END max_depth=5, max_features=auto, min_samples_split=2, n_estimators=100, oob_score=True; total time=   1.3s\n",
      "[CV 1/5] END max_depth=5, max_features=auto, min_samples_split=5, n_estimators=10, oob_score=True; total time=   0.0s\n"
     ]
    },
    {
     "name": "stderr",
     "output_type": "stream",
     "text": [
      "C:\\Users\\jump1\\anaconda3\\envs\\PythonData\\lib\\site-packages\\sklearn\\model_selection\\_validation.py:593: DataConversionWarning: A column-vector y was passed when a 1d array was expected. Please change the shape of y to (n_samples,), for example using ravel().\n",
      "  estimator.fit(X_train, y_train, **fit_params)\n",
      "C:\\Users\\jump1\\anaconda3\\envs\\PythonData\\lib\\site-packages\\sklearn\\ensemble\\_forest.py:541: UserWarning: Some inputs do not have OOB scores. This probably means too few trees were used to compute any reliable oob estimates.\n",
      "  warn(\"Some inputs do not have OOB scores. \"\n",
      "C:\\Users\\jump1\\anaconda3\\envs\\PythonData\\lib\\site-packages\\sklearn\\ensemble\\_forest.py:546: RuntimeWarning: invalid value encountered in true_divide\n",
      "  predictions[k].sum(axis=1)[:, np.newaxis])\n",
      "C:\\Users\\jump1\\anaconda3\\envs\\PythonData\\lib\\site-packages\\sklearn\\model_selection\\_validation.py:593: DataConversionWarning: A column-vector y was passed when a 1d array was expected. Please change the shape of y to (n_samples,), for example using ravel().\n",
      "  estimator.fit(X_train, y_train, **fit_params)\n",
      "C:\\Users\\jump1\\anaconda3\\envs\\PythonData\\lib\\site-packages\\sklearn\\ensemble\\_forest.py:541: UserWarning: Some inputs do not have OOB scores. This probably means too few trees were used to compute any reliable oob estimates.\n",
      "  warn(\"Some inputs do not have OOB scores. \"\n",
      "C:\\Users\\jump1\\anaconda3\\envs\\PythonData\\lib\\site-packages\\sklearn\\ensemble\\_forest.py:546: RuntimeWarning: invalid value encountered in true_divide\n",
      "  predictions[k].sum(axis=1)[:, np.newaxis])\n",
      "C:\\Users\\jump1\\anaconda3\\envs\\PythonData\\lib\\site-packages\\sklearn\\model_selection\\_validation.py:593: DataConversionWarning: A column-vector y was passed when a 1d array was expected. Please change the shape of y to (n_samples,), for example using ravel().\n",
      "  estimator.fit(X_train, y_train, **fit_params)\n",
      "C:\\Users\\jump1\\anaconda3\\envs\\PythonData\\lib\\site-packages\\sklearn\\ensemble\\_forest.py:541: UserWarning: Some inputs do not have OOB scores. This probably means too few trees were used to compute any reliable oob estimates.\n",
      "  warn(\"Some inputs do not have OOB scores. \"\n",
      "C:\\Users\\jump1\\anaconda3\\envs\\PythonData\\lib\\site-packages\\sklearn\\ensemble\\_forest.py:546: RuntimeWarning: invalid value encountered in true_divide\n",
      "  predictions[k].sum(axis=1)[:, np.newaxis])\n"
     ]
    },
    {
     "name": "stdout",
     "output_type": "stream",
     "text": [
      "[CV 2/5] END max_depth=5, max_features=auto, min_samples_split=5, n_estimators=10, oob_score=True; total time=   0.1s\n",
      "[CV 3/5] END max_depth=5, max_features=auto, min_samples_split=5, n_estimators=10, oob_score=True; total time=   0.1s\n"
     ]
    },
    {
     "name": "stderr",
     "output_type": "stream",
     "text": [
      "C:\\Users\\jump1\\anaconda3\\envs\\PythonData\\lib\\site-packages\\sklearn\\model_selection\\_validation.py:593: DataConversionWarning: A column-vector y was passed when a 1d array was expected. Please change the shape of y to (n_samples,), for example using ravel().\n",
      "  estimator.fit(X_train, y_train, **fit_params)\n",
      "C:\\Users\\jump1\\anaconda3\\envs\\PythonData\\lib\\site-packages\\sklearn\\ensemble\\_forest.py:541: UserWarning: Some inputs do not have OOB scores. This probably means too few trees were used to compute any reliable oob estimates.\n",
      "  warn(\"Some inputs do not have OOB scores. \"\n",
      "C:\\Users\\jump1\\anaconda3\\envs\\PythonData\\lib\\site-packages\\sklearn\\ensemble\\_forest.py:546: RuntimeWarning: invalid value encountered in true_divide\n",
      "  predictions[k].sum(axis=1)[:, np.newaxis])\n",
      "C:\\Users\\jump1\\anaconda3\\envs\\PythonData\\lib\\site-packages\\sklearn\\model_selection\\_validation.py:593: DataConversionWarning: A column-vector y was passed when a 1d array was expected. Please change the shape of y to (n_samples,), for example using ravel().\n",
      "  estimator.fit(X_train, y_train, **fit_params)\n"
     ]
    },
    {
     "name": "stdout",
     "output_type": "stream",
     "text": [
      "[CV 4/5] END max_depth=5, max_features=auto, min_samples_split=5, n_estimators=10, oob_score=True; total time=   0.1s\n",
      "[CV 5/5] END max_depth=5, max_features=auto, min_samples_split=5, n_estimators=10, oob_score=True; total time=   0.1s\n"
     ]
    },
    {
     "name": "stderr",
     "output_type": "stream",
     "text": [
      "C:\\Users\\jump1\\anaconda3\\envs\\PythonData\\lib\\site-packages\\sklearn\\ensemble\\_forest.py:541: UserWarning: Some inputs do not have OOB scores. This probably means too few trees were used to compute any reliable oob estimates.\n",
      "  warn(\"Some inputs do not have OOB scores. \"\n",
      "C:\\Users\\jump1\\anaconda3\\envs\\PythonData\\lib\\site-packages\\sklearn\\ensemble\\_forest.py:546: RuntimeWarning: invalid value encountered in true_divide\n",
      "  predictions[k].sum(axis=1)[:, np.newaxis])\n",
      "C:\\Users\\jump1\\anaconda3\\envs\\PythonData\\lib\\site-packages\\sklearn\\model_selection\\_validation.py:593: DataConversionWarning: A column-vector y was passed when a 1d array was expected. Please change the shape of y to (n_samples,), for example using ravel().\n",
      "  estimator.fit(X_train, y_train, **fit_params)\n"
     ]
    },
    {
     "name": "stdout",
     "output_type": "stream",
     "text": [
      "[CV 1/5] END max_depth=5, max_features=auto, min_samples_split=5, n_estimators=20, oob_score=True; total time=   0.2s\n"
     ]
    },
    {
     "name": "stderr",
     "output_type": "stream",
     "text": [
      "C:\\Users\\jump1\\anaconda3\\envs\\PythonData\\lib\\site-packages\\sklearn\\model_selection\\_validation.py:593: DataConversionWarning: A column-vector y was passed when a 1d array was expected. Please change the shape of y to (n_samples,), for example using ravel().\n",
      "  estimator.fit(X_train, y_train, **fit_params)\n"
     ]
    },
    {
     "name": "stdout",
     "output_type": "stream",
     "text": [
      "[CV 2/5] END max_depth=5, max_features=auto, min_samples_split=5, n_estimators=20, oob_score=True; total time=   0.2s\n"
     ]
    },
    {
     "name": "stderr",
     "output_type": "stream",
     "text": [
      "C:\\Users\\jump1\\anaconda3\\envs\\PythonData\\lib\\site-packages\\sklearn\\model_selection\\_validation.py:593: DataConversionWarning: A column-vector y was passed when a 1d array was expected. Please change the shape of y to (n_samples,), for example using ravel().\n",
      "  estimator.fit(X_train, y_train, **fit_params)\n"
     ]
    },
    {
     "name": "stdout",
     "output_type": "stream",
     "text": [
      "[CV 3/5] END max_depth=5, max_features=auto, min_samples_split=5, n_estimators=20, oob_score=True; total time=   0.2s\n"
     ]
    },
    {
     "name": "stderr",
     "output_type": "stream",
     "text": [
      "C:\\Users\\jump1\\anaconda3\\envs\\PythonData\\lib\\site-packages\\sklearn\\model_selection\\_validation.py:593: DataConversionWarning: A column-vector y was passed when a 1d array was expected. Please change the shape of y to (n_samples,), for example using ravel().\n",
      "  estimator.fit(X_train, y_train, **fit_params)\n",
      "C:\\Users\\jump1\\anaconda3\\envs\\PythonData\\lib\\site-packages\\sklearn\\ensemble\\_forest.py:541: UserWarning: Some inputs do not have OOB scores. This probably means too few trees were used to compute any reliable oob estimates.\n",
      "  warn(\"Some inputs do not have OOB scores. \"\n",
      "C:\\Users\\jump1\\anaconda3\\envs\\PythonData\\lib\\site-packages\\sklearn\\ensemble\\_forest.py:546: RuntimeWarning: invalid value encountered in true_divide\n",
      "  predictions[k].sum(axis=1)[:, np.newaxis])\n",
      "C:\\Users\\jump1\\anaconda3\\envs\\PythonData\\lib\\site-packages\\sklearn\\model_selection\\_validation.py:593: DataConversionWarning: A column-vector y was passed when a 1d array was expected. Please change the shape of y to (n_samples,), for example using ravel().\n",
      "  estimator.fit(X_train, y_train, **fit_params)\n"
     ]
    },
    {
     "name": "stdout",
     "output_type": "stream",
     "text": [
      "[CV 4/5] END max_depth=5, max_features=auto, min_samples_split=5, n_estimators=20, oob_score=True; total time=   0.2s\n"
     ]
    },
    {
     "name": "stderr",
     "output_type": "stream",
     "text": [
      "C:\\Users\\jump1\\anaconda3\\envs\\PythonData\\lib\\site-packages\\sklearn\\ensemble\\_forest.py:541: UserWarning: Some inputs do not have OOB scores. This probably means too few trees were used to compute any reliable oob estimates.\n",
      "  warn(\"Some inputs do not have OOB scores. \"\n",
      "C:\\Users\\jump1\\anaconda3\\envs\\PythonData\\lib\\site-packages\\sklearn\\ensemble\\_forest.py:546: RuntimeWarning: invalid value encountered in true_divide\n",
      "  predictions[k].sum(axis=1)[:, np.newaxis])\n",
      "C:\\Users\\jump1\\anaconda3\\envs\\PythonData\\lib\\site-packages\\sklearn\\model_selection\\_validation.py:593: DataConversionWarning: A column-vector y was passed when a 1d array was expected. Please change the shape of y to (n_samples,), for example using ravel().\n",
      "  estimator.fit(X_train, y_train, **fit_params)\n"
     ]
    },
    {
     "name": "stdout",
     "output_type": "stream",
     "text": [
      "[CV 5/5] END max_depth=5, max_features=auto, min_samples_split=5, n_estimators=20, oob_score=True; total time=   0.2s\n",
      "[CV 1/5] END max_depth=5, max_features=auto, min_samples_split=5, n_estimators=50, oob_score=True; total time=   0.6s\n"
     ]
    },
    {
     "name": "stderr",
     "output_type": "stream",
     "text": [
      "C:\\Users\\jump1\\anaconda3\\envs\\PythonData\\lib\\site-packages\\sklearn\\model_selection\\_validation.py:593: DataConversionWarning: A column-vector y was passed when a 1d array was expected. Please change the shape of y to (n_samples,), for example using ravel().\n",
      "  estimator.fit(X_train, y_train, **fit_params)\n"
     ]
    },
    {
     "name": "stdout",
     "output_type": "stream",
     "text": [
      "[CV 2/5] END max_depth=5, max_features=auto, min_samples_split=5, n_estimators=50, oob_score=True; total time=   0.7s\n"
     ]
    },
    {
     "name": "stderr",
     "output_type": "stream",
     "text": [
      "C:\\Users\\jump1\\anaconda3\\envs\\PythonData\\lib\\site-packages\\sklearn\\model_selection\\_validation.py:593: DataConversionWarning: A column-vector y was passed when a 1d array was expected. Please change the shape of y to (n_samples,), for example using ravel().\n",
      "  estimator.fit(X_train, y_train, **fit_params)\n"
     ]
    },
    {
     "name": "stdout",
     "output_type": "stream",
     "text": [
      "[CV 3/5] END max_depth=5, max_features=auto, min_samples_split=5, n_estimators=50, oob_score=True; total time=   0.5s\n"
     ]
    },
    {
     "name": "stderr",
     "output_type": "stream",
     "text": [
      "C:\\Users\\jump1\\anaconda3\\envs\\PythonData\\lib\\site-packages\\sklearn\\model_selection\\_validation.py:593: DataConversionWarning: A column-vector y was passed when a 1d array was expected. Please change the shape of y to (n_samples,), for example using ravel().\n",
      "  estimator.fit(X_train, y_train, **fit_params)\n"
     ]
    },
    {
     "name": "stdout",
     "output_type": "stream",
     "text": [
      "[CV 4/5] END max_depth=5, max_features=auto, min_samples_split=5, n_estimators=50, oob_score=True; total time=   0.5s\n"
     ]
    },
    {
     "name": "stderr",
     "output_type": "stream",
     "text": [
      "C:\\Users\\jump1\\anaconda3\\envs\\PythonData\\lib\\site-packages\\sklearn\\model_selection\\_validation.py:593: DataConversionWarning: A column-vector y was passed when a 1d array was expected. Please change the shape of y to (n_samples,), for example using ravel().\n",
      "  estimator.fit(X_train, y_train, **fit_params)\n"
     ]
    },
    {
     "name": "stdout",
     "output_type": "stream",
     "text": [
      "[CV 5/5] END max_depth=5, max_features=auto, min_samples_split=5, n_estimators=50, oob_score=True; total time=   0.5s\n"
     ]
    },
    {
     "name": "stderr",
     "output_type": "stream",
     "text": [
      "C:\\Users\\jump1\\anaconda3\\envs\\PythonData\\lib\\site-packages\\sklearn\\model_selection\\_validation.py:593: DataConversionWarning: A column-vector y was passed when a 1d array was expected. Please change the shape of y to (n_samples,), for example using ravel().\n",
      "  estimator.fit(X_train, y_train, **fit_params)\n"
     ]
    },
    {
     "name": "stdout",
     "output_type": "stream",
     "text": [
      "[CV 1/5] END max_depth=5, max_features=auto, min_samples_split=5, n_estimators=100, oob_score=True; total time=   1.1s\n"
     ]
    },
    {
     "name": "stderr",
     "output_type": "stream",
     "text": [
      "C:\\Users\\jump1\\anaconda3\\envs\\PythonData\\lib\\site-packages\\sklearn\\model_selection\\_validation.py:593: DataConversionWarning: A column-vector y was passed when a 1d array was expected. Please change the shape of y to (n_samples,), for example using ravel().\n",
      "  estimator.fit(X_train, y_train, **fit_params)\n"
     ]
    },
    {
     "name": "stdout",
     "output_type": "stream",
     "text": [
      "[CV 2/5] END max_depth=5, max_features=auto, min_samples_split=5, n_estimators=100, oob_score=True; total time=   1.1s\n"
     ]
    },
    {
     "name": "stderr",
     "output_type": "stream",
     "text": [
      "C:\\Users\\jump1\\anaconda3\\envs\\PythonData\\lib\\site-packages\\sklearn\\model_selection\\_validation.py:593: DataConversionWarning: A column-vector y was passed when a 1d array was expected. Please change the shape of y to (n_samples,), for example using ravel().\n",
      "  estimator.fit(X_train, y_train, **fit_params)\n"
     ]
    },
    {
     "name": "stdout",
     "output_type": "stream",
     "text": [
      "[CV 3/5] END max_depth=5, max_features=auto, min_samples_split=5, n_estimators=100, oob_score=True; total time=   1.1s\n"
     ]
    },
    {
     "name": "stderr",
     "output_type": "stream",
     "text": [
      "C:\\Users\\jump1\\anaconda3\\envs\\PythonData\\lib\\site-packages\\sklearn\\model_selection\\_validation.py:593: DataConversionWarning: A column-vector y was passed when a 1d array was expected. Please change the shape of y to (n_samples,), for example using ravel().\n",
      "  estimator.fit(X_train, y_train, **fit_params)\n"
     ]
    },
    {
     "name": "stdout",
     "output_type": "stream",
     "text": [
      "[CV 4/5] END max_depth=5, max_features=auto, min_samples_split=5, n_estimators=100, oob_score=True; total time=   1.2s\n"
     ]
    },
    {
     "name": "stderr",
     "output_type": "stream",
     "text": [
      "C:\\Users\\jump1\\anaconda3\\envs\\PythonData\\lib\\site-packages\\sklearn\\model_selection\\_validation.py:593: DataConversionWarning: A column-vector y was passed when a 1d array was expected. Please change the shape of y to (n_samples,), for example using ravel().\n",
      "  estimator.fit(X_train, y_train, **fit_params)\n"
     ]
    },
    {
     "name": "stdout",
     "output_type": "stream",
     "text": [
      "[CV 5/5] END max_depth=5, max_features=auto, min_samples_split=5, n_estimators=100, oob_score=True; total time=   1.2s\n"
     ]
    },
    {
     "name": "stderr",
     "output_type": "stream",
     "text": [
      "C:\\Users\\jump1\\anaconda3\\envs\\PythonData\\lib\\site-packages\\sklearn\\model_selection\\_validation.py:593: DataConversionWarning: A column-vector y was passed when a 1d array was expected. Please change the shape of y to (n_samples,), for example using ravel().\n",
      "  estimator.fit(X_train, y_train, **fit_params)\n",
      "C:\\Users\\jump1\\anaconda3\\envs\\PythonData\\lib\\site-packages\\sklearn\\ensemble\\_forest.py:541: UserWarning: Some inputs do not have OOB scores. This probably means too few trees were used to compute any reliable oob estimates.\n",
      "  warn(\"Some inputs do not have OOB scores. \"\n",
      "C:\\Users\\jump1\\anaconda3\\envs\\PythonData\\lib\\site-packages\\sklearn\\ensemble\\_forest.py:546: RuntimeWarning: invalid value encountered in true_divide\n",
      "  predictions[k].sum(axis=1)[:, np.newaxis])\n",
      "C:\\Users\\jump1\\anaconda3\\envs\\PythonData\\lib\\site-packages\\sklearn\\model_selection\\_validation.py:593: DataConversionWarning: A column-vector y was passed when a 1d array was expected. Please change the shape of y to (n_samples,), for example using ravel().\n",
      "  estimator.fit(X_train, y_train, **fit_params)\n",
      "C:\\Users\\jump1\\anaconda3\\envs\\PythonData\\lib\\site-packages\\sklearn\\ensemble\\_forest.py:541: UserWarning: Some inputs do not have OOB scores. This probably means too few trees were used to compute any reliable oob estimates.\n",
      "  warn(\"Some inputs do not have OOB scores. \"\n",
      "C:\\Users\\jump1\\anaconda3\\envs\\PythonData\\lib\\site-packages\\sklearn\\ensemble\\_forest.py:546: RuntimeWarning: invalid value encountered in true_divide\n",
      "  predictions[k].sum(axis=1)[:, np.newaxis])\n"
     ]
    },
    {
     "name": "stdout",
     "output_type": "stream",
     "text": [
      "[CV 1/5] END max_depth=5, max_features=auto, min_samples_split=10, n_estimators=10, oob_score=True; total time=   0.1s\n",
      "[CV 2/5] END max_depth=5, max_features=auto, min_samples_split=10, n_estimators=10, oob_score=True; total time=   0.1s"
     ]
    },
    {
     "name": "stderr",
     "output_type": "stream",
     "text": [
      "C:\\Users\\jump1\\anaconda3\\envs\\PythonData\\lib\\site-packages\\sklearn\\model_selection\\_validation.py:593: DataConversionWarning: A column-vector y was passed when a 1d array was expected. Please change the shape of y to (n_samples,), for example using ravel().\n",
      "  estimator.fit(X_train, y_train, **fit_params)\n",
      "C:\\Users\\jump1\\anaconda3\\envs\\PythonData\\lib\\site-packages\\sklearn\\ensemble\\_forest.py:541: UserWarning: Some inputs do not have OOB scores. This probably means too few trees were used to compute any reliable oob estimates.\n",
      "  warn(\"Some inputs do not have OOB scores. \"\n"
     ]
    },
    {
     "name": "stdout",
     "output_type": "stream",
     "text": [
      "\n",
      "[CV 3/5] END max_depth=5, max_features=auto, min_samples_split=10, n_estimators=10, oob_score=True; total time=   0.1s"
     ]
    },
    {
     "name": "stderr",
     "output_type": "stream",
     "text": [
      "C:\\Users\\jump1\\anaconda3\\envs\\PythonData\\lib\\site-packages\\sklearn\\ensemble\\_forest.py:546: RuntimeWarning: invalid value encountered in true_divide\n",
      "  predictions[k].sum(axis=1)[:, np.newaxis])\n",
      "C:\\Users\\jump1\\anaconda3\\envs\\PythonData\\lib\\site-packages\\sklearn\\model_selection\\_validation.py:593: DataConversionWarning: A column-vector y was passed when a 1d array was expected. Please change the shape of y to (n_samples,), for example using ravel().\n",
      "  estimator.fit(X_train, y_train, **fit_params)\n",
      "C:\\Users\\jump1\\anaconda3\\envs\\PythonData\\lib\\site-packages\\sklearn\\ensemble\\_forest.py:541: UserWarning: Some inputs do not have OOB scores. This probably means too few trees were used to compute any reliable oob estimates.\n",
      "  warn(\"Some inputs do not have OOB scores. \"\n",
      "C:\\Users\\jump1\\anaconda3\\envs\\PythonData\\lib\\site-packages\\sklearn\\ensemble\\_forest.py:546: RuntimeWarning: invalid value encountered in true_divide\n",
      "  predictions[k].sum(axis=1)[:, np.newaxis])\n"
     ]
    },
    {
     "name": "stdout",
     "output_type": "stream",
     "text": [
      "\n",
      "[CV 4/5] END max_depth=5, max_features=auto, min_samples_split=10, n_estimators=10, oob_score=True; total time=   0.1s\n"
     ]
    },
    {
     "name": "stderr",
     "output_type": "stream",
     "text": [
      "C:\\Users\\jump1\\anaconda3\\envs\\PythonData\\lib\\site-packages\\sklearn\\model_selection\\_validation.py:593: DataConversionWarning: A column-vector y was passed when a 1d array was expected. Please change the shape of y to (n_samples,), for example using ravel().\n",
      "  estimator.fit(X_train, y_train, **fit_params)\n",
      "C:\\Users\\jump1\\anaconda3\\envs\\PythonData\\lib\\site-packages\\sklearn\\ensemble\\_forest.py:541: UserWarning: Some inputs do not have OOB scores. This probably means too few trees were used to compute any reliable oob estimates.\n",
      "  warn(\"Some inputs do not have OOB scores. \"\n",
      "C:\\Users\\jump1\\anaconda3\\envs\\PythonData\\lib\\site-packages\\sklearn\\ensemble\\_forest.py:546: RuntimeWarning: invalid value encountered in true_divide\n",
      "  predictions[k].sum(axis=1)[:, np.newaxis])\n"
     ]
    },
    {
     "name": "stdout",
     "output_type": "stream",
     "text": [
      "[CV 5/5] END max_depth=5, max_features=auto, min_samples_split=10, n_estimators=10, oob_score=True; total time=   0.1s\n"
     ]
    },
    {
     "name": "stderr",
     "output_type": "stream",
     "text": [
      "C:\\Users\\jump1\\anaconda3\\envs\\PythonData\\lib\\site-packages\\sklearn\\model_selection\\_validation.py:593: DataConversionWarning: A column-vector y was passed when a 1d array was expected. Please change the shape of y to (n_samples,), for example using ravel().\n",
      "  estimator.fit(X_train, y_train, **fit_params)\n",
      "C:\\Users\\jump1\\anaconda3\\envs\\PythonData\\lib\\site-packages\\sklearn\\ensemble\\_forest.py:541: UserWarning: Some inputs do not have OOB scores. This probably means too few trees were used to compute any reliable oob estimates.\n",
      "  warn(\"Some inputs do not have OOB scores. \"\n",
      "C:\\Users\\jump1\\anaconda3\\envs\\PythonData\\lib\\site-packages\\sklearn\\ensemble\\_forest.py:546: RuntimeWarning: invalid value encountered in true_divide\n",
      "  predictions[k].sum(axis=1)[:, np.newaxis])\n",
      "C:\\Users\\jump1\\anaconda3\\envs\\PythonData\\lib\\site-packages\\sklearn\\model_selection\\_validation.py:593: DataConversionWarning: A column-vector y was passed when a 1d array was expected. Please change the shape of y to (n_samples,), for example using ravel().\n",
      "  estimator.fit(X_train, y_train, **fit_params)\n"
     ]
    },
    {
     "name": "stdout",
     "output_type": "stream",
     "text": [
      "[CV 1/5] END max_depth=5, max_features=auto, min_samples_split=10, n_estimators=20, oob_score=True; total time=   0.2s\n",
      "[CV 2/5] END max_depth=5, max_features=auto, min_samples_split=10, n_estimators=20, oob_score=True; total time=   0.2s\n"
     ]
    },
    {
     "name": "stderr",
     "output_type": "stream",
     "text": [
      "C:\\Users\\jump1\\anaconda3\\envs\\PythonData\\lib\\site-packages\\sklearn\\model_selection\\_validation.py:593: DataConversionWarning: A column-vector y was passed when a 1d array was expected. Please change the shape of y to (n_samples,), for example using ravel().\n",
      "  estimator.fit(X_train, y_train, **fit_params)\n",
      "C:\\Users\\jump1\\anaconda3\\envs\\PythonData\\lib\\site-packages\\sklearn\\ensemble\\_forest.py:541: UserWarning: Some inputs do not have OOB scores. This probably means too few trees were used to compute any reliable oob estimates.\n",
      "  warn(\"Some inputs do not have OOB scores. \"\n",
      "C:\\Users\\jump1\\anaconda3\\envs\\PythonData\\lib\\site-packages\\sklearn\\ensemble\\_forest.py:546: RuntimeWarning: invalid value encountered in true_divide\n",
      "  predictions[k].sum(axis=1)[:, np.newaxis])\n",
      "C:\\Users\\jump1\\anaconda3\\envs\\PythonData\\lib\\site-packages\\sklearn\\model_selection\\_validation.py:593: DataConversionWarning: A column-vector y was passed when a 1d array was expected. Please change the shape of y to (n_samples,), for example using ravel().\n",
      "  estimator.fit(X_train, y_train, **fit_params)\n"
     ]
    },
    {
     "name": "stdout",
     "output_type": "stream",
     "text": [
      "[CV 3/5] END max_depth=5, max_features=auto, min_samples_split=10, n_estimators=20, oob_score=True; total time=   0.2s\n"
     ]
    },
    {
     "name": "stderr",
     "output_type": "stream",
     "text": [
      "C:\\Users\\jump1\\anaconda3\\envs\\PythonData\\lib\\site-packages\\sklearn\\ensemble\\_forest.py:541: UserWarning: Some inputs do not have OOB scores. This probably means too few trees were used to compute any reliable oob estimates.\n",
      "  warn(\"Some inputs do not have OOB scores. \"\n",
      "C:\\Users\\jump1\\anaconda3\\envs\\PythonData\\lib\\site-packages\\sklearn\\ensemble\\_forest.py:546: RuntimeWarning: invalid value encountered in true_divide\n",
      "  predictions[k].sum(axis=1)[:, np.newaxis])\n",
      "C:\\Users\\jump1\\anaconda3\\envs\\PythonData\\lib\\site-packages\\sklearn\\model_selection\\_validation.py:593: DataConversionWarning: A column-vector y was passed when a 1d array was expected. Please change the shape of y to (n_samples,), for example using ravel().\n",
      "  estimator.fit(X_train, y_train, **fit_params)\n"
     ]
    },
    {
     "name": "stdout",
     "output_type": "stream",
     "text": [
      "[CV 4/5] END max_depth=5, max_features=auto, min_samples_split=10, n_estimators=20, oob_score=True; total time=   0.2s\n",
      "[CV 5/5] END max_depth=5, max_features=auto, min_samples_split=10, n_estimators=20, oob_score=True; total time=   0.2s\n"
     ]
    },
    {
     "name": "stderr",
     "output_type": "stream",
     "text": [
      "C:\\Users\\jump1\\anaconda3\\envs\\PythonData\\lib\\site-packages\\sklearn\\model_selection\\_validation.py:593: DataConversionWarning: A column-vector y was passed when a 1d array was expected. Please change the shape of y to (n_samples,), for example using ravel().\n",
      "  estimator.fit(X_train, y_train, **fit_params)\n"
     ]
    },
    {
     "name": "stdout",
     "output_type": "stream",
     "text": [
      "[CV 1/5] END max_depth=5, max_features=auto, min_samples_split=10, n_estimators=50, oob_score=True; total time=   0.7s\n"
     ]
    },
    {
     "name": "stderr",
     "output_type": "stream",
     "text": [
      "C:\\Users\\jump1\\anaconda3\\envs\\PythonData\\lib\\site-packages\\sklearn\\model_selection\\_validation.py:593: DataConversionWarning: A column-vector y was passed when a 1d array was expected. Please change the shape of y to (n_samples,), for example using ravel().\n",
      "  estimator.fit(X_train, y_train, **fit_params)\n"
     ]
    },
    {
     "name": "stdout",
     "output_type": "stream",
     "text": [
      "[CV 2/5] END max_depth=5, max_features=auto, min_samples_split=10, n_estimators=50, oob_score=True; total time=   0.5s\n"
     ]
    },
    {
     "name": "stderr",
     "output_type": "stream",
     "text": [
      "C:\\Users\\jump1\\anaconda3\\envs\\PythonData\\lib\\site-packages\\sklearn\\model_selection\\_validation.py:593: DataConversionWarning: A column-vector y was passed when a 1d array was expected. Please change the shape of y to (n_samples,), for example using ravel().\n",
      "  estimator.fit(X_train, y_train, **fit_params)\n"
     ]
    },
    {
     "name": "stdout",
     "output_type": "stream",
     "text": [
      "[CV 3/5] END max_depth=5, max_features=auto, min_samples_split=10, n_estimators=50, oob_score=True; total time=   0.5s\n"
     ]
    },
    {
     "name": "stderr",
     "output_type": "stream",
     "text": [
      "C:\\Users\\jump1\\anaconda3\\envs\\PythonData\\lib\\site-packages\\sklearn\\model_selection\\_validation.py:593: DataConversionWarning: A column-vector y was passed when a 1d array was expected. Please change the shape of y to (n_samples,), for example using ravel().\n",
      "  estimator.fit(X_train, y_train, **fit_params)\n"
     ]
    },
    {
     "name": "stdout",
     "output_type": "stream",
     "text": [
      "[CV 4/5] END max_depth=5, max_features=auto, min_samples_split=10, n_estimators=50, oob_score=True; total time=   0.5s\n"
     ]
    },
    {
     "name": "stderr",
     "output_type": "stream",
     "text": [
      "C:\\Users\\jump1\\anaconda3\\envs\\PythonData\\lib\\site-packages\\sklearn\\model_selection\\_validation.py:593: DataConversionWarning: A column-vector y was passed when a 1d array was expected. Please change the shape of y to (n_samples,), for example using ravel().\n",
      "  estimator.fit(X_train, y_train, **fit_params)\n"
     ]
    },
    {
     "name": "stdout",
     "output_type": "stream",
     "text": [
      "[CV 5/5] END max_depth=5, max_features=auto, min_samples_split=10, n_estimators=50, oob_score=True; total time=   0.5s\n"
     ]
    },
    {
     "name": "stderr",
     "output_type": "stream",
     "text": [
      "C:\\Users\\jump1\\anaconda3\\envs\\PythonData\\lib\\site-packages\\sklearn\\model_selection\\_validation.py:593: DataConversionWarning: A column-vector y was passed when a 1d array was expected. Please change the shape of y to (n_samples,), for example using ravel().\n",
      "  estimator.fit(X_train, y_train, **fit_params)\n"
     ]
    },
    {
     "name": "stdout",
     "output_type": "stream",
     "text": [
      "[CV 1/5] END max_depth=5, max_features=auto, min_samples_split=10, n_estimators=100, oob_score=True; total time=   1.1s\n"
     ]
    },
    {
     "name": "stderr",
     "output_type": "stream",
     "text": [
      "C:\\Users\\jump1\\anaconda3\\envs\\PythonData\\lib\\site-packages\\sklearn\\model_selection\\_validation.py:593: DataConversionWarning: A column-vector y was passed when a 1d array was expected. Please change the shape of y to (n_samples,), for example using ravel().\n",
      "  estimator.fit(X_train, y_train, **fit_params)\n"
     ]
    },
    {
     "name": "stdout",
     "output_type": "stream",
     "text": [
      "[CV 2/5] END max_depth=5, max_features=auto, min_samples_split=10, n_estimators=100, oob_score=True; total time=   1.2s\n"
     ]
    },
    {
     "name": "stderr",
     "output_type": "stream",
     "text": [
      "C:\\Users\\jump1\\anaconda3\\envs\\PythonData\\lib\\site-packages\\sklearn\\model_selection\\_validation.py:593: DataConversionWarning: A column-vector y was passed when a 1d array was expected. Please change the shape of y to (n_samples,), for example using ravel().\n",
      "  estimator.fit(X_train, y_train, **fit_params)\n"
     ]
    },
    {
     "name": "stdout",
     "output_type": "stream",
     "text": [
      "[CV 3/5] END max_depth=5, max_features=auto, min_samples_split=10, n_estimators=100, oob_score=True; total time=   1.1s\n"
     ]
    },
    {
     "name": "stderr",
     "output_type": "stream",
     "text": [
      "C:\\Users\\jump1\\anaconda3\\envs\\PythonData\\lib\\site-packages\\sklearn\\model_selection\\_validation.py:593: DataConversionWarning: A column-vector y was passed when a 1d array was expected. Please change the shape of y to (n_samples,), for example using ravel().\n",
      "  estimator.fit(X_train, y_train, **fit_params)\n"
     ]
    },
    {
     "name": "stdout",
     "output_type": "stream",
     "text": [
      "[CV 4/5] END max_depth=5, max_features=auto, min_samples_split=10, n_estimators=100, oob_score=True; total time=   1.4s\n"
     ]
    },
    {
     "name": "stderr",
     "output_type": "stream",
     "text": [
      "C:\\Users\\jump1\\anaconda3\\envs\\PythonData\\lib\\site-packages\\sklearn\\model_selection\\_validation.py:593: DataConversionWarning: A column-vector y was passed when a 1d array was expected. Please change the shape of y to (n_samples,), for example using ravel().\n",
      "  estimator.fit(X_train, y_train, **fit_params)\n"
     ]
    },
    {
     "name": "stdout",
     "output_type": "stream",
     "text": [
      "[CV 5/5] END max_depth=5, max_features=auto, min_samples_split=10, n_estimators=100, oob_score=True; total time=   1.1s\n"
     ]
    },
    {
     "name": "stderr",
     "output_type": "stream",
     "text": [
      "C:\\Users\\jump1\\anaconda3\\envs\\PythonData\\lib\\site-packages\\sklearn\\model_selection\\_validation.py:593: DataConversionWarning: A column-vector y was passed when a 1d array was expected. Please change the shape of y to (n_samples,), for example using ravel().\n",
      "  estimator.fit(X_train, y_train, **fit_params)\n",
      "C:\\Users\\jump1\\anaconda3\\envs\\PythonData\\lib\\site-packages\\sklearn\\ensemble\\_forest.py:541: UserWarning: Some inputs do not have OOB scores. This probably means too few trees were used to compute any reliable oob estimates.\n",
      "  warn(\"Some inputs do not have OOB scores. \"\n",
      "C:\\Users\\jump1\\anaconda3\\envs\\PythonData\\lib\\site-packages\\sklearn\\ensemble\\_forest.py:546: RuntimeWarning: invalid value encountered in true_divide\n",
      "  predictions[k].sum(axis=1)[:, np.newaxis])\n",
      "C:\\Users\\jump1\\anaconda3\\envs\\PythonData\\lib\\site-packages\\sklearn\\model_selection\\_validation.py:593: DataConversionWarning: A column-vector y was passed when a 1d array was expected. Please change the shape of y to (n_samples,), for example using ravel().\n",
      "  estimator.fit(X_train, y_train, **fit_params)\n"
     ]
    },
    {
     "name": "stdout",
     "output_type": "stream",
     "text": [
      "[CV 1/5] END max_depth=10, max_features=auto, min_samples_split=2, n_estimators=10, oob_score=True; total time=   0.1s\n"
     ]
    },
    {
     "name": "stderr",
     "output_type": "stream",
     "text": [
      "C:\\Users\\jump1\\anaconda3\\envs\\PythonData\\lib\\site-packages\\sklearn\\ensemble\\_forest.py:541: UserWarning: Some inputs do not have OOB scores. This probably means too few trees were used to compute any reliable oob estimates.\n",
      "  warn(\"Some inputs do not have OOB scores. \"\n",
      "C:\\Users\\jump1\\anaconda3\\envs\\PythonData\\lib\\site-packages\\sklearn\\ensemble\\_forest.py:546: RuntimeWarning: invalid value encountered in true_divide\n",
      "  predictions[k].sum(axis=1)[:, np.newaxis])\n",
      "C:\\Users\\jump1\\anaconda3\\envs\\PythonData\\lib\\site-packages\\sklearn\\model_selection\\_validation.py:593: DataConversionWarning: A column-vector y was passed when a 1d array was expected. Please change the shape of y to (n_samples,), for example using ravel().\n",
      "  estimator.fit(X_train, y_train, **fit_params)\n",
      "C:\\Users\\jump1\\anaconda3\\envs\\PythonData\\lib\\site-packages\\sklearn\\ensemble\\_forest.py:541: UserWarning: Some inputs do not have OOB scores. This probably means too few trees were used to compute any reliable oob estimates.\n",
      "  warn(\"Some inputs do not have OOB scores. \"\n"
     ]
    },
    {
     "name": "stdout",
     "output_type": "stream",
     "text": [
      "[CV 2/5] END max_depth=10, max_features=auto, min_samples_split=2, n_estimators=10, oob_score=True; total time=   0.1s\n"
     ]
    },
    {
     "name": "stderr",
     "output_type": "stream",
     "text": [
      "C:\\Users\\jump1\\anaconda3\\envs\\PythonData\\lib\\site-packages\\sklearn\\ensemble\\_forest.py:546: RuntimeWarning: invalid value encountered in true_divide\n",
      "  predictions[k].sum(axis=1)[:, np.newaxis])\n",
      "C:\\Users\\jump1\\anaconda3\\envs\\PythonData\\lib\\site-packages\\sklearn\\model_selection\\_validation.py:593: DataConversionWarning: A column-vector y was passed when a 1d array was expected. Please change the shape of y to (n_samples,), for example using ravel().\n",
      "  estimator.fit(X_train, y_train, **fit_params)\n",
      "C:\\Users\\jump1\\anaconda3\\envs\\PythonData\\lib\\site-packages\\sklearn\\ensemble\\_forest.py:541: UserWarning: Some inputs do not have OOB scores. This probably means too few trees were used to compute any reliable oob estimates.\n",
      "  warn(\"Some inputs do not have OOB scores. \"\n"
     ]
    },
    {
     "name": "stdout",
     "output_type": "stream",
     "text": [
      "[CV 3/5] END max_depth=10, max_features=auto, min_samples_split=2, n_estimators=10, oob_score=True; total time=   0.1s\n"
     ]
    },
    {
     "name": "stderr",
     "output_type": "stream",
     "text": [
      "C:\\Users\\jump1\\anaconda3\\envs\\PythonData\\lib\\site-packages\\sklearn\\ensemble\\_forest.py:546: RuntimeWarning: invalid value encountered in true_divide\n",
      "  predictions[k].sum(axis=1)[:, np.newaxis])\n",
      "C:\\Users\\jump1\\anaconda3\\envs\\PythonData\\lib\\site-packages\\sklearn\\model_selection\\_validation.py:593: DataConversionWarning: A column-vector y was passed when a 1d array was expected. Please change the shape of y to (n_samples,), for example using ravel().\n",
      "  estimator.fit(X_train, y_train, **fit_params)\n"
     ]
    },
    {
     "name": "stdout",
     "output_type": "stream",
     "text": [
      "[CV 4/5] END max_depth=10, max_features=auto, min_samples_split=2, n_estimators=10, oob_score=True; total time=   0.1s\n"
     ]
    },
    {
     "name": "stderr",
     "output_type": "stream",
     "text": [
      "C:\\Users\\jump1\\anaconda3\\envs\\PythonData\\lib\\site-packages\\sklearn\\ensemble\\_forest.py:541: UserWarning: Some inputs do not have OOB scores. This probably means too few trees were used to compute any reliable oob estimates.\n",
      "  warn(\"Some inputs do not have OOB scores. \"\n",
      "C:\\Users\\jump1\\anaconda3\\envs\\PythonData\\lib\\site-packages\\sklearn\\ensemble\\_forest.py:546: RuntimeWarning: invalid value encountered in true_divide\n",
      "  predictions[k].sum(axis=1)[:, np.newaxis])\n",
      "C:\\Users\\jump1\\anaconda3\\envs\\PythonData\\lib\\site-packages\\sklearn\\model_selection\\_validation.py:593: DataConversionWarning: A column-vector y was passed when a 1d array was expected. Please change the shape of y to (n_samples,), for example using ravel().\n",
      "  estimator.fit(X_train, y_train, **fit_params)\n"
     ]
    },
    {
     "name": "stdout",
     "output_type": "stream",
     "text": [
      "[CV 5/5] END max_depth=10, max_features=auto, min_samples_split=2, n_estimators=10, oob_score=True; total time=   0.1s\n"
     ]
    },
    {
     "name": "stderr",
     "output_type": "stream",
     "text": [
      "C:\\Users\\jump1\\anaconda3\\envs\\PythonData\\lib\\site-packages\\sklearn\\ensemble\\_forest.py:541: UserWarning: Some inputs do not have OOB scores. This probably means too few trees were used to compute any reliable oob estimates.\n",
      "  warn(\"Some inputs do not have OOB scores. \"\n",
      "C:\\Users\\jump1\\anaconda3\\envs\\PythonData\\lib\\site-packages\\sklearn\\ensemble\\_forest.py:546: RuntimeWarning: invalid value encountered in true_divide\n",
      "  predictions[k].sum(axis=1)[:, np.newaxis])\n",
      "C:\\Users\\jump1\\anaconda3\\envs\\PythonData\\lib\\site-packages\\sklearn\\model_selection\\_validation.py:593: DataConversionWarning: A column-vector y was passed when a 1d array was expected. Please change the shape of y to (n_samples,), for example using ravel().\n",
      "  estimator.fit(X_train, y_train, **fit_params)\n"
     ]
    },
    {
     "name": "stdout",
     "output_type": "stream",
     "text": [
      "[CV 1/5] END max_depth=10, max_features=auto, min_samples_split=2, n_estimators=20, oob_score=True; total time=   0.3s\n",
      "[CV 2/5] END max_depth=10, max_features=auto, min_samples_split=2, n_estimators=20, oob_score=True; total time=   0.5s\n"
     ]
    },
    {
     "name": "stderr",
     "output_type": "stream",
     "text": [
      "C:\\Users\\jump1\\anaconda3\\envs\\PythonData\\lib\\site-packages\\sklearn\\model_selection\\_validation.py:593: DataConversionWarning: A column-vector y was passed when a 1d array was expected. Please change the shape of y to (n_samples,), for example using ravel().\n",
      "  estimator.fit(X_train, y_train, **fit_params)\n"
     ]
    },
    {
     "name": "stdout",
     "output_type": "stream",
     "text": [
      "[CV 3/5] END max_depth=10, max_features=auto, min_samples_split=2, n_estimators=20, oob_score=True; total time=   0.3s\n"
     ]
    },
    {
     "name": "stderr",
     "output_type": "stream",
     "text": [
      "C:\\Users\\jump1\\anaconda3\\envs\\PythonData\\lib\\site-packages\\sklearn\\model_selection\\_validation.py:593: DataConversionWarning: A column-vector y was passed when a 1d array was expected. Please change the shape of y to (n_samples,), for example using ravel().\n",
      "  estimator.fit(X_train, y_train, **fit_params)\n"
     ]
    },
    {
     "name": "stdout",
     "output_type": "stream",
     "text": [
      "[CV 4/5] END max_depth=10, max_features=auto, min_samples_split=2, n_estimators=20, oob_score=True; total time=   0.8s\n"
     ]
    },
    {
     "name": "stderr",
     "output_type": "stream",
     "text": [
      "C:\\Users\\jump1\\anaconda3\\envs\\PythonData\\lib\\site-packages\\sklearn\\model_selection\\_validation.py:593: DataConversionWarning: A column-vector y was passed when a 1d array was expected. Please change the shape of y to (n_samples,), for example using ravel().\n",
      "  estimator.fit(X_train, y_train, **fit_params)\n",
      "C:\\Users\\jump1\\anaconda3\\envs\\PythonData\\lib\\site-packages\\sklearn\\ensemble\\_forest.py:541: UserWarning: Some inputs do not have OOB scores. This probably means too few trees were used to compute any reliable oob estimates.\n",
      "  warn(\"Some inputs do not have OOB scores. \"\n",
      "C:\\Users\\jump1\\anaconda3\\envs\\PythonData\\lib\\site-packages\\sklearn\\ensemble\\_forest.py:546: RuntimeWarning: invalid value encountered in true_divide\n",
      "  predictions[k].sum(axis=1)[:, np.newaxis])\n",
      "C:\\Users\\jump1\\anaconda3\\envs\\PythonData\\lib\\site-packages\\sklearn\\model_selection\\_validation.py:593: DataConversionWarning: A column-vector y was passed when a 1d array was expected. Please change the shape of y to (n_samples,), for example using ravel().\n",
      "  estimator.fit(X_train, y_train, **fit_params)\n"
     ]
    },
    {
     "name": "stdout",
     "output_type": "stream",
     "text": [
      "[CV 5/5] END max_depth=10, max_features=auto, min_samples_split=2, n_estimators=20, oob_score=True; total time=   0.3s\n",
      "[CV 1/5] END max_depth=10, max_features=auto, min_samples_split=2, n_estimators=50, oob_score=True; total time=   0.9s\n"
     ]
    },
    {
     "name": "stderr",
     "output_type": "stream",
     "text": [
      "C:\\Users\\jump1\\anaconda3\\envs\\PythonData\\lib\\site-packages\\sklearn\\model_selection\\_validation.py:593: DataConversionWarning: A column-vector y was passed when a 1d array was expected. Please change the shape of y to (n_samples,), for example using ravel().\n",
      "  estimator.fit(X_train, y_train, **fit_params)\n"
     ]
    },
    {
     "name": "stdout",
     "output_type": "stream",
     "text": [
      "[CV 2/5] END max_depth=10, max_features=auto, min_samples_split=2, n_estimators=50, oob_score=True; total time=   0.8s\n"
     ]
    },
    {
     "name": "stderr",
     "output_type": "stream",
     "text": [
      "C:\\Users\\jump1\\anaconda3\\envs\\PythonData\\lib\\site-packages\\sklearn\\model_selection\\_validation.py:593: DataConversionWarning: A column-vector y was passed when a 1d array was expected. Please change the shape of y to (n_samples,), for example using ravel().\n",
      "  estimator.fit(X_train, y_train, **fit_params)\n"
     ]
    },
    {
     "name": "stdout",
     "output_type": "stream",
     "text": [
      "[CV 3/5] END max_depth=10, max_features=auto, min_samples_split=2, n_estimators=50, oob_score=True; total time=   0.8s\n"
     ]
    },
    {
     "name": "stderr",
     "output_type": "stream",
     "text": [
      "C:\\Users\\jump1\\anaconda3\\envs\\PythonData\\lib\\site-packages\\sklearn\\model_selection\\_validation.py:593: DataConversionWarning: A column-vector y was passed when a 1d array was expected. Please change the shape of y to (n_samples,), for example using ravel().\n",
      "  estimator.fit(X_train, y_train, **fit_params)\n"
     ]
    },
    {
     "name": "stdout",
     "output_type": "stream",
     "text": [
      "[CV 4/5] END max_depth=10, max_features=auto, min_samples_split=2, n_estimators=50, oob_score=True; total time=   0.8s\n"
     ]
    },
    {
     "name": "stderr",
     "output_type": "stream",
     "text": [
      "C:\\Users\\jump1\\anaconda3\\envs\\PythonData\\lib\\site-packages\\sklearn\\model_selection\\_validation.py:593: DataConversionWarning: A column-vector y was passed when a 1d array was expected. Please change the shape of y to (n_samples,), for example using ravel().\n",
      "  estimator.fit(X_train, y_train, **fit_params)\n"
     ]
    },
    {
     "name": "stdout",
     "output_type": "stream",
     "text": [
      "[CV 5/5] END max_depth=10, max_features=auto, min_samples_split=2, n_estimators=50, oob_score=True; total time=   0.8s\n"
     ]
    },
    {
     "name": "stderr",
     "output_type": "stream",
     "text": [
      "C:\\Users\\jump1\\anaconda3\\envs\\PythonData\\lib\\site-packages\\sklearn\\model_selection\\_validation.py:593: DataConversionWarning: A column-vector y was passed when a 1d array was expected. Please change the shape of y to (n_samples,), for example using ravel().\n",
      "  estimator.fit(X_train, y_train, **fit_params)\n"
     ]
    },
    {
     "name": "stdout",
     "output_type": "stream",
     "text": [
      "[CV 1/5] END max_depth=10, max_features=auto, min_samples_split=2, n_estimators=100, oob_score=True; total time=   1.9s\n"
     ]
    },
    {
     "name": "stderr",
     "output_type": "stream",
     "text": [
      "C:\\Users\\jump1\\anaconda3\\envs\\PythonData\\lib\\site-packages\\sklearn\\model_selection\\_validation.py:593: DataConversionWarning: A column-vector y was passed when a 1d array was expected. Please change the shape of y to (n_samples,), for example using ravel().\n",
      "  estimator.fit(X_train, y_train, **fit_params)\n"
     ]
    },
    {
     "name": "stdout",
     "output_type": "stream",
     "text": [
      "[CV 2/5] END max_depth=10, max_features=auto, min_samples_split=2, n_estimators=100, oob_score=True; total time=   1.7s\n"
     ]
    },
    {
     "name": "stderr",
     "output_type": "stream",
     "text": [
      "C:\\Users\\jump1\\anaconda3\\envs\\PythonData\\lib\\site-packages\\sklearn\\model_selection\\_validation.py:593: DataConversionWarning: A column-vector y was passed when a 1d array was expected. Please change the shape of y to (n_samples,), for example using ravel().\n",
      "  estimator.fit(X_train, y_train, **fit_params)\n"
     ]
    },
    {
     "name": "stdout",
     "output_type": "stream",
     "text": [
      "[CV 3/5] END max_depth=10, max_features=auto, min_samples_split=2, n_estimators=100, oob_score=True; total time=   1.8s\n"
     ]
    },
    {
     "name": "stderr",
     "output_type": "stream",
     "text": [
      "C:\\Users\\jump1\\anaconda3\\envs\\PythonData\\lib\\site-packages\\sklearn\\model_selection\\_validation.py:593: DataConversionWarning: A column-vector y was passed when a 1d array was expected. Please change the shape of y to (n_samples,), for example using ravel().\n",
      "  estimator.fit(X_train, y_train, **fit_params)\n"
     ]
    },
    {
     "name": "stdout",
     "output_type": "stream",
     "text": [
      "[CV 4/5] END max_depth=10, max_features=auto, min_samples_split=2, n_estimators=100, oob_score=True; total time=   1.9s\n"
     ]
    },
    {
     "name": "stderr",
     "output_type": "stream",
     "text": [
      "C:\\Users\\jump1\\anaconda3\\envs\\PythonData\\lib\\site-packages\\sklearn\\model_selection\\_validation.py:593: DataConversionWarning: A column-vector y was passed when a 1d array was expected. Please change the shape of y to (n_samples,), for example using ravel().\n",
      "  estimator.fit(X_train, y_train, **fit_params)\n"
     ]
    },
    {
     "name": "stdout",
     "output_type": "stream",
     "text": [
      "[CV 5/5] END max_depth=10, max_features=auto, min_samples_split=2, n_estimators=100, oob_score=True; total time=   1.9s\n"
     ]
    },
    {
     "name": "stderr",
     "output_type": "stream",
     "text": [
      "C:\\Users\\jump1\\anaconda3\\envs\\PythonData\\lib\\site-packages\\sklearn\\model_selection\\_validation.py:593: DataConversionWarning: A column-vector y was passed when a 1d array was expected. Please change the shape of y to (n_samples,), for example using ravel().\n",
      "  estimator.fit(X_train, y_train, **fit_params)\n",
      "C:\\Users\\jump1\\anaconda3\\envs\\PythonData\\lib\\site-packages\\sklearn\\ensemble\\_forest.py:541: UserWarning: Some inputs do not have OOB scores. This probably means too few trees were used to compute any reliable oob estimates.\n",
      "  warn(\"Some inputs do not have OOB scores. \"\n",
      "C:\\Users\\jump1\\anaconda3\\envs\\PythonData\\lib\\site-packages\\sklearn\\ensemble\\_forest.py:546: RuntimeWarning: invalid value encountered in true_divide\n",
      "  predictions[k].sum(axis=1)[:, np.newaxis])\n"
     ]
    },
    {
     "name": "stdout",
     "output_type": "stream",
     "text": [
      "[CV 1/5] END max_depth=10, max_features=auto, min_samples_split=5, n_estimators=10, oob_score=True; total time=   0.1s\n"
     ]
    },
    {
     "name": "stderr",
     "output_type": "stream",
     "text": [
      "C:\\Users\\jump1\\anaconda3\\envs\\PythonData\\lib\\site-packages\\sklearn\\model_selection\\_validation.py:593: DataConversionWarning: A column-vector y was passed when a 1d array was expected. Please change the shape of y to (n_samples,), for example using ravel().\n",
      "  estimator.fit(X_train, y_train, **fit_params)\n",
      "C:\\Users\\jump1\\anaconda3\\envs\\PythonData\\lib\\site-packages\\sklearn\\ensemble\\_forest.py:541: UserWarning: Some inputs do not have OOB scores. This probably means too few trees were used to compute any reliable oob estimates.\n",
      "  warn(\"Some inputs do not have OOB scores. \"\n",
      "C:\\Users\\jump1\\anaconda3\\envs\\PythonData\\lib\\site-packages\\sklearn\\ensemble\\_forest.py:546: RuntimeWarning: invalid value encountered in true_divide\n",
      "  predictions[k].sum(axis=1)[:, np.newaxis])\n",
      "C:\\Users\\jump1\\anaconda3\\envs\\PythonData\\lib\\site-packages\\sklearn\\model_selection\\_validation.py:593: DataConversionWarning: A column-vector y was passed when a 1d array was expected. Please change the shape of y to (n_samples,), for example using ravel().\n",
      "  estimator.fit(X_train, y_train, **fit_params)\n"
     ]
    },
    {
     "name": "stdout",
     "output_type": "stream",
     "text": [
      "[CV 2/5] END max_depth=10, max_features=auto, min_samples_split=5, n_estimators=10, oob_score=True; total time=   0.2s\n"
     ]
    },
    {
     "name": "stderr",
     "output_type": "stream",
     "text": [
      "C:\\Users\\jump1\\anaconda3\\envs\\PythonData\\lib\\site-packages\\sklearn\\ensemble\\_forest.py:541: UserWarning: Some inputs do not have OOB scores. This probably means too few trees were used to compute any reliable oob estimates.\n",
      "  warn(\"Some inputs do not have OOB scores. \"\n",
      "C:\\Users\\jump1\\anaconda3\\envs\\PythonData\\lib\\site-packages\\sklearn\\ensemble\\_forest.py:546: RuntimeWarning: invalid value encountered in true_divide\n",
      "  predictions[k].sum(axis=1)[:, np.newaxis])\n",
      "C:\\Users\\jump1\\anaconda3\\envs\\PythonData\\lib\\site-packages\\sklearn\\model_selection\\_validation.py:593: DataConversionWarning: A column-vector y was passed when a 1d array was expected. Please change the shape of y to (n_samples,), for example using ravel().\n",
      "  estimator.fit(X_train, y_train, **fit_params)\n"
     ]
    },
    {
     "name": "stdout",
     "output_type": "stream",
     "text": [
      "[CV 3/5] END max_depth=10, max_features=auto, min_samples_split=5, n_estimators=10, oob_score=True; total time=   0.2s\n"
     ]
    },
    {
     "name": "stderr",
     "output_type": "stream",
     "text": [
      "C:\\Users\\jump1\\anaconda3\\envs\\PythonData\\lib\\site-packages\\sklearn\\ensemble\\_forest.py:541: UserWarning: Some inputs do not have OOB scores. This probably means too few trees were used to compute any reliable oob estimates.\n",
      "  warn(\"Some inputs do not have OOB scores. \"\n",
      "C:\\Users\\jump1\\anaconda3\\envs\\PythonData\\lib\\site-packages\\sklearn\\ensemble\\_forest.py:546: RuntimeWarning: invalid value encountered in true_divide\n",
      "  predictions[k].sum(axis=1)[:, np.newaxis])\n",
      "C:\\Users\\jump1\\anaconda3\\envs\\PythonData\\lib\\site-packages\\sklearn\\model_selection\\_validation.py:593: DataConversionWarning: A column-vector y was passed when a 1d array was expected. Please change the shape of y to (n_samples,), for example using ravel().\n",
      "  estimator.fit(X_train, y_train, **fit_params)\n"
     ]
    },
    {
     "name": "stdout",
     "output_type": "stream",
     "text": [
      "[CV 4/5] END max_depth=10, max_features=auto, min_samples_split=5, n_estimators=10, oob_score=True; total time=   0.1s\n"
     ]
    },
    {
     "name": "stderr",
     "output_type": "stream",
     "text": [
      "C:\\Users\\jump1\\anaconda3\\envs\\PythonData\\lib\\site-packages\\sklearn\\ensemble\\_forest.py:541: UserWarning: Some inputs do not have OOB scores. This probably means too few trees were used to compute any reliable oob estimates.\n",
      "  warn(\"Some inputs do not have OOB scores. \"\n",
      "C:\\Users\\jump1\\anaconda3\\envs\\PythonData\\lib\\site-packages\\sklearn\\ensemble\\_forest.py:546: RuntimeWarning: invalid value encountered in true_divide\n",
      "  predictions[k].sum(axis=1)[:, np.newaxis])\n",
      "C:\\Users\\jump1\\anaconda3\\envs\\PythonData\\lib\\site-packages\\sklearn\\model_selection\\_validation.py:593: DataConversionWarning: A column-vector y was passed when a 1d array was expected. Please change the shape of y to (n_samples,), for example using ravel().\n",
      "  estimator.fit(X_train, y_train, **fit_params)\n"
     ]
    },
    {
     "name": "stdout",
     "output_type": "stream",
     "text": [
      "[CV 5/5] END max_depth=10, max_features=auto, min_samples_split=5, n_estimators=10, oob_score=True; total time=   0.1s\n",
      "[CV 1/5] END max_depth=10, max_features=auto, min_samples_split=5, n_estimators=20, oob_score=True; total time=   0.3s\n"
     ]
    },
    {
     "name": "stderr",
     "output_type": "stream",
     "text": [
      "C:\\Users\\jump1\\anaconda3\\envs\\PythonData\\lib\\site-packages\\sklearn\\model_selection\\_validation.py:593: DataConversionWarning: A column-vector y was passed when a 1d array was expected. Please change the shape of y to (n_samples,), for example using ravel().\n",
      "  estimator.fit(X_train, y_train, **fit_params)\n",
      "C:\\Users\\jump1\\anaconda3\\envs\\PythonData\\lib\\site-packages\\sklearn\\ensemble\\_forest.py:541: UserWarning: Some inputs do not have OOB scores. This probably means too few trees were used to compute any reliable oob estimates.\n",
      "  warn(\"Some inputs do not have OOB scores. \"\n",
      "C:\\Users\\jump1\\anaconda3\\envs\\PythonData\\lib\\site-packages\\sklearn\\ensemble\\_forest.py:546: RuntimeWarning: invalid value encountered in true_divide\n",
      "  predictions[k].sum(axis=1)[:, np.newaxis])\n",
      "C:\\Users\\jump1\\anaconda3\\envs\\PythonData\\lib\\site-packages\\sklearn\\model_selection\\_validation.py:593: DataConversionWarning: A column-vector y was passed when a 1d array was expected. Please change the shape of y to (n_samples,), for example using ravel().\n",
      "  estimator.fit(X_train, y_train, **fit_params)\n"
     ]
    },
    {
     "name": "stdout",
     "output_type": "stream",
     "text": [
      "[CV 2/5] END max_depth=10, max_features=auto, min_samples_split=5, n_estimators=20, oob_score=True; total time=   0.3s\n",
      "[CV 3/5] END max_depth=10, max_features=auto, min_samples_split=5, n_estimators=20, oob_score=True; total time=   0.3s\n"
     ]
    },
    {
     "name": "stderr",
     "output_type": "stream",
     "text": [
      "C:\\Users\\jump1\\anaconda3\\envs\\PythonData\\lib\\site-packages\\sklearn\\model_selection\\_validation.py:593: DataConversionWarning: A column-vector y was passed when a 1d array was expected. Please change the shape of y to (n_samples,), for example using ravel().\n",
      "  estimator.fit(X_train, y_train, **fit_params)\n"
     ]
    },
    {
     "name": "stdout",
     "output_type": "stream",
     "text": [
      "[CV 4/5] END max_depth=10, max_features=auto, min_samples_split=5, n_estimators=20, oob_score=True; total time=   0.3s\n"
     ]
    },
    {
     "name": "stderr",
     "output_type": "stream",
     "text": [
      "C:\\Users\\jump1\\anaconda3\\envs\\PythonData\\lib\\site-packages\\sklearn\\model_selection\\_validation.py:593: DataConversionWarning: A column-vector y was passed when a 1d array was expected. Please change the shape of y to (n_samples,), for example using ravel().\n",
      "  estimator.fit(X_train, y_train, **fit_params)\n"
     ]
    },
    {
     "name": "stdout",
     "output_type": "stream",
     "text": [
      "[CV 5/5] END max_depth=10, max_features=auto, min_samples_split=5, n_estimators=20, oob_score=True; total time=   0.3s\n"
     ]
    },
    {
     "name": "stderr",
     "output_type": "stream",
     "text": [
      "C:\\Users\\jump1\\anaconda3\\envs\\PythonData\\lib\\site-packages\\sklearn\\model_selection\\_validation.py:593: DataConversionWarning: A column-vector y was passed when a 1d array was expected. Please change the shape of y to (n_samples,), for example using ravel().\n",
      "  estimator.fit(X_train, y_train, **fit_params)\n"
     ]
    },
    {
     "name": "stdout",
     "output_type": "stream",
     "text": [
      "[CV 1/5] END max_depth=10, max_features=auto, min_samples_split=5, n_estimators=50, oob_score=True; total time=   0.8s\n"
     ]
    },
    {
     "name": "stderr",
     "output_type": "stream",
     "text": [
      "C:\\Users\\jump1\\anaconda3\\envs\\PythonData\\lib\\site-packages\\sklearn\\model_selection\\_validation.py:593: DataConversionWarning: A column-vector y was passed when a 1d array was expected. Please change the shape of y to (n_samples,), for example using ravel().\n",
      "  estimator.fit(X_train, y_train, **fit_params)\n"
     ]
    },
    {
     "name": "stdout",
     "output_type": "stream",
     "text": [
      "[CV 2/5] END max_depth=10, max_features=auto, min_samples_split=5, n_estimators=50, oob_score=True; total time=   0.9s\n"
     ]
    },
    {
     "name": "stderr",
     "output_type": "stream",
     "text": [
      "C:\\Users\\jump1\\anaconda3\\envs\\PythonData\\lib\\site-packages\\sklearn\\model_selection\\_validation.py:593: DataConversionWarning: A column-vector y was passed when a 1d array was expected. Please change the shape of y to (n_samples,), for example using ravel().\n",
      "  estimator.fit(X_train, y_train, **fit_params)\n"
     ]
    },
    {
     "name": "stdout",
     "output_type": "stream",
     "text": [
      "[CV 3/5] END max_depth=10, max_features=auto, min_samples_split=5, n_estimators=50, oob_score=True; total time=   0.9s\n"
     ]
    },
    {
     "name": "stderr",
     "output_type": "stream",
     "text": [
      "C:\\Users\\jump1\\anaconda3\\envs\\PythonData\\lib\\site-packages\\sklearn\\model_selection\\_validation.py:593: DataConversionWarning: A column-vector y was passed when a 1d array was expected. Please change the shape of y to (n_samples,), for example using ravel().\n",
      "  estimator.fit(X_train, y_train, **fit_params)\n"
     ]
    },
    {
     "name": "stdout",
     "output_type": "stream",
     "text": [
      "[CV 4/5] END max_depth=10, max_features=auto, min_samples_split=5, n_estimators=50, oob_score=True; total time=   0.8s\n"
     ]
    },
    {
     "name": "stderr",
     "output_type": "stream",
     "text": [
      "C:\\Users\\jump1\\anaconda3\\envs\\PythonData\\lib\\site-packages\\sklearn\\model_selection\\_validation.py:593: DataConversionWarning: A column-vector y was passed when a 1d array was expected. Please change the shape of y to (n_samples,), for example using ravel().\n",
      "  estimator.fit(X_train, y_train, **fit_params)\n"
     ]
    },
    {
     "name": "stdout",
     "output_type": "stream",
     "text": [
      "[CV 5/5] END max_depth=10, max_features=auto, min_samples_split=5, n_estimators=50, oob_score=True; total time=   0.8s\n"
     ]
    },
    {
     "name": "stderr",
     "output_type": "stream",
     "text": [
      "C:\\Users\\jump1\\anaconda3\\envs\\PythonData\\lib\\site-packages\\sklearn\\model_selection\\_validation.py:593: DataConversionWarning: A column-vector y was passed when a 1d array was expected. Please change the shape of y to (n_samples,), for example using ravel().\n",
      "  estimator.fit(X_train, y_train, **fit_params)\n"
     ]
    },
    {
     "name": "stdout",
     "output_type": "stream",
     "text": [
      "[CV 1/5] END max_depth=10, max_features=auto, min_samples_split=5, n_estimators=100, oob_score=True; total time=   1.7s\n"
     ]
    },
    {
     "name": "stderr",
     "output_type": "stream",
     "text": [
      "C:\\Users\\jump1\\anaconda3\\envs\\PythonData\\lib\\site-packages\\sklearn\\model_selection\\_validation.py:593: DataConversionWarning: A column-vector y was passed when a 1d array was expected. Please change the shape of y to (n_samples,), for example using ravel().\n",
      "  estimator.fit(X_train, y_train, **fit_params)\n"
     ]
    },
    {
     "name": "stdout",
     "output_type": "stream",
     "text": [
      "[CV 2/5] END max_depth=10, max_features=auto, min_samples_split=5, n_estimators=100, oob_score=True; total time=   1.7s\n"
     ]
    },
    {
     "name": "stderr",
     "output_type": "stream",
     "text": [
      "C:\\Users\\jump1\\anaconda3\\envs\\PythonData\\lib\\site-packages\\sklearn\\model_selection\\_validation.py:593: DataConversionWarning: A column-vector y was passed when a 1d array was expected. Please change the shape of y to (n_samples,), for example using ravel().\n",
      "  estimator.fit(X_train, y_train, **fit_params)\n"
     ]
    },
    {
     "name": "stdout",
     "output_type": "stream",
     "text": [
      "[CV 3/5] END max_depth=10, max_features=auto, min_samples_split=5, n_estimators=100, oob_score=True; total time=   1.8s\n"
     ]
    },
    {
     "name": "stderr",
     "output_type": "stream",
     "text": [
      "C:\\Users\\jump1\\anaconda3\\envs\\PythonData\\lib\\site-packages\\sklearn\\model_selection\\_validation.py:593: DataConversionWarning: A column-vector y was passed when a 1d array was expected. Please change the shape of y to (n_samples,), for example using ravel().\n",
      "  estimator.fit(X_train, y_train, **fit_params)\n"
     ]
    },
    {
     "name": "stdout",
     "output_type": "stream",
     "text": [
      "[CV 4/5] END max_depth=10, max_features=auto, min_samples_split=5, n_estimators=100, oob_score=True; total time=   1.9s\n"
     ]
    },
    {
     "name": "stderr",
     "output_type": "stream",
     "text": [
      "C:\\Users\\jump1\\anaconda3\\envs\\PythonData\\lib\\site-packages\\sklearn\\model_selection\\_validation.py:593: DataConversionWarning: A column-vector y was passed when a 1d array was expected. Please change the shape of y to (n_samples,), for example using ravel().\n",
      "  estimator.fit(X_train, y_train, **fit_params)\n"
     ]
    },
    {
     "name": "stdout",
     "output_type": "stream",
     "text": [
      "[CV 5/5] END max_depth=10, max_features=auto, min_samples_split=5, n_estimators=100, oob_score=True; total time=   1.7s\n"
     ]
    },
    {
     "name": "stderr",
     "output_type": "stream",
     "text": [
      "C:\\Users\\jump1\\anaconda3\\envs\\PythonData\\lib\\site-packages\\sklearn\\model_selection\\_validation.py:593: DataConversionWarning: A column-vector y was passed when a 1d array was expected. Please change the shape of y to (n_samples,), for example using ravel().\n",
      "  estimator.fit(X_train, y_train, **fit_params)\n",
      "C:\\Users\\jump1\\anaconda3\\envs\\PythonData\\lib\\site-packages\\sklearn\\ensemble\\_forest.py:541: UserWarning: Some inputs do not have OOB scores. This probably means too few trees were used to compute any reliable oob estimates.\n",
      "  warn(\"Some inputs do not have OOB scores. \"\n",
      "C:\\Users\\jump1\\anaconda3\\envs\\PythonData\\lib\\site-packages\\sklearn\\ensemble\\_forest.py:546: RuntimeWarning: invalid value encountered in true_divide\n",
      "  predictions[k].sum(axis=1)[:, np.newaxis])\n"
     ]
    },
    {
     "name": "stdout",
     "output_type": "stream",
     "text": [
      "[CV 1/5] END max_depth=10, max_features=auto, min_samples_split=10, n_estimators=10, oob_score=True; total time=   0.1s\n"
     ]
    },
    {
     "name": "stderr",
     "output_type": "stream",
     "text": [
      "C:\\Users\\jump1\\anaconda3\\envs\\PythonData\\lib\\site-packages\\sklearn\\model_selection\\_validation.py:593: DataConversionWarning: A column-vector y was passed when a 1d array was expected. Please change the shape of y to (n_samples,), for example using ravel().\n",
      "  estimator.fit(X_train, y_train, **fit_params)\n",
      "C:\\Users\\jump1\\anaconda3\\envs\\PythonData\\lib\\site-packages\\sklearn\\ensemble\\_forest.py:541: UserWarning: Some inputs do not have OOB scores. This probably means too few trees were used to compute any reliable oob estimates.\n",
      "  warn(\"Some inputs do not have OOB scores. \"\n",
      "C:\\Users\\jump1\\anaconda3\\envs\\PythonData\\lib\\site-packages\\sklearn\\ensemble\\_forest.py:546: RuntimeWarning: invalid value encountered in true_divide\n",
      "  predictions[k].sum(axis=1)[:, np.newaxis])\n",
      "C:\\Users\\jump1\\anaconda3\\envs\\PythonData\\lib\\site-packages\\sklearn\\model_selection\\_validation.py:593: DataConversionWarning: A column-vector y was passed when a 1d array was expected. Please change the shape of y to (n_samples,), for example using ravel().\n",
      "  estimator.fit(X_train, y_train, **fit_params)\n"
     ]
    },
    {
     "name": "stdout",
     "output_type": "stream",
     "text": [
      "[CV 2/5] END max_depth=10, max_features=auto, min_samples_split=10, n_estimators=10, oob_score=True; total time=   0.1s\n"
     ]
    },
    {
     "name": "stderr",
     "output_type": "stream",
     "text": [
      "C:\\Users\\jump1\\anaconda3\\envs\\PythonData\\lib\\site-packages\\sklearn\\ensemble\\_forest.py:541: UserWarning: Some inputs do not have OOB scores. This probably means too few trees were used to compute any reliable oob estimates.\n",
      "  warn(\"Some inputs do not have OOB scores. \"\n",
      "C:\\Users\\jump1\\anaconda3\\envs\\PythonData\\lib\\site-packages\\sklearn\\ensemble\\_forest.py:546: RuntimeWarning: invalid value encountered in true_divide\n",
      "  predictions[k].sum(axis=1)[:, np.newaxis])\n",
      "C:\\Users\\jump1\\anaconda3\\envs\\PythonData\\lib\\site-packages\\sklearn\\model_selection\\_validation.py:593: DataConversionWarning: A column-vector y was passed when a 1d array was expected. Please change the shape of y to (n_samples,), for example using ravel().\n",
      "  estimator.fit(X_train, y_train, **fit_params)\n",
      "C:\\Users\\jump1\\anaconda3\\envs\\PythonData\\lib\\site-packages\\sklearn\\ensemble\\_forest.py:541: UserWarning: Some inputs do not have OOB scores. This probably means too few trees were used to compute any reliable oob estimates.\n",
      "  warn(\"Some inputs do not have OOB scores. \"\n"
     ]
    },
    {
     "name": "stdout",
     "output_type": "stream",
     "text": [
      "[CV 3/5] END max_depth=10, max_features=auto, min_samples_split=10, n_estimators=10, oob_score=True; total time=   0.1s\n"
     ]
    },
    {
     "name": "stderr",
     "output_type": "stream",
     "text": [
      "C:\\Users\\jump1\\anaconda3\\envs\\PythonData\\lib\\site-packages\\sklearn\\ensemble\\_forest.py:546: RuntimeWarning: invalid value encountered in true_divide\n",
      "  predictions[k].sum(axis=1)[:, np.newaxis])\n",
      "C:\\Users\\jump1\\anaconda3\\envs\\PythonData\\lib\\site-packages\\sklearn\\model_selection\\_validation.py:593: DataConversionWarning: A column-vector y was passed when a 1d array was expected. Please change the shape of y to (n_samples,), for example using ravel().\n",
      "  estimator.fit(X_train, y_train, **fit_params)\n"
     ]
    },
    {
     "name": "stdout",
     "output_type": "stream",
     "text": [
      "[CV 4/5] END max_depth=10, max_features=auto, min_samples_split=10, n_estimators=10, oob_score=True; total time=   0.1s\n"
     ]
    },
    {
     "name": "stderr",
     "output_type": "stream",
     "text": [
      "C:\\Users\\jump1\\anaconda3\\envs\\PythonData\\lib\\site-packages\\sklearn\\ensemble\\_forest.py:541: UserWarning: Some inputs do not have OOB scores. This probably means too few trees were used to compute any reliable oob estimates.\n",
      "  warn(\"Some inputs do not have OOB scores. \"\n",
      "C:\\Users\\jump1\\anaconda3\\envs\\PythonData\\lib\\site-packages\\sklearn\\ensemble\\_forest.py:546: RuntimeWarning: invalid value encountered in true_divide\n",
      "  predictions[k].sum(axis=1)[:, np.newaxis])\n",
      "C:\\Users\\jump1\\anaconda3\\envs\\PythonData\\lib\\site-packages\\sklearn\\model_selection\\_validation.py:593: DataConversionWarning: A column-vector y was passed when a 1d array was expected. Please change the shape of y to (n_samples,), for example using ravel().\n",
      "  estimator.fit(X_train, y_train, **fit_params)\n"
     ]
    },
    {
     "name": "stdout",
     "output_type": "stream",
     "text": [
      "[CV 5/5] END max_depth=10, max_features=auto, min_samples_split=10, n_estimators=10, oob_score=True; total time=   0.1s\n",
      "[CV 1/5] END max_depth=10, max_features=auto, min_samples_split=10, n_estimators=20, oob_score=True; total time=   0.3s\n"
     ]
    },
    {
     "name": "stderr",
     "output_type": "stream",
     "text": [
      "C:\\Users\\jump1\\anaconda3\\envs\\PythonData\\lib\\site-packages\\sklearn\\model_selection\\_validation.py:593: DataConversionWarning: A column-vector y was passed when a 1d array was expected. Please change the shape of y to (n_samples,), for example using ravel().\n",
      "  estimator.fit(X_train, y_train, **fit_params)\n"
     ]
    },
    {
     "name": "stdout",
     "output_type": "stream",
     "text": [
      "[CV 2/5] END max_depth=10, max_features=auto, min_samples_split=10, n_estimators=20, oob_score=True; total time=   0.3s\n"
     ]
    },
    {
     "name": "stderr",
     "output_type": "stream",
     "text": [
      "C:\\Users\\jump1\\anaconda3\\envs\\PythonData\\lib\\site-packages\\sklearn\\model_selection\\_validation.py:593: DataConversionWarning: A column-vector y was passed when a 1d array was expected. Please change the shape of y to (n_samples,), for example using ravel().\n",
      "  estimator.fit(X_train, y_train, **fit_params)\n",
      "C:\\Users\\jump1\\anaconda3\\envs\\PythonData\\lib\\site-packages\\sklearn\\ensemble\\_forest.py:541: UserWarning: Some inputs do not have OOB scores. This probably means too few trees were used to compute any reliable oob estimates.\n",
      "  warn(\"Some inputs do not have OOB scores. \"\n",
      "C:\\Users\\jump1\\anaconda3\\envs\\PythonData\\lib\\site-packages\\sklearn\\ensemble\\_forest.py:546: RuntimeWarning: invalid value encountered in true_divide\n",
      "  predictions[k].sum(axis=1)[:, np.newaxis])\n",
      "C:\\Users\\jump1\\anaconda3\\envs\\PythonData\\lib\\site-packages\\sklearn\\model_selection\\_validation.py:593: DataConversionWarning: A column-vector y was passed when a 1d array was expected. Please change the shape of y to (n_samples,), for example using ravel().\n",
      "  estimator.fit(X_train, y_train, **fit_params)\n"
     ]
    },
    {
     "name": "stdout",
     "output_type": "stream",
     "text": [
      "[CV 3/5] END max_depth=10, max_features=auto, min_samples_split=10, n_estimators=20, oob_score=True; total time=   0.4s\n"
     ]
    },
    {
     "name": "stderr",
     "output_type": "stream",
     "text": [
      "C:\\Users\\jump1\\anaconda3\\envs\\PythonData\\lib\\site-packages\\sklearn\\ensemble\\_forest.py:541: UserWarning: Some inputs do not have OOB scores. This probably means too few trees were used to compute any reliable oob estimates.\n",
      "  warn(\"Some inputs do not have OOB scores. \"\n",
      "C:\\Users\\jump1\\anaconda3\\envs\\PythonData\\lib\\site-packages\\sklearn\\ensemble\\_forest.py:546: RuntimeWarning: invalid value encountered in true_divide\n",
      "  predictions[k].sum(axis=1)[:, np.newaxis])\n",
      "C:\\Users\\jump1\\anaconda3\\envs\\PythonData\\lib\\site-packages\\sklearn\\model_selection\\_validation.py:593: DataConversionWarning: A column-vector y was passed when a 1d array was expected. Please change the shape of y to (n_samples,), for example using ravel().\n",
      "  estimator.fit(X_train, y_train, **fit_params)\n"
     ]
    },
    {
     "name": "stdout",
     "output_type": "stream",
     "text": [
      "[CV 4/5] END max_depth=10, max_features=auto, min_samples_split=10, n_estimators=20, oob_score=True; total time=   0.4s\n"
     ]
    },
    {
     "name": "stderr",
     "output_type": "stream",
     "text": [
      "C:\\Users\\jump1\\anaconda3\\envs\\PythonData\\lib\\site-packages\\sklearn\\ensemble\\_forest.py:541: UserWarning: Some inputs do not have OOB scores. This probably means too few trees were used to compute any reliable oob estimates.\n",
      "  warn(\"Some inputs do not have OOB scores. \"\n",
      "C:\\Users\\jump1\\anaconda3\\envs\\PythonData\\lib\\site-packages\\sklearn\\ensemble\\_forest.py:546: RuntimeWarning: invalid value encountered in true_divide\n",
      "  predictions[k].sum(axis=1)[:, np.newaxis])\n",
      "C:\\Users\\jump1\\anaconda3\\envs\\PythonData\\lib\\site-packages\\sklearn\\model_selection\\_validation.py:593: DataConversionWarning: A column-vector y was passed when a 1d array was expected. Please change the shape of y to (n_samples,), for example using ravel().\n",
      "  estimator.fit(X_train, y_train, **fit_params)\n"
     ]
    },
    {
     "name": "stdout",
     "output_type": "stream",
     "text": [
      "[CV 5/5] END max_depth=10, max_features=auto, min_samples_split=10, n_estimators=20, oob_score=True; total time=   0.3s\n",
      "[CV 1/5] END max_depth=10, max_features=auto, min_samples_split=10, n_estimators=50, oob_score=True; total time=   0.9s\n"
     ]
    },
    {
     "name": "stderr",
     "output_type": "stream",
     "text": [
      "C:\\Users\\jump1\\anaconda3\\envs\\PythonData\\lib\\site-packages\\sklearn\\model_selection\\_validation.py:593: DataConversionWarning: A column-vector y was passed when a 1d array was expected. Please change the shape of y to (n_samples,), for example using ravel().\n",
      "  estimator.fit(X_train, y_train, **fit_params)\n"
     ]
    },
    {
     "name": "stdout",
     "output_type": "stream",
     "text": [
      "[CV 2/5] END max_depth=10, max_features=auto, min_samples_split=10, n_estimators=50, oob_score=True; total time=   1.1s\n"
     ]
    },
    {
     "name": "stderr",
     "output_type": "stream",
     "text": [
      "C:\\Users\\jump1\\anaconda3\\envs\\PythonData\\lib\\site-packages\\sklearn\\model_selection\\_validation.py:593: DataConversionWarning: A column-vector y was passed when a 1d array was expected. Please change the shape of y to (n_samples,), for example using ravel().\n",
      "  estimator.fit(X_train, y_train, **fit_params)\n"
     ]
    },
    {
     "name": "stdout",
     "output_type": "stream",
     "text": [
      "[CV 3/5] END max_depth=10, max_features=auto, min_samples_split=10, n_estimators=50, oob_score=True; total time=   0.9s\n"
     ]
    },
    {
     "name": "stderr",
     "output_type": "stream",
     "text": [
      "C:\\Users\\jump1\\anaconda3\\envs\\PythonData\\lib\\site-packages\\sklearn\\model_selection\\_validation.py:593: DataConversionWarning: A column-vector y was passed when a 1d array was expected. Please change the shape of y to (n_samples,), for example using ravel().\n",
      "  estimator.fit(X_train, y_train, **fit_params)\n"
     ]
    },
    {
     "name": "stdout",
     "output_type": "stream",
     "text": [
      "[CV 4/5] END max_depth=10, max_features=auto, min_samples_split=10, n_estimators=50, oob_score=True; total time=   1.0s\n"
     ]
    },
    {
     "name": "stderr",
     "output_type": "stream",
     "text": [
      "C:\\Users\\jump1\\anaconda3\\envs\\PythonData\\lib\\site-packages\\sklearn\\model_selection\\_validation.py:593: DataConversionWarning: A column-vector y was passed when a 1d array was expected. Please change the shape of y to (n_samples,), for example using ravel().\n",
      "  estimator.fit(X_train, y_train, **fit_params)\n"
     ]
    },
    {
     "name": "stdout",
     "output_type": "stream",
     "text": [
      "[CV 5/5] END max_depth=10, max_features=auto, min_samples_split=10, n_estimators=50, oob_score=True; total time=   1.1s\n"
     ]
    },
    {
     "name": "stderr",
     "output_type": "stream",
     "text": [
      "C:\\Users\\jump1\\anaconda3\\envs\\PythonData\\lib\\site-packages\\sklearn\\model_selection\\_validation.py:593: DataConversionWarning: A column-vector y was passed when a 1d array was expected. Please change the shape of y to (n_samples,), for example using ravel().\n",
      "  estimator.fit(X_train, y_train, **fit_params)\n"
     ]
    },
    {
     "name": "stdout",
     "output_type": "stream",
     "text": [
      "[CV 1/5] END max_depth=10, max_features=auto, min_samples_split=10, n_estimators=100, oob_score=True; total time=   1.8s\n"
     ]
    },
    {
     "name": "stderr",
     "output_type": "stream",
     "text": [
      "C:\\Users\\jump1\\anaconda3\\envs\\PythonData\\lib\\site-packages\\sklearn\\model_selection\\_validation.py:593: DataConversionWarning: A column-vector y was passed when a 1d array was expected. Please change the shape of y to (n_samples,), for example using ravel().\n",
      "  estimator.fit(X_train, y_train, **fit_params)\n"
     ]
    },
    {
     "name": "stdout",
     "output_type": "stream",
     "text": [
      "[CV 2/5] END max_depth=10, max_features=auto, min_samples_split=10, n_estimators=100, oob_score=True; total time=   1.7s\n"
     ]
    },
    {
     "name": "stderr",
     "output_type": "stream",
     "text": [
      "C:\\Users\\jump1\\anaconda3\\envs\\PythonData\\lib\\site-packages\\sklearn\\model_selection\\_validation.py:593: DataConversionWarning: A column-vector y was passed when a 1d array was expected. Please change the shape of y to (n_samples,), for example using ravel().\n",
      "  estimator.fit(X_train, y_train, **fit_params)\n"
     ]
    },
    {
     "name": "stdout",
     "output_type": "stream",
     "text": [
      "[CV 3/5] END max_depth=10, max_features=auto, min_samples_split=10, n_estimators=100, oob_score=True; total time=   1.7s\n"
     ]
    },
    {
     "name": "stderr",
     "output_type": "stream",
     "text": [
      "C:\\Users\\jump1\\anaconda3\\envs\\PythonData\\lib\\site-packages\\sklearn\\model_selection\\_validation.py:593: DataConversionWarning: A column-vector y was passed when a 1d array was expected. Please change the shape of y to (n_samples,), for example using ravel().\n",
      "  estimator.fit(X_train, y_train, **fit_params)\n"
     ]
    },
    {
     "name": "stdout",
     "output_type": "stream",
     "text": [
      "[CV 4/5] END max_depth=10, max_features=auto, min_samples_split=10, n_estimators=100, oob_score=True; total time=   1.6s\n"
     ]
    },
    {
     "name": "stderr",
     "output_type": "stream",
     "text": [
      "C:\\Users\\jump1\\anaconda3\\envs\\PythonData\\lib\\site-packages\\sklearn\\model_selection\\_validation.py:593: DataConversionWarning: A column-vector y was passed when a 1d array was expected. Please change the shape of y to (n_samples,), for example using ravel().\n",
      "  estimator.fit(X_train, y_train, **fit_params)\n"
     ]
    },
    {
     "name": "stdout",
     "output_type": "stream",
     "text": [
      "[CV 5/5] END max_depth=10, max_features=auto, min_samples_split=10, n_estimators=100, oob_score=True; total time=   1.6s\n"
     ]
    },
    {
     "name": "stderr",
     "output_type": "stream",
     "text": [
      "C:\\Users\\jump1\\anaconda3\\envs\\PythonData\\lib\\site-packages\\sklearn\\model_selection\\_search.py:880: DataConversionWarning: A column-vector y was passed when a 1d array was expected. Please change the shape of y to (n_samples,), for example using ravel().\n",
      "  self.best_estimator_.fit(X, y, **fit_params)\n"
     ]
    },
    {
     "data": {
      "text/plain": [
       "GridSearchCV(estimator=RandomForestClassifier(n_estimators=1000), n_jobs=1,\n",
       "             param_grid={'max_depth': [1, 5, 10], 'max_features': ['auto'],\n",
       "                         'min_samples_split': [2, 5, 10],\n",
       "                         'n_estimators': [10, 20, 50, 100],\n",
       "                         'oob_score': [True]},\n",
       "             verbose=3)"
      ]
     },
     "execution_count": 45,
     "metadata": {},
     "output_type": "execute_result"
    }
   ],
   "source": [
    "# Train the model utils GridSearchgri\n",
    "# import random\n",
    "# random.seed(0)\n",
    "# from sklearn.utils import parallel_backend\n",
    "\n",
    "# with parallel_backend('threading'):\n",
    "grid.fit(X_train, y_train)"
   ]
  },
  {
   "cell_type": "code",
   "execution_count": 46,
   "metadata": {},
   "outputs": [
    {
     "name": "stdout",
     "output_type": "stream",
     "text": [
      "{'max_depth': 10, 'max_features': 'auto', 'min_samples_split': 5, 'n_estimators': 50, 'oob_score': True}\n"
     ]
    }
   ],
   "source": [
    "print(grid.best_params_)\n"
   ]
  },
  {
   "cell_type": "code",
   "execution_count": 47,
   "metadata": {},
   "outputs": [
    {
     "name": "stdout",
     "output_type": "stream",
     "text": [
      "0.7642567621653483\n"
     ]
    }
   ],
   "source": [
    "print(grid.best_score_)"
   ]
  },
  {
   "cell_type": "code",
   "execution_count": 48,
   "metadata": {},
   "outputs": [
    {
     "name": "stdout",
     "output_type": "stream",
     "text": [
      "Test accuracy: 0.784\n"
     ]
    }
   ],
   "source": [
    "RFC = grid.best_estimator_\n",
    "print('Test accuracy: %.3f' % RFC.score(X_test, y_test))"
   ]
  },
  {
   "cell_type": "markdown",
   "metadata": {},
   "source": [
    "# Save the Model"
   ]
  },
  {
   "cell_type": "code",
   "execution_count": 19,
   "metadata": {},
   "outputs": [
    {
     "data": {
      "text/plain": [
       "['JuliannPezzullo.sav']"
      ]
     },
     "execution_count": 19,
     "metadata": {},
     "output_type": "execute_result"
    }
   ],
   "source": [
    "# save your model by updating \"your_name\" with your name\n",
    "# and \"your_model\" with your model variable\n",
    "# be sure to turn this in to BCS\n",
    "# if joblib fails to import, try running the command to install in terminal/git-bash\n",
    "import joblib\n",
    "filename = 'JuliannPezzullo-RF.sav'\n",
    "joblib.dump(rf, filename)"
   ]
  },
  {
   "cell_type": "code",
   "execution_count": null,
   "metadata": {},
   "outputs": [],
   "source": []
  }
 ],
 "metadata": {
  "kernel_info": {
   "name": "dev"
  },
  "kernelspec": {
   "display_name": "Python [conda env:PythonData] *",
   "language": "python",
   "name": "conda-env-PythonData-py"
  },
  "language_info": {
   "codemirror_mode": {
    "name": "ipython",
    "version": 3
   },
   "file_extension": ".py",
   "mimetype": "text/x-python",
   "name": "python",
   "nbconvert_exporter": "python",
   "pygments_lexer": "ipython3",
   "version": "3.6.10"
  },
  "nteract": {
   "version": "0.12.3"
  }
 },
 "nbformat": 4,
 "nbformat_minor": 2
}
